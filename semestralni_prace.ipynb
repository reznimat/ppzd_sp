{
  "nbformat": 4,
  "nbformat_minor": 0,
  "metadata": {
    "colab": {
      "provenance": [],
      "toc_visible": true,
      "authorship_tag": "ABX9TyO56xNnqVDcciB1R6ukuFzW",
      "include_colab_link": true
    },
    "kernelspec": {
      "name": "python3",
      "display_name": "Python 3"
    },
    "language_info": {
      "name": "python"
    }
  },
  "cells": [
    {
      "cell_type": "markdown",
      "metadata": {
        "id": "view-in-github",
        "colab_type": "text"
      },
      "source": [
        "<a href=\"https://colab.research.google.com/github/reznimat/ppzd_sp/blob/main/semestralni_prace.ipynb\" target=\"_parent\"><img src=\"https://colab.research.google.com/assets/colab-badge.svg\" alt=\"Open In Colab\"/></a>"
      ]
    },
    {
      "cell_type": "markdown",
      "source": [
        "**Načtení knihoven**"
      ],
      "metadata": {
        "id": "iNSCLwPV8KFw"
      }
    },
    {
      "cell_type": "code",
      "source": [
        "import csv\n",
        "import pandas as pd\n",
        "import math as mt\n",
        "import datetime as dt"
      ],
      "metadata": {
        "id": "Fx7NIFKj8G8z"
      },
      "execution_count": 13,
      "outputs": []
    },
    {
      "cell_type": "markdown",
      "source": [
        "**Načtení datových souborů**"
      ],
      "metadata": {
        "id": "WKohccUD7Sgu"
      }
    },
    {
      "cell_type": "code",
      "execution_count": 28,
      "metadata": {
        "colab": {
          "base_uri": "https://localhost:8080/"
        },
        "id": "62D1J0lwqqpz",
        "outputId": "f5a8c83a-6b76-4038-fc50-7145a0465447"
      },
      "outputs": [
        {
          "output_type": "stream",
          "name": "stdout",
          "text": [
            "Sales\n",
            "CustomerID             52924\n",
            "Transaction_ID         52924\n",
            "Transaction_Date       52924\n",
            "Product_SKU            52924\n",
            "Product_Description    52924\n",
            "Product_Category       52924\n",
            "Quantity               52924\n",
            "Avg_Price              52924\n",
            "Delivery_Charges       52924\n",
            "Coupon_Status          52924\n",
            "dtype: int64\n",
            "\n",
            "------\n",
            "\n",
            "Coupons\n",
            "Month               204\n",
            "Product_Category    204\n",
            "Coupon_Code         204\n",
            "Discount_pct        204\n",
            "dtype: int64\n"
          ]
        }
      ],
      "source": [
        "url_sales = 'https://raw.githubusercontent.com/reznimat/ppzd_sp/main/Online_Sales.csv'\n",
        "df_sales = pd.read_csv(url_sales)\n",
        "\n",
        "url_coupons = 'https://raw.githubusercontent.com/reznimat/ppzd_sp/main/Discount_Coupon.csv'\n",
        "df_coupons = pd.read_csv(url_coupons,sep=\";\")\n",
        "\n",
        "print('Sales')\n",
        "print(df_sales.count())\n",
        "print('\\n------\\n')\n",
        "print('Coupons')\n",
        "print(df_coupons.count())\n"
      ]
    },
    {
      "cell_type": "markdown",
      "source": [
        "**Obohacení df_sales o atrinbut Month (Date Abrv)**"
      ],
      "metadata": {
        "id": "ddUgo2YULu-U"
      }
    },
    {
      "cell_type": "code",
      "source": [
        "# Obohacení df_sales o Month pole\n",
        "for i, row in df_sales.iterrows():\n",
        "  Month = pd.to_datetime(row.Transaction_Date).strftime(\"%b\")\n",
        "  df_sales[\"Month\"] = Month\n",
        "\n",
        "print('Sales')\n",
        "print(df_sales.count())"
      ],
      "metadata": {
        "colab": {
          "base_uri": "https://localhost:8080/"
        },
        "id": "j2Zmc30QJZRy",
        "outputId": "789db7cb-4db7-4a06-a7fa-0ce21e2b46e3"
      },
      "execution_count": 29,
      "outputs": [
        {
          "output_type": "stream",
          "name": "stdout",
          "text": [
            "Sales\n",
            "CustomerID             52924\n",
            "Transaction_ID         52924\n",
            "Transaction_Date       52924\n",
            "Product_SKU            52924\n",
            "Product_Description    52924\n",
            "Product_Category       52924\n",
            "Quantity               52924\n",
            "Avg_Price              52924\n",
            "Delivery_Charges       52924\n",
            "Coupon_Status          52924\n",
            "Month                  52924\n",
            "dtype: int64\n"
          ]
        }
      ]
    },
    {
      "cell_type": "markdown",
      "source": [
        "**Spojení sales a coupons tabulek přes Product_Category a Month**"
      ],
      "metadata": {
        "id": "QSprzQTzMACk"
      }
    },
    {
      "cell_type": "code",
      "source": [
        "#Merge Sales a Coupons na základě Product Category a Month\n",
        "df_sales_coupons = pd.merge(df_sales,df_coupons, on=[\"Product_Category\",\"Month\"])\n",
        "\n",
        "print(df_sales_coupons.count())"
      ],
      "metadata": {
        "id": "S5aamdr6MIQP",
        "outputId": "d23788f5-0d7b-4f7a-b678-7ad4e881af6e",
        "colab": {
          "base_uri": "https://localhost:8080/"
        }
      },
      "execution_count": 30,
      "outputs": [
        {
          "output_type": "stream",
          "name": "stdout",
          "text": [
            "CustomerID             52524\n",
            "Transaction_ID         52524\n",
            "Transaction_Date       52524\n",
            "Product_SKU            52524\n",
            "Product_Description    52524\n",
            "Product_Category       52524\n",
            "Quantity               52524\n",
            "Avg_Price              52524\n",
            "Delivery_Charges       52524\n",
            "Coupon_Status          52524\n",
            "Month                  52524\n",
            "Coupon_Code            52524\n",
            "Discount_pct           52524\n",
            "dtype: int64\n"
          ]
        }
      ]
    },
    {
      "cell_type": "markdown",
      "source": [
        "**Počet a výpis jedinečných produktových kategorií**"
      ],
      "metadata": {
        "id": "yPs5tmfQ7pls"
      }
    },
    {
      "cell_type": "code",
      "source": [
        "# Počet a výpis distinktních produktových kategorií\n",
        "uniq = set()\n",
        "for i, row in df_sales.iterrows():\n",
        "  uniq.add(row[\"Product_Category\"])\n",
        "\n",
        "print(\"Produktových kategorií: \"+ str(len(uniq)) )  # vypíše počet produktových kategorií\n",
        "print(uniq)  # vypíše seznam produktových kategorií"
      ],
      "metadata": {
        "colab": {
          "base_uri": "https://localhost:8080/"
        },
        "id": "h6V-Fgpg7qJL",
        "outputId": "c751b64d-cda0-4224-8a95-16459c72413a"
      },
      "execution_count": 8,
      "outputs": [
        {
          "output_type": "stream",
          "name": "stdout",
          "text": [
            "Produktových kategorií: 20\n",
            "{'Android', 'Google', 'Office', 'Notebooks & Journals', 'Bottles', 'Drinkware', 'Bags', 'Nest-Canada', 'Fun', 'More Bags', 'Nest', 'Gift Cards', 'Lifestyle', 'Backpacks', 'Housewares', 'Apparel', 'Waze', 'Headgear', 'Nest-USA', 'Accessories'}\n"
          ]
        }
      ]
    },
    {
      "cell_type": "markdown",
      "source": [
        "**Suma tržeb pro kategorii Apparel** (bez započítání slev)"
      ],
      "metadata": {
        "id": "xacjIhxA72w-"
      }
    },
    {
      "cell_type": "code",
      "source": [
        "# Hint: InvoiceValue = (( QuantityAvg_price)(1-Dicount_pct)*(1+GST))+Delivery_Charges\n",
        "# nejsou odečtené slevy a započítány náklady na dopravu a daně\n",
        "\n",
        "ApparelSales = 0\n",
        "AvgOrderPrice = 0\n",
        "\n",
        "for i, row in df_sales.iterrows():\n",
        "  if row.Product_Category == 'Apparel':\n",
        "    ApparelSales += row.Quantity*row.Avg_Price\n",
        "\n",
        "\n",
        "print(ApparelSales)"
      ],
      "metadata": {
        "colab": {
          "base_uri": "https://localhost:8080/"
        },
        "id": "uy-669Yw73G-",
        "outputId": "37cfe4d7-ab91-4147-adb1-8e2c52027482"
      },
      "execution_count": 10,
      "outputs": [
        {
          "output_type": "stream",
          "name": "stdout",
          "text": [
            "591145.8000000062\n"
          ]
        }
      ]
    }
  ]
}