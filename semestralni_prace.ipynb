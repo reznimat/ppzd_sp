{
  "nbformat": 4,
  "nbformat_minor": 0,
  "metadata": {
    "colab": {
      "provenance": [],
      "toc_visible": true,
      "authorship_tag": "ABX9TyOYk4m6VihKNrVQS4qtkIlB",
      "include_colab_link": true
    },
    "kernelspec": {
      "name": "python3",
      "display_name": "Python 3"
    },
    "language_info": {
      "name": "python"
    }
  },
  "cells": [
    {
      "cell_type": "markdown",
      "metadata": {
        "id": "view-in-github",
        "colab_type": "text"
      },
      "source": [
        "<a href=\"https://colab.research.google.com/github/reznimat/ppzd_sp/blob/main/semestralni_prace.ipynb\" target=\"_parent\"><img src=\"https://colab.research.google.com/assets/colab-badge.svg\" alt=\"Open In Colab\"/></a>"
      ]
    },
    {
      "cell_type": "markdown",
      "source": [
        "**Načtení knihoven**"
      ],
      "metadata": {
        "id": "iNSCLwPV8KFw"
      }
    },
    {
      "cell_type": "code",
      "source": [
        "import csv\n",
        "import pandas as pd\n",
        "import math as mt"
      ],
      "metadata": {
        "id": "Fx7NIFKj8G8z"
      },
      "execution_count": 13,
      "outputs": []
    },
    {
      "cell_type": "markdown",
      "source": [
        "**Načtení datových souborů**"
      ],
      "metadata": {
        "id": "WKohccUD7Sgu"
      }
    },
    {
      "cell_type": "code",
      "execution_count": 55,
      "metadata": {
        "colab": {
          "base_uri": "https://localhost:8080/"
        },
        "id": "62D1J0lwqqpz",
        "outputId": "b73a7fb6-eea4-4eab-ede7-1bc87632fd61"
      },
      "outputs": [
        {
          "output_type": "stream",
          "name": "stdout",
          "text": [
            "**Sales**\n",
            "CustomerID             52924\n",
            "Transaction_ID         52924\n",
            "Transaction_Date       52924\n",
            "Product_SKU            52924\n",
            "Product_Description    52924\n",
            "Product_Category       52924\n",
            "Quantity               52924\n",
            "Avg_Price              52924\n",
            "Delivery_Charges       52924\n",
            "Coupon_Status          52924\n",
            "dtype: int64\n",
            "\n",
            "------\n",
            "\n",
            "**Coupons**\n",
            "Month               204\n",
            "Product_Category    204\n",
            "Coupon_Code         204\n",
            "Discount_pct        204\n",
            "dtype: int64\n"
          ]
        }
      ],
      "source": [
        "# POZOR, pouze vzorek dat\n",
        "#url_sales = 'https://raw.githubusercontent.com/reznimat/ppzd_sp/main/SAMPLE_Online_Sales.csv'\n",
        "url_sales = 'https://raw.githubusercontent.com/reznimat/ppzd_sp/main/Online_Sales.csv'\n",
        "df_sales = pd.read_csv(url_sales)\n",
        "\n",
        "url_coupons = 'https://raw.githubusercontent.com/reznimat/ppzd_sp/main/Discount_Coupon.csv'\n",
        "df_coupons = pd.read_csv(url_coupons,sep=\";\")\n",
        "\n",
        "print('**Sales**')\n",
        "print(df_sales.count())\n",
        "print('\\n------\\n')\n",
        "print('**Coupons**')\n",
        "print(df_coupons.count())\n"
      ]
    },
    {
      "cell_type": "markdown",
      "source": [
        "**Obohacení df_sales o atribut Month (Date Abrv)**"
      ],
      "metadata": {
        "id": "ddUgo2YULu-U"
      }
    },
    {
      "cell_type": "code",
      "source": [
        "# Obohacení df_sales o Month pole\n",
        "for i, row in df_sales.iterrows():\n",
        "  Month = pd.to_datetime(row.Transaction_Date).strftime(\"%b\")\n",
        "  df_sales[\"Month\"] = Month\n",
        "\n",
        "print('**Sales**')\n",
        "print(df_sales.count())"
      ],
      "metadata": {
        "colab": {
          "base_uri": "https://localhost:8080/"
        },
        "id": "j2Zmc30QJZRy",
        "outputId": "ef15821d-6e30-4146-b171-8dac677b2edb"
      },
      "execution_count": 56,
      "outputs": [
        {
          "output_type": "stream",
          "name": "stdout",
          "text": [
            "**Sales**\n",
            "CustomerID             52924\n",
            "Transaction_ID         52924\n",
            "Transaction_Date       52924\n",
            "Product_SKU            52924\n",
            "Product_Description    52924\n",
            "Product_Category       52924\n",
            "Quantity               52924\n",
            "Avg_Price              52924\n",
            "Delivery_Charges       52924\n",
            "Coupon_Status          52924\n",
            "Month                  52924\n",
            "dtype: int64\n"
          ]
        }
      ]
    },
    {
      "cell_type": "markdown",
      "source": [
        "**Spojení sales a coupons tabulek přes Product_Category a Month**"
      ],
      "metadata": {
        "id": "QSprzQTzMACk"
      }
    },
    {
      "cell_type": "code",
      "source": [
        "#Merge Sales a Coupons na základě Product Category a Month\n",
        "df_sales_coupons = pd.merge(df_sales,df_coupons, on=[\"Product_Category\",\"Month\"])\n",
        "\n",
        "print(df_sales_coupons.count())"
      ],
      "metadata": {
        "colab": {
          "base_uri": "https://localhost:8080/"
        },
        "id": "S5aamdr6MIQP",
        "outputId": "9f286ae2-b699-4969-a80c-5e3b39b57c89"
      },
      "execution_count": 57,
      "outputs": [
        {
          "output_type": "stream",
          "name": "stdout",
          "text": [
            "CustomerID             52524\n",
            "Transaction_ID         52524\n",
            "Transaction_Date       52524\n",
            "Product_SKU            52524\n",
            "Product_Description    52524\n",
            "Product_Category       52524\n",
            "Quantity               52524\n",
            "Avg_Price              52524\n",
            "Delivery_Charges       52524\n",
            "Coupon_Status          52524\n",
            "Month                  52524\n",
            "Coupon_Code            52524\n",
            "Discount_pct           52524\n",
            "dtype: int64\n"
          ]
        }
      ]
    },
    {
      "cell_type": "markdown",
      "source": [
        "**Počet a výpis jedinečných produktových kategorií**"
      ],
      "metadata": {
        "id": "yPs5tmfQ7pls"
      }
    },
    {
      "cell_type": "code",
      "source": [
        "# Počet a výpis distinktních produktových kategorií\n",
        "uniqPC = set()\n",
        "for i, row in df_sales.iterrows():\n",
        "  uniqPC.add(row[\"Product_Category\"])\n",
        "\n",
        "print(\"Produktových kategorií: \"+ str(len(uniqPC)) )  # vypíše počet produktových kategorií\n",
        "print(uniqPC)  # vypíše seznam produktových kategorií"
      ],
      "metadata": {
        "colab": {
          "base_uri": "https://localhost:8080/"
        },
        "id": "h6V-Fgpg7qJL",
        "outputId": "7acdfe1e-28d8-4350-f098-5fbc557249fe"
      },
      "execution_count": 58,
      "outputs": [
        {
          "output_type": "stream",
          "name": "stdout",
          "text": [
            "Produktových kategorií: 20\n",
            "{'Android', 'Google', 'Office', 'Notebooks & Journals', 'Bottles', 'Drinkware', 'Bags', 'Nest-Canada', 'Fun', 'More Bags', 'Nest', 'Gift Cards', 'Lifestyle', 'Backpacks', 'Housewares', 'Apparel', 'Waze', 'Headgear', 'Nest-USA', 'Accessories'}\n"
          ]
        }
      ]
    },
    {
      "cell_type": "markdown",
      "source": [
        "**Suma tržeb pro kategorii Apparel**"
      ],
      "metadata": {
        "id": "xacjIhxA72w-"
      }
    },
    {
      "cell_type": "code",
      "source": [
        "# Hint: InvoiceValue = (( QuantityAvg_price)(1-Dicount_pct)*(1+GST))+Delivery_Charges\n",
        "# nejsou započítány náklady na dopravu a daně\n",
        "\n",
        "ApparelSales = 0\n",
        "AvgOrderPrice = 0\n",
        "\n",
        "for i, row in df_sales_coupons.iterrows():\n",
        "  if row.Product_Category == 'Apparel':\n",
        "    if row.Coupon_Status =='Not Used':\n",
        "      ApparelSales += (row.Quantity*row.Avg_Price) # Bez slevy\n",
        "    else:\n",
        "      ApparelSales += (row.Quantity*row.Avg_Price)*(1-(row.Discount_pct/100)) # Se slevou\n",
        "\n",
        "print(ApparelSales)"
      ],
      "metadata": {
        "colab": {
          "base_uri": "https://localhost:8080/"
        },
        "id": "uy-669Yw73G-",
        "outputId": "640dfc82-7998-4e28-93e1-5bf74d87a1ff"
      },
      "execution_count": 59,
      "outputs": [
        {
          "output_type": "stream",
          "name": "stdout",
          "text": [
            "442432.6169999865\n"
          ]
        }
      ]
    },
    {
      "cell_type": "markdown",
      "source": [
        "**Tržby po kategoriích**"
      ],
      "metadata": {
        "id": "OlDiUSblYJUx"
      }
    },
    {
      "cell_type": "code",
      "source": [
        "for kategorie in uniqPC:\n",
        "  CategorySales = 0\n",
        "  for i, row in df_sales_coupons.iterrows():\n",
        "    if row.Product_Category == kategorie:\n",
        "      if row.Coupon_Status =='Not Used':\n",
        "        CategorySales += (row.Quantity*row.Avg_Price) # Bez slevy\n",
        "      else:\n",
        "        CategorySales += (row.Quantity*row.Avg_Price)*(1-(row.Discount_pct/100)) # Se slevou\n",
        "\n",
        "  print(kategorie,CategorySales)"
      ],
      "metadata": {
        "colab": {
          "base_uri": "https://localhost:8080/"
        },
        "id": "zlisU2XgYNJz",
        "outputId": "6b7ec0c2-9bbb-472e-c877-068df853e2c3"
      },
      "execution_count": 60,
      "outputs": [
        {
          "output_type": "stream",
          "name": "stdout",
          "text": [
            "Android 549.561\n",
            "Google 0\n",
            "Office 204502.85999999836\n",
            "Notebooks & Journals 82774.62299999982\n",
            "Bottles 5115.91899999999\n",
            "Drinkware 150824.03099999993\n",
            "Bags 113498.33500000046\n",
            "Nest-Canada 53117.49900000007\n",
            "Fun 0\n",
            "More Bags 0\n",
            "Nest 387210.79399999086\n",
            "Gift Cards 14585.134\n",
            "Lifestyle 55484.46399999944\n",
            "Backpacks 0\n",
            "Housewares 3555.649000000001\n",
            "Apparel 442432.6169999865\n",
            "Waze 4736.465999999992\n",
            "Headgear 38873.20000000003\n",
            "Nest-USA 1905998.3870002662\n",
            "Accessories 5539.064999999993\n"
          ]
        }
      ]
    }
  ]
}