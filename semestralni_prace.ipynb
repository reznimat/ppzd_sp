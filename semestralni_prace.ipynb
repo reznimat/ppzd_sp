{
  "nbformat": 4,
  "nbformat_minor": 0,
  "metadata": {
    "colab": {
      "provenance": [],
      "toc_visible": true,
      "authorship_tag": "ABX9TyM+iIExr+J4gKnbQLMgVnV5",
      "include_colab_link": true
    },
    "kernelspec": {
      "name": "python3",
      "display_name": "Python 3"
    },
    "language_info": {
      "name": "python"
    }
  },
  "cells": [
    {
      "cell_type": "markdown",
      "metadata": {
        "id": "view-in-github",
        "colab_type": "text"
      },
      "source": [
        "<a href=\"https://colab.research.google.com/github/reznimat/ppzd_sp/blob/main/semestralni_prace.ipynb\" target=\"_parent\"><img src=\"https://colab.research.google.com/assets/colab-badge.svg\" alt=\"Open In Colab\"/></a>"
      ]
    },
    {
      "cell_type": "markdown",
      "source": [
        "**Načtení knihoven**"
      ],
      "metadata": {
        "id": "iNSCLwPV8KFw"
      }
    },
    {
      "cell_type": "code",
      "source": [
        "import csv\n",
        "import pandas as pd\n",
        "import math as mt"
      ],
      "metadata": {
        "id": "Fx7NIFKj8G8z"
      },
      "execution_count": 13,
      "outputs": []
    },
    {
      "cell_type": "markdown",
      "source": [
        "**Načtení datových souborů**"
      ],
      "metadata": {
        "id": "WKohccUD7Sgu"
      }
    },
    {
      "cell_type": "code",
      "execution_count": 36,
      "metadata": {
        "colab": {
          "base_uri": "https://localhost:8080/"
        },
        "id": "62D1J0lwqqpz",
        "outputId": "57257438-7230-4efd-f559-19ef2db82d3b"
      },
      "outputs": [
        {
          "output_type": "stream",
          "name": "stdout",
          "text": [
            "**Sales**\n",
            "CustomerID             30\n",
            "Transaction_ID         30\n",
            "Transaction_Date       30\n",
            "Product_SKU            30\n",
            "Product_Description    30\n",
            "Product_Category       30\n",
            "Quantity               30\n",
            "Avg_Price              30\n",
            "Delivery_Charges       30\n",
            "Coupon_Status          30\n",
            "dtype: int64\n",
            "\n",
            "------\n",
            "\n",
            "**Coupons**\n",
            "Month               204\n",
            "Product_Category    204\n",
            "Coupon_Code         204\n",
            "Discount_pct        204\n",
            "dtype: int64\n"
          ]
        }
      ],
      "source": [
        "# POZOR, pouze vzorek dat\n",
        "url_sales = 'https://raw.githubusercontent.com/reznimat/ppzd_sp/main/SAMPLE_Online_Sales.csv'\n",
        "df_sales = pd.read_csv(url_sales)\n",
        "\n",
        "url_coupons = 'https://raw.githubusercontent.com/reznimat/ppzd_sp/main/Discount_Coupon.csv'\n",
        "df_coupons = pd.read_csv(url_coupons,sep=\";\")\n",
        "\n",
        "print('**Sales**')\n",
        "print(df_sales.count())\n",
        "print('\\n------\\n')\n",
        "print('**Coupons**')\n",
        "print(df_coupons.count())\n"
      ]
    },
    {
      "cell_type": "markdown",
      "source": [
        "**Obohacení df_sales o atribut Month (Date Abrv)**"
      ],
      "metadata": {
        "id": "ddUgo2YULu-U"
      }
    },
    {
      "cell_type": "code",
      "source": [
        "# Obohacení df_sales o Month pole\n",
        "for i, row in df_sales.iterrows():\n",
        "  Month = pd.to_datetime(row.Transaction_Date).strftime(\"%b\")\n",
        "  df_sales[\"Month\"] = Month\n",
        "\n",
        "print('**Sales**')\n",
        "print(df_sales.count())"
      ],
      "metadata": {
        "colab": {
          "base_uri": "https://localhost:8080/"
        },
        "id": "j2Zmc30QJZRy",
        "outputId": "9737b5b6-d08f-4890-8421-3d23e49f7e29"
      },
      "execution_count": 37,
      "outputs": [
        {
          "output_type": "stream",
          "name": "stdout",
          "text": [
            "**Sales**\n",
            "CustomerID             30\n",
            "Transaction_ID         30\n",
            "Transaction_Date       30\n",
            "Product_SKU            30\n",
            "Product_Description    30\n",
            "Product_Category       30\n",
            "Quantity               30\n",
            "Avg_Price              30\n",
            "Delivery_Charges       30\n",
            "Coupon_Status          30\n",
            "Month                  30\n",
            "dtype: int64\n"
          ]
        }
      ]
    },
    {
      "cell_type": "markdown",
      "source": [
        "**Spojení sales a coupons tabulek přes Product_Category a Month**"
      ],
      "metadata": {
        "id": "QSprzQTzMACk"
      }
    },
    {
      "cell_type": "code",
      "source": [
        "#Merge Sales a Coupons na základě Product Category a Month\n",
        "df_sales_coupons = pd.merge(df_sales,df_coupons, on=[\"Product_Category\",\"Month\"])\n",
        "\n",
        "print(df_sales_coupons.count())"
      ],
      "metadata": {
        "colab": {
          "base_uri": "https://localhost:8080/"
        },
        "id": "S5aamdr6MIQP",
        "outputId": "cc343150-384e-4963-ac18-b9f1a6a71ea6"
      },
      "execution_count": 38,
      "outputs": [
        {
          "output_type": "stream",
          "name": "stdout",
          "text": [
            "    CustomerID  Transaction_ID Transaction_Date     Product_SKU  \\\n",
            "0        17850           16679         1/1/2019  GGOENEBJ079499   \n",
            "1        17850           16680         1/1/2019  GGOENEBJ079499   \n",
            "2        13047           16684         1/1/2019  GGOENEBQ078999   \n",
            "3        13047           16684         1/1/2019  GGOENEBQ079199   \n",
            "4        13047           16688         1/1/2019  GGOENEBB078899   \n",
            "5        13047           16689         1/1/2019  GGOENEBJ079499   \n",
            "6        17850           16681         1/1/2019  GGOEGFKQ020399   \n",
            "7        13047           16682         1/1/2019  GGOEGGOA017399   \n",
            "8        13047           16682         1/1/2019  GGOEGOFH020299   \n",
            "9        13047           16682         1/1/2019  GGOEGOXQ016399   \n",
            "10       13047           16687         1/1/2019  GGOEGGOA017399   \n",
            "11       13047           16687         1/1/2019  GGOEGOAQ012899   \n",
            "12       13047           16687         1/1/2019  GGOEGOAR021999   \n",
            "13       13047           16687         1/1/2019  GGOEGOBG023599   \n",
            "14       13047           16687         1/1/2019  GGOEGOLC013299   \n",
            "15       12583           16692         1/1/2019  GGOEAFKQ020599   \n",
            "16       12583           16692         1/1/2019  GGOEGFKQ020399   \n",
            "17       12583           16692         1/1/2019  GGOEYFKQ020699   \n",
            "18       17850           16682         1/1/2019  GGOEGAAB010516   \n",
            "19       13047           16682         1/1/2019  GGOEYAAB031816   \n",
            "20       13047           16685         1/1/2019  GGOEGAAR010714   \n",
            "21       13047           16685         1/1/2019  GGOEGAEQ027913   \n",
            "22       17850           16682         1/1/2019  GGOEGBJL013999   \n",
            "23       17850           16682         1/1/2019  GGOEGBMJ013399   \n",
            "24       17850           16682         1/1/2019  GGOEGDHC018299   \n",
            "25       17850           16682         1/1/2019  GGOEGDHG014499   \n",
            "26       17850           16682         1/1/2019  GGOEGDWC020199   \n",
            "27       13047           16685         1/1/2019  GGOEGDWR015799   \n",
            "28       12583           16692         1/1/2019  GGOEGDHC015299   \n",
            "29       13047           16687         1/1/2019  GGOEGFQB013799   \n",
            "\n",
            "                                  Product_Description Product_Category  \\\n",
            "0   Nest Learning Thermostat 3rd Gen-USA - Stainle...         Nest-USA   \n",
            "1   Nest Learning Thermostat 3rd Gen-USA - Stainle...         Nest-USA   \n",
            "2              Nest Cam Outdoor Security Camera - USA         Nest-USA   \n",
            "3       Nest Protect Smoke + CO White Wired Alarm-USA         Nest-USA   \n",
            "4               Nest Cam Indoor Security Camera - USA         Nest-USA   \n",
            "5   Nest Learning Thermostat 3rd Gen-USA - Stainle...         Nest-USA   \n",
            "6               Google Laptop and Cell Phone Stickers           Office   \n",
            "7                                            Maze Pen           Office   \n",
            "8                        Galaxy Screen Cleaning Cloth           Office   \n",
            "9                                        Badge Holder           Office   \n",
            "10                                           Maze Pen           Office   \n",
            "11                            Ballpoint LED Light Pen           Office   \n",
            "12                            Color Changing Grip Pen           Office   \n",
            "13                                 Colored Pencil Set           Office   \n",
            "14                        Spiral Notebook and Pen Set           Office   \n",
            "15              Android Sticker Sheet Ultra Removable           Office   \n",
            "16              Google Laptop and Cell Phone Stickers           Office   \n",
            "17                              YouTube Custom Decals           Office   \n",
            "18  Google Men's 100% Cotton Short Sleeve Hero Tee...          Apparel   \n",
            "19          YouTube Men's Short Sleeve Hero Tee Black          Apparel   \n",
            "20  Google Men's 100% Cotton Short Sleeve Hero Tee...          Apparel   \n",
            "21         Google Women's Short Sleeve Hero Tee White          Apparel   \n",
            "22                    Google Canvas Tote Natural/Navy             Bags   \n",
            "23                                          Sport Bag             Bags   \n",
            "24                          Google 22 oz Water Bottle        Drinkware   \n",
            "25                    Google Infuser-Top Water Bottle        Drinkware   \n",
            "26                        Engraved Ceramic Google Mug        Drinkware   \n",
            "27                                Red Shine 15 oz Mug        Drinkware   \n",
            "28                      23 oz Wide Mouth Sport Bottle        Drinkware   \n",
            "29                               Compact Selfie Stick        Lifestyle   \n",
            "\n",
            "    Quantity  Avg_Price  Delivery_Charges Coupon_Status Month Coupon_Code  \\\n",
            "0          1     153.71              6.50          Used   Jan      ELEC10   \n",
            "1          1     153.71              6.50          Used   Jan      ELEC10   \n",
            "2          2     122.77              6.50       Clicked   Jan      ELEC10   \n",
            "3          1      81.50              6.50          Used   Jan      ELEC10   \n",
            "4          1     122.77              6.50          Used   Jan      ELEC10   \n",
            "5          1     153.71              6.50          Used   Jan      ELEC10   \n",
            "6          1       2.05              6.50          Used   Jan       OFF10   \n",
            "7         52       0.98              6.50          Used   Jan       OFF10   \n",
            "8         31       1.99              6.50       Clicked   Jan       OFF10   \n",
            "9         31       1.99              6.50       Clicked   Jan       OFF10   \n",
            "10         3       1.02              6.50          Used   Jan       OFF10   \n",
            "11         1       2.58              6.50      Not Used   Jan       OFF10   \n",
            "12         3       1.55              6.50       Clicked   Jan       OFF10   \n",
            "13         1       3.08              6.50          Used   Jan       OFF10   \n",
            "14         1       6.18              6.50       Clicked   Jan       OFF10   \n",
            "15         1       2.47            102.79          Used   Jan       OFF10   \n",
            "16         1       1.64            102.79       Clicked   Jan       OFF10   \n",
            "17         1       1.64            102.79       Clicked   Jan       OFF10   \n",
            "18         5      17.53              6.50      Not Used   Jan      SALE10   \n",
            "19         5      17.53              6.50          Used   Jan      SALE10   \n",
            "20         1      14.02              6.50          Used   Jan      SALE10   \n",
            "21         1      14.02              6.50       Clicked   Jan      SALE10   \n",
            "22         1      16.50              6.50          Used   Jan       AIO10   \n",
            "23        15       5.15              6.50          Used   Jan       AIO10   \n",
            "24        15       3.08              6.50      Not Used   Jan     EXTRA10   \n",
            "25        15      10.31              6.50       Clicked   Jan     EXTRA10   \n",
            "26         5       9.27              6.50          Used   Jan     EXTRA10   \n",
            "27         1      10.72              6.50      Not Used   Jan     EXTRA10   \n",
            "28        26       8.72            102.79       Clicked   Jan     EXTRA10   \n",
            "29         1       9.27              6.50       Clicked   Jan     EXTRA10   \n",
            "\n",
            "    Discount_pct  \n",
            "0             10  \n",
            "1             10  \n",
            "2             10  \n",
            "3             10  \n",
            "4             10  \n",
            "5             10  \n",
            "6             10  \n",
            "7             10  \n",
            "8             10  \n",
            "9             10  \n",
            "10            10  \n",
            "11            10  \n",
            "12            10  \n",
            "13            10  \n",
            "14            10  \n",
            "15            10  \n",
            "16            10  \n",
            "17            10  \n",
            "18            10  \n",
            "19            10  \n",
            "20            10  \n",
            "21            10  \n",
            "22            10  \n",
            "23            10  \n",
            "24            10  \n",
            "25            10  \n",
            "26            10  \n",
            "27            10  \n",
            "28            10  \n",
            "29            10  \n"
          ]
        }
      ]
    },
    {
      "cell_type": "markdown",
      "source": [
        "**Počet a výpis jedinečných produktových kategorií**"
      ],
      "metadata": {
        "id": "yPs5tmfQ7pls"
      }
    },
    {
      "cell_type": "code",
      "source": [
        "# Počet a výpis distinktních produktových kategorií\n",
        "uniq = set()\n",
        "for i, row in df_sales.iterrows():\n",
        "  uniq.add(row[\"Product_Category\"])\n",
        "\n",
        "print(\"Produktových kategorií: \"+ str(len(uniq)) )  # vypíše počet produktových kategorií\n",
        "print(uniq)  # vypíše seznam produktových kategorií"
      ],
      "metadata": {
        "colab": {
          "base_uri": "https://localhost:8080/"
        },
        "id": "h6V-Fgpg7qJL",
        "outputId": "4eede50a-cd46-4b21-ebee-1a2339662c01"
      },
      "execution_count": 34,
      "outputs": [
        {
          "output_type": "stream",
          "name": "stdout",
          "text": [
            "Produktových kategorií: 6\n",
            "{'Bags', 'Nest-USA', 'Apparel', 'Office', 'Lifestyle', 'Drinkware'}\n"
          ]
        }
      ]
    },
    {
      "cell_type": "markdown",
      "source": [
        "**Suma tržeb pro kategorii Apparel**"
      ],
      "metadata": {
        "id": "xacjIhxA72w-"
      }
    },
    {
      "cell_type": "code",
      "source": [
        "# Hint: InvoiceValue = (( QuantityAvg_price)(1-Dicount_pct)*(1+GST))+Delivery_Charges\n",
        "# nejsou započítány náklady na dopravu a daně\n",
        "\n",
        "ApparelSales = 0\n",
        "AvgOrderPrice = 0\n",
        "\n",
        "for i, row in df_sales_coupons.iterrows():\n",
        "  if row.Product_Category == 'Apparel':\n",
        "    if row.Coupon_Status =='Not Used':\n",
        "      ApparelSales += (row.Quantity*row.Avg_Price) # Bez slevy\n",
        "    else:\n",
        "      ApparelSales += (row.Quantity*row.Avg_Price)*(1-(row.Discount_pct/100)) # Se slevou\n",
        "\n",
        "print(ApparelSales)"
      ],
      "metadata": {
        "colab": {
          "base_uri": "https://localhost:8080/"
        },
        "id": "uy-669Yw73G-",
        "outputId": "d3255216-ad00-49c5-e8fc-8e3d98c4657f"
      },
      "execution_count": 43,
      "outputs": [
        {
          "output_type": "stream",
          "name": "stdout",
          "text": [
            "191.77100000000002\n"
          ]
        }
      ]
    }
  ]
}