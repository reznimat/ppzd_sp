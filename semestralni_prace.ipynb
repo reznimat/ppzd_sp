{
  "nbformat": 4,
  "nbformat_minor": 0,
  "metadata": {
    "colab": {
      "provenance": [],
      "toc_visible": true,
      "authorship_tag": "ABX9TyMYI3WCwXcEsXdiBoPgFw5X",
      "include_colab_link": true
    },
    "kernelspec": {
      "name": "python3",
      "display_name": "Python 3"
    },
    "language_info": {
      "name": "python"
    }
  },
  "cells": [
    {
      "cell_type": "markdown",
      "metadata": {
        "id": "view-in-github",
        "colab_type": "text"
      },
      "source": [
        "<a href=\"https://colab.research.google.com/github/reznimat/ppzd_sp/blob/main/semestralni_prace.ipynb\" target=\"_parent\"><img src=\"https://colab.research.google.com/assets/colab-badge.svg\" alt=\"Open In Colab\"/></a>"
      ]
    },
    {
      "cell_type": "markdown",
      "source": [
        "**Načtení knihoven**"
      ],
      "metadata": {
        "id": "iNSCLwPV8KFw"
      }
    },
    {
      "cell_type": "code",
      "source": [
        "import csv\n",
        "import pandas as pd\n",
        "import math as mt\n",
        "import datetime as dt"
      ],
      "metadata": {
        "id": "Fx7NIFKj8G8z"
      },
      "execution_count": 27,
      "outputs": []
    },
    {
      "cell_type": "markdown",
      "source": [
        "**Načtení datových souborů**"
      ],
      "metadata": {
        "id": "WKohccUD7Sgu"
      }
    },
    {
      "cell_type": "code",
      "execution_count": 28,
      "metadata": {
        "colab": {
          "base_uri": "https://localhost:8080/"
        },
        "id": "62D1J0lwqqpz",
        "outputId": "04543b7f-36b9-42c4-a21f-2f4af9f96d03"
      },
      "outputs": [
        {
          "output_type": "stream",
          "name": "stdout",
          "text": [
            "**Sales**\n",
            "<class 'pandas.core.frame.DataFrame'>\n",
            "RangeIndex: 52924 entries, 0 to 52923\n",
            "Data columns (total 10 columns):\n",
            " #   Column               Non-Null Count  Dtype  \n",
            "---  ------               --------------  -----  \n",
            " 0   CustomerID           52924 non-null  int64  \n",
            " 1   Transaction_ID       52924 non-null  int64  \n",
            " 2   Transaction_Date     52924 non-null  object \n",
            " 3   Product_SKU          52924 non-null  object \n",
            " 4   Product_Description  52924 non-null  object \n",
            " 5   Product_Category     52924 non-null  object \n",
            " 6   Quantity             52924 non-null  int64  \n",
            " 7   Avg_Price            52924 non-null  float64\n",
            " 8   Delivery_Charges     52924 non-null  float64\n",
            " 9   Coupon_Status        52924 non-null  object \n",
            "dtypes: float64(2), int64(3), object(5)\n",
            "memory usage: 4.0+ MB\n",
            "None\n",
            "\n",
            "------\n",
            "\n",
            "**Coupons**\n",
            "<class 'pandas.core.frame.DataFrame'>\n",
            "RangeIndex: 204 entries, 0 to 203\n",
            "Data columns (total 4 columns):\n",
            " #   Column            Non-Null Count  Dtype \n",
            "---  ------            --------------  ----- \n",
            " 0   Month             204 non-null    object\n",
            " 1   Product_Category  204 non-null    object\n",
            " 2   Coupon_Code       204 non-null    object\n",
            " 3   Discount_pct      204 non-null    int64 \n",
            "dtypes: int64(1), object(3)\n",
            "memory usage: 6.5+ KB\n",
            "None\n"
          ]
        }
      ],
      "source": [
        "# POZOR, pouze vzorek dat\n",
        "#url_sales = 'https://raw.githubusercontent.com/reznimat/ppzd_sp/main/SAMPLE_Online_Sales.csv'\n",
        "url_sales = 'https://raw.githubusercontent.com/reznimat/ppzd_sp/main/Online_Sales.csv'\n",
        "df_sales = pd.read_csv(url_sales)\n",
        "\n",
        "url_coupons = 'https://raw.githubusercontent.com/reznimat/ppzd_sp/main/Discount_Coupon.csv'\n",
        "df_coupons = pd.read_csv(url_coupons,sep=\";\")\n",
        "\n",
        "#dict_sales = df_sales.to_dict('records')\n",
        "\n",
        "print('**Sales**')\n",
        "print(df_sales.info())\n",
        "print('\\n------\\n')\n",
        "print('**Coupons**')\n",
        "print(df_coupons.info())\n"
      ]
    },
    {
      "cell_type": "markdown",
      "source": [
        "**Obohacení df_sales o atribut Month (Date Abrv)**"
      ],
      "metadata": {
        "id": "ddUgo2YULu-U"
      }
    },
    {
      "cell_type": "code",
      "source": [
        "# Obohacení df_sales o Month pole\n",
        "for i, row in df_sales.iterrows():\n",
        "  Month = pd.to_datetime(row.Transaction_Date).strftime(\"%b\")\n",
        "  df_sales[\"Month\"] = Month\n",
        "\n",
        "print('**Sales**')\n",
        "print(df_sales.info())"
      ],
      "metadata": {
        "colab": {
          "base_uri": "https://localhost:8080/"
        },
        "id": "j2Zmc30QJZRy",
        "outputId": "d6a87308-916c-41c7-aced-bed8e9118964"
      },
      "execution_count": 29,
      "outputs": [
        {
          "output_type": "stream",
          "name": "stdout",
          "text": [
            "**Sales**\n",
            "<class 'pandas.core.frame.DataFrame'>\n",
            "RangeIndex: 52924 entries, 0 to 52923\n",
            "Data columns (total 11 columns):\n",
            " #   Column               Non-Null Count  Dtype  \n",
            "---  ------               --------------  -----  \n",
            " 0   CustomerID           52924 non-null  int64  \n",
            " 1   Transaction_ID       52924 non-null  int64  \n",
            " 2   Transaction_Date     52924 non-null  object \n",
            " 3   Product_SKU          52924 non-null  object \n",
            " 4   Product_Description  52924 non-null  object \n",
            " 5   Product_Category     52924 non-null  object \n",
            " 6   Quantity             52924 non-null  int64  \n",
            " 7   Avg_Price            52924 non-null  float64\n",
            " 8   Delivery_Charges     52924 non-null  float64\n",
            " 9   Coupon_Status        52924 non-null  object \n",
            " 10  Month                52924 non-null  object \n",
            "dtypes: float64(2), int64(3), object(6)\n",
            "memory usage: 4.4+ MB\n",
            "None\n"
          ]
        }
      ]
    },
    {
      "cell_type": "markdown",
      "source": [
        "**Spojení sales a coupons tabulek přes Product_Category a Month**"
      ],
      "metadata": {
        "id": "QSprzQTzMACk"
      }
    },
    {
      "cell_type": "code",
      "source": [
        "#Merge Sales a Coupons na základě Product Category a Month\n",
        "df_sales_coupons = pd.merge(df_sales,df_coupons, on=[\"Product_Category\",\"Month\"])\n",
        "\n",
        "print(df_sales_coupons.info())"
      ],
      "metadata": {
        "colab": {
          "base_uri": "https://localhost:8080/"
        },
        "id": "S5aamdr6MIQP",
        "outputId": "6d827cc9-20b8-4e0b-9644-1fac419e6ca9"
      },
      "execution_count": 30,
      "outputs": [
        {
          "output_type": "stream",
          "name": "stdout",
          "text": [
            "<class 'pandas.core.frame.DataFrame'>\n",
            "RangeIndex: 52524 entries, 0 to 52523\n",
            "Data columns (total 13 columns):\n",
            " #   Column               Non-Null Count  Dtype  \n",
            "---  ------               --------------  -----  \n",
            " 0   CustomerID           52524 non-null  int64  \n",
            " 1   Transaction_ID       52524 non-null  int64  \n",
            " 2   Transaction_Date     52524 non-null  object \n",
            " 3   Product_SKU          52524 non-null  object \n",
            " 4   Product_Description  52524 non-null  object \n",
            " 5   Product_Category     52524 non-null  object \n",
            " 6   Quantity             52524 non-null  int64  \n",
            " 7   Avg_Price            52524 non-null  float64\n",
            " 8   Delivery_Charges     52524 non-null  float64\n",
            " 9   Coupon_Status        52524 non-null  object \n",
            " 10  Month                52524 non-null  object \n",
            " 11  Coupon_Code          52524 non-null  object \n",
            " 12  Discount_pct         52524 non-null  int64  \n",
            "dtypes: float64(2), int64(4), object(7)\n",
            "memory usage: 5.2+ MB\n",
            "None\n"
          ]
        }
      ]
    },
    {
      "cell_type": "markdown",
      "source": [
        "**Počet a výpis jedinečných produktových kategorií**"
      ],
      "metadata": {
        "id": "yPs5tmfQ7pls"
      }
    },
    {
      "cell_type": "code",
      "source": [
        "# Počet a výpis distinktních produktových kategorií\n",
        "uniqPC = set()\n",
        "for i, row in df_sales.iterrows():\n",
        "  uniqPC.add(row[\"Product_Category\"])\n",
        "\n",
        "print(\"Produktových kategorií: \"+ str(len(uniqPC)) )  # vypíše počet produktových kategorií\n",
        "print(uniqPC)  # vypíše seznam produktových kategorií"
      ],
      "metadata": {
        "colab": {
          "base_uri": "https://localhost:8080/"
        },
        "id": "h6V-Fgpg7qJL",
        "outputId": "e11ac826-bb49-4958-e170-6c0361f09734"
      },
      "execution_count": 31,
      "outputs": [
        {
          "output_type": "stream",
          "name": "stdout",
          "text": [
            "Produktových kategorií: 20\n",
            "{'Google', 'Office', 'Gift Cards', 'Bottles', 'Lifestyle', 'Accessories', 'Fun', 'Nest', 'Apparel', 'Notebooks & Journals', 'Bags', 'Drinkware', 'Housewares', 'Backpacks', 'Android', 'More Bags', 'Waze', 'Nest-Canada', 'Nest-USA', 'Headgear'}\n"
          ]
        }
      ]
    },
    {
      "cell_type": "markdown",
      "source": [
        "**Suma tržeb pro kategorii Apparel**"
      ],
      "metadata": {
        "id": "xacjIhxA72w-"
      }
    },
    {
      "cell_type": "code",
      "source": [
        "# Hint: InvoiceValue = (( QuantityAvg_price)(1-Dicount_pct)*(1+GST))+Delivery_Charges\n",
        "# nejsou započítány náklady na dopravu a daně\n",
        "\n",
        "ApparelSales = 0\n",
        "\n",
        "for i, row in df_sales_coupons.iterrows():\n",
        "  if row.Product_Category == 'Apparel':\n",
        "    if row.Coupon_Status =='Not Used':\n",
        "      ApparelSales += (row.Quantity*row.Avg_Price) # Bez slevy\n",
        "    else:\n",
        "      ApparelSales += (row.Quantity*row.Avg_Price)*(1-(row.Discount_pct/100)) # Se slevou\n",
        "\n",
        "print(ApparelSales)"
      ],
      "metadata": {
        "colab": {
          "base_uri": "https://localhost:8080/"
        },
        "id": "uy-669Yw73G-",
        "outputId": "6af903a5-b581-40f8-b026-16cf90320ab9"
      },
      "execution_count": 32,
      "outputs": [
        {
          "output_type": "stream",
          "name": "stdout",
          "text": [
            "442432.6169999865\n"
          ]
        }
      ]
    },
    {
      "cell_type": "code",
      "source": [
        "uniqMnth = set()\n",
        "for i, row in df_coupons.iterrows():\n",
        "  uniqMnth.add(row[\"Month\"])\n",
        "\n",
        "print(uniqMnth)"
      ],
      "metadata": {
        "colab": {
          "base_uri": "https://localhost:8080/"
        },
        "id": "byz6KiuNvcaH",
        "outputId": "a6119e6d-4f38-4721-b981-3238c16fbfb2"
      },
      "execution_count": 34,
      "outputs": [
        {
          "output_type": "stream",
          "name": "stdout",
          "text": [
            "{'Jan', 'Feb', 'May', 'Oct', 'Jun', 'Aug', 'Sep', 'Mar', 'Dec', 'Apr', 'Nov', 'Jul'}\n"
          ]
        }
      ]
    },
    {
      "cell_type": "markdown",
      "source": [
        "**Tržby po kategoriích a měsících**"
      ],
      "metadata": {
        "id": "OlDiUSblYJUx"
      }
    },
    {
      "cell_type": "code",
      "source": [
        "my_list = [] #prázdný list\n",
        "\n",
        "for kategorie in uniqPC:\n",
        "  for mesic in uniqMnth:\n",
        "    CategorySales = 0\n",
        "    for i, row in df_sales_coupons.iterrows():\n",
        "      if row.Product_Category == kategorie and row.Month == mesic:\n",
        "        if row.Coupon_Status =='Not Used':\n",
        "          CategorySales += (row.Quantity*row.Avg_Price) # Bez slevy\n",
        "        else:\n",
        "          CategorySales += (row.Quantity*row.Avg_Price)*(1-(row.Discount_pct/100)) # Se slevou\n",
        "    my_list.append((kategorie, mesic, CategorySales)) # append vypočítaný záznam do listu\n",
        "#    print()\n",
        "#    slovnik[\"kategorie\"] = kategorie\n",
        "#    slovnik[\"mesic\"] = mesic\n",
        "#    slovnik[\"Sales\"] = CategorySales\n",
        "\n",
        "df_CatMonSales = pd.DataFrame.from_records(my_list, columns=['kategorie', 'mesic','Sales']) # převod listu na data_frame\n",
        "\n",
        "print(df_CatMonSales)"
      ],
      "metadata": {
        "colab": {
          "base_uri": "https://localhost:8080/",
          "height": 356
        },
        "id": "zlisU2XgYNJz",
        "outputId": "31ee629b-cd11-48c1-961a-3e0a5b32a970"
      },
      "execution_count": 36,
      "outputs": [
        {
          "output_type": "error",
          "ename": "KeyboardInterrupt",
          "evalue": "",
          "traceback": [
            "\u001b[0;31m---------------------------------------------------------------------------\u001b[0m",
            "\u001b[0;31mKeyboardInterrupt\u001b[0m                         Traceback (most recent call last)",
            "\u001b[0;32m<ipython-input-36-7d66c791cd22>\u001b[0m in \u001b[0;36m<cell line: 3>\u001b[0;34m()\u001b[0m\n\u001b[1;32m      5\u001b[0m     \u001b[0mCategorySales\u001b[0m \u001b[0;34m=\u001b[0m \u001b[0;36m0\u001b[0m\u001b[0;34m\u001b[0m\u001b[0;34m\u001b[0m\u001b[0m\n\u001b[1;32m      6\u001b[0m     \u001b[0;32mfor\u001b[0m \u001b[0mi\u001b[0m\u001b[0;34m,\u001b[0m \u001b[0mrow\u001b[0m \u001b[0;32min\u001b[0m \u001b[0mdf_sales_coupons\u001b[0m\u001b[0;34m.\u001b[0m\u001b[0miterrows\u001b[0m\u001b[0;34m(\u001b[0m\u001b[0;34m)\u001b[0m\u001b[0;34m:\u001b[0m\u001b[0;34m\u001b[0m\u001b[0;34m\u001b[0m\u001b[0m\n\u001b[0;32m----> 7\u001b[0;31m       \u001b[0;32mif\u001b[0m \u001b[0mrow\u001b[0m\u001b[0;34m.\u001b[0m\u001b[0mProduct_Category\u001b[0m \u001b[0;34m==\u001b[0m \u001b[0;34m'Apparel'\u001b[0m \u001b[0;32mand\u001b[0m \u001b[0mrow\u001b[0m\u001b[0;34m.\u001b[0m\u001b[0mMonth\u001b[0m \u001b[0;34m==\u001b[0m \u001b[0mmesic\u001b[0m\u001b[0;34m:\u001b[0m\u001b[0;34m\u001b[0m\u001b[0;34m\u001b[0m\u001b[0m\n\u001b[0m\u001b[1;32m      8\u001b[0m         \u001b[0;32mif\u001b[0m \u001b[0mrow\u001b[0m\u001b[0;34m.\u001b[0m\u001b[0mCoupon_Status\u001b[0m \u001b[0;34m==\u001b[0m\u001b[0;34m'Not Used'\u001b[0m\u001b[0;34m:\u001b[0m\u001b[0;34m\u001b[0m\u001b[0;34m\u001b[0m\u001b[0m\n\u001b[1;32m      9\u001b[0m           \u001b[0mCategorySales\u001b[0m \u001b[0;34m+=\u001b[0m \u001b[0;34m(\u001b[0m\u001b[0mrow\u001b[0m\u001b[0;34m.\u001b[0m\u001b[0mQuantity\u001b[0m\u001b[0;34m*\u001b[0m\u001b[0mrow\u001b[0m\u001b[0;34m.\u001b[0m\u001b[0mAvg_Price\u001b[0m\u001b[0;34m)\u001b[0m \u001b[0;31m# Bez slevy\u001b[0m\u001b[0;34m\u001b[0m\u001b[0;34m\u001b[0m\u001b[0m\n",
            "\u001b[0;32m/usr/local/lib/python3.10/dist-packages/pandas/core/generic.py\u001b[0m in \u001b[0;36m__getattr__\u001b[0;34m(self, name)\u001b[0m\n\u001b[1;32m   5984\u001b[0m             \u001b[0;32mand\u001b[0m \u001b[0mname\u001b[0m \u001b[0;32mnot\u001b[0m \u001b[0;32min\u001b[0m \u001b[0mself\u001b[0m\u001b[0;34m.\u001b[0m\u001b[0m_metadata\u001b[0m\u001b[0;34m\u001b[0m\u001b[0;34m\u001b[0m\u001b[0m\n\u001b[1;32m   5985\u001b[0m             \u001b[0;32mand\u001b[0m \u001b[0mname\u001b[0m \u001b[0;32mnot\u001b[0m \u001b[0;32min\u001b[0m \u001b[0mself\u001b[0m\u001b[0;34m.\u001b[0m\u001b[0m_accessors\u001b[0m\u001b[0;34m\u001b[0m\u001b[0;34m\u001b[0m\u001b[0m\n\u001b[0;32m-> 5986\u001b[0;31m             \u001b[0;32mand\u001b[0m \u001b[0mself\u001b[0m\u001b[0;34m.\u001b[0m\u001b[0m_info_axis\u001b[0m\u001b[0;34m.\u001b[0m\u001b[0m_can_hold_identifiers_and_holds_name\u001b[0m\u001b[0;34m(\u001b[0m\u001b[0mname\u001b[0m\u001b[0;34m)\u001b[0m\u001b[0;34m\u001b[0m\u001b[0;34m\u001b[0m\u001b[0m\n\u001b[0m\u001b[1;32m   5987\u001b[0m         ):\n\u001b[1;32m   5988\u001b[0m             \u001b[0;32mreturn\u001b[0m \u001b[0mself\u001b[0m\u001b[0;34m[\u001b[0m\u001b[0mname\u001b[0m\u001b[0;34m]\u001b[0m\u001b[0;34m\u001b[0m\u001b[0;34m\u001b[0m\u001b[0m\n",
            "\u001b[0;32m/usr/local/lib/python3.10/dist-packages/pandas/core/indexes/base.py\u001b[0m in \u001b[0;36m_can_hold_identifiers_and_holds_name\u001b[0;34m(self, name)\u001b[0m\n\u001b[1;32m   5210\u001b[0m         \u001b[0;32mreturn\u001b[0m \u001b[0mtype\u001b[0m\u001b[0;34m(\u001b[0m\u001b[0mself\u001b[0m\u001b[0;34m)\u001b[0m\u001b[0;34m.\u001b[0m\u001b[0m_simple_new\u001b[0m\u001b[0;34m(\u001b[0m\u001b[0mres\u001b[0m\u001b[0;34m,\u001b[0m \u001b[0mname\u001b[0m\u001b[0;34m=\u001b[0m\u001b[0mself\u001b[0m\u001b[0;34m.\u001b[0m\u001b[0m_name\u001b[0m\u001b[0;34m,\u001b[0m \u001b[0mrefs\u001b[0m\u001b[0;34m=\u001b[0m\u001b[0mself\u001b[0m\u001b[0;34m.\u001b[0m\u001b[0m_references\u001b[0m\u001b[0;34m)\u001b[0m\u001b[0;34m\u001b[0m\u001b[0;34m\u001b[0m\u001b[0m\n\u001b[1;32m   5211\u001b[0m \u001b[0;34m\u001b[0m\u001b[0m\n\u001b[0;32m-> 5212\u001b[0;31m     \u001b[0;34m@\u001b[0m\u001b[0mfinal\u001b[0m\u001b[0;34m\u001b[0m\u001b[0;34m\u001b[0m\u001b[0m\n\u001b[0m\u001b[1;32m   5213\u001b[0m     \u001b[0;32mdef\u001b[0m \u001b[0m_can_hold_identifiers_and_holds_name\u001b[0m\u001b[0;34m(\u001b[0m\u001b[0mself\u001b[0m\u001b[0;34m,\u001b[0m \u001b[0mname\u001b[0m\u001b[0;34m)\u001b[0m \u001b[0;34m->\u001b[0m \u001b[0mbool\u001b[0m\u001b[0;34m:\u001b[0m\u001b[0;34m\u001b[0m\u001b[0;34m\u001b[0m\u001b[0m\n\u001b[1;32m   5214\u001b[0m         \"\"\"\n",
            "\u001b[0;31mKeyboardInterrupt\u001b[0m: "
          ]
        }
      ]
    },
    {
      "cell_type": "code",
      "source": [
        "print(df_CatMonSales)"
      ],
      "metadata": {
        "id": "LbNZSFW_kcWA",
        "outputId": "52944dde-5702-40a9-f018-4fc716427600",
        "colab": {
          "base_uri": "https://localhost:8080/"
        }
      },
      "execution_count": 40,
      "outputs": [
        {
          "output_type": "stream",
          "name": "stdout",
          "text": [
            "    kategorie mesic    Sales\n",
            "0      Google   Jan      0.0\n",
            "1      Google   Feb      0.0\n",
            "2      Google   May      0.0\n",
            "3      Google   Oct      0.0\n",
            "4      Google   Jun      0.0\n",
            "..        ...   ...      ...\n",
            "235  Headgear   Mar      0.0\n",
            "236  Headgear   Dec  38873.2\n",
            "237  Headgear   Apr      0.0\n",
            "238  Headgear   Nov      0.0\n",
            "239  Headgear   Jul      0.0\n",
            "\n",
            "[240 rows x 3 columns]\n"
          ]
        }
      ]
    }
  ]
}