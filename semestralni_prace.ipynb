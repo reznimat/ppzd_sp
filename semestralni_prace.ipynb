{
  "nbformat": 4,
  "nbformat_minor": 0,
  "metadata": {
    "colab": {
      "provenance": [],
      "toc_visible": true,
      "authorship_tag": "ABX9TyOEUZt8SkLjAcw8jvAPqKK7",
      "include_colab_link": true
    },
    "kernelspec": {
      "name": "python3",
      "display_name": "Python 3"
    },
    "language_info": {
      "name": "python"
    }
  },
  "cells": [
    {
      "cell_type": "markdown",
      "metadata": {
        "id": "view-in-github",
        "colab_type": "text"
      },
      "source": [
        "<a href=\"https://colab.research.google.com/github/reznimat/ppzd_sp/blob/main/semestralni_prace.ipynb\" target=\"_parent\"><img src=\"https://colab.research.google.com/assets/colab-badge.svg\" alt=\"Open In Colab\"/></a>"
      ]
    },
    {
      "cell_type": "markdown",
      "source": [
        "**Načtení knihoven**"
      ],
      "metadata": {
        "id": "iNSCLwPV8KFw"
      }
    },
    {
      "cell_type": "code",
      "source": [
        "import csv\n",
        "import pandas as pd\n",
        "import math as mt\n",
        "import datetime as dt"
      ],
      "metadata": {
        "id": "Fx7NIFKj8G8z"
      },
      "execution_count": 23,
      "outputs": []
    },
    {
      "cell_type": "markdown",
      "source": [
        "**Načtení datových souborů**"
      ],
      "metadata": {
        "id": "WKohccUD7Sgu"
      }
    },
    {
      "cell_type": "code",
      "execution_count": 24,
      "metadata": {
        "colab": {
          "base_uri": "https://localhost:8080/"
        },
        "id": "62D1J0lwqqpz",
        "outputId": "11703d2a-1183-49d2-97ab-60ec9e5db34a"
      },
      "outputs": [
        {
          "output_type": "stream",
          "name": "stdout",
          "text": [
            "**Sales**\n",
            "<class 'pandas.core.frame.DataFrame'>\n",
            "RangeIndex: 30 entries, 0 to 29\n",
            "Data columns (total 10 columns):\n",
            " #   Column               Non-Null Count  Dtype  \n",
            "---  ------               --------------  -----  \n",
            " 0   CustomerID           30 non-null     int64  \n",
            " 1   Transaction_ID       30 non-null     int64  \n",
            " 2   Transaction_Date     30 non-null     object \n",
            " 3   Product_SKU          30 non-null     object \n",
            " 4   Product_Description  30 non-null     object \n",
            " 5   Product_Category     30 non-null     object \n",
            " 6   Quantity             30 non-null     int64  \n",
            " 7   Avg_Price            30 non-null     float64\n",
            " 8   Delivery_Charges     30 non-null     float64\n",
            " 9   Coupon_Status        30 non-null     object \n",
            "dtypes: float64(2), int64(3), object(5)\n",
            "memory usage: 2.5+ KB\n",
            "None\n",
            "\n",
            "------\n",
            "\n",
            "**Coupons**\n",
            "<class 'pandas.core.frame.DataFrame'>\n",
            "RangeIndex: 204 entries, 0 to 203\n",
            "Data columns (total 4 columns):\n",
            " #   Column            Non-Null Count  Dtype \n",
            "---  ------            --------------  ----- \n",
            " 0   Month             204 non-null    object\n",
            " 1   Product_Category  204 non-null    object\n",
            " 2   Coupon_Code       204 non-null    object\n",
            " 3   Discount_pct      204 non-null    int64 \n",
            "dtypes: int64(1), object(3)\n",
            "memory usage: 6.5+ KB\n",
            "None\n"
          ]
        }
      ],
      "source": [
        "# POZOR, pouze vzorek dat\n",
        "url_sales = 'https://raw.githubusercontent.com/reznimat/ppzd_sp/main/SAMPLE_Online_Sales.csv'\n",
        "#url_sales = 'https://raw.githubusercontent.com/reznimat/ppzd_sp/main/Online_Sales.csv'\n",
        "df_sales = pd.read_csv(url_sales)\n",
        "\n",
        "url_coupons = 'https://raw.githubusercontent.com/reznimat/ppzd_sp/main/Discount_Coupon.csv'\n",
        "df_coupons = pd.read_csv(url_coupons,sep=\";\")\n",
        "\n",
        "#dict_sales = df_sales.to_dict('records')\n",
        "\n",
        "print('**Sales**')\n",
        "print(df_sales.info())\n",
        "print('\\n------\\n')\n",
        "print('**Coupons**')\n",
        "print(df_coupons.info())\n"
      ]
    },
    {
      "cell_type": "markdown",
      "source": [
        "**Obohacení df_sales o atribut Month (Date Abrv)**"
      ],
      "metadata": {
        "id": "ddUgo2YULu-U"
      }
    },
    {
      "cell_type": "code",
      "source": [
        "# Obohacení df_sales o Month pole\n",
        "for i, row in df_sales.iterrows():\n",
        "  Month = pd.to_datetime(row.Transaction_Date).strftime(\"%b\")\n",
        "  df_sales[\"Month\"] = Month\n",
        "\n",
        "print('**Sales**')\n",
        "print(df_sales.info())"
      ],
      "metadata": {
        "colab": {
          "base_uri": "https://localhost:8080/"
        },
        "id": "j2Zmc30QJZRy",
        "outputId": "d906bfcc-fc6d-4b8b-e5e7-3123103697db"
      },
      "execution_count": 25,
      "outputs": [
        {
          "output_type": "stream",
          "name": "stdout",
          "text": [
            "**Sales**\n",
            "<class 'pandas.core.frame.DataFrame'>\n",
            "RangeIndex: 30 entries, 0 to 29\n",
            "Data columns (total 11 columns):\n",
            " #   Column               Non-Null Count  Dtype  \n",
            "---  ------               --------------  -----  \n",
            " 0   CustomerID           30 non-null     int64  \n",
            " 1   Transaction_ID       30 non-null     int64  \n",
            " 2   Transaction_Date     30 non-null     object \n",
            " 3   Product_SKU          30 non-null     object \n",
            " 4   Product_Description  30 non-null     object \n",
            " 5   Product_Category     30 non-null     object \n",
            " 6   Quantity             30 non-null     int64  \n",
            " 7   Avg_Price            30 non-null     float64\n",
            " 8   Delivery_Charges     30 non-null     float64\n",
            " 9   Coupon_Status        30 non-null     object \n",
            " 10  Month                30 non-null     object \n",
            "dtypes: float64(2), int64(3), object(6)\n",
            "memory usage: 2.7+ KB\n",
            "None\n"
          ]
        }
      ]
    },
    {
      "cell_type": "markdown",
      "source": [
        "**Spojení sales a coupons tabulek přes Product_Category a Month**"
      ],
      "metadata": {
        "id": "QSprzQTzMACk"
      }
    },
    {
      "cell_type": "code",
      "source": [
        "#Merge Sales a Coupons na základě Product Category a Month\n",
        "df_sales_coupons = pd.merge(df_sales,df_coupons, on=[\"Product_Category\",\"Month\"])\n",
        "\n",
        "print(df_sales_coupons.info())"
      ],
      "metadata": {
        "colab": {
          "base_uri": "https://localhost:8080/"
        },
        "id": "S5aamdr6MIQP",
        "outputId": "19917f21-f81f-4830-dc57-bdebbaeb854a"
      },
      "execution_count": 26,
      "outputs": [
        {
          "output_type": "stream",
          "name": "stdout",
          "text": [
            "<class 'pandas.core.frame.DataFrame'>\n",
            "RangeIndex: 30 entries, 0 to 29\n",
            "Data columns (total 13 columns):\n",
            " #   Column               Non-Null Count  Dtype  \n",
            "---  ------               --------------  -----  \n",
            " 0   CustomerID           30 non-null     int64  \n",
            " 1   Transaction_ID       30 non-null     int64  \n",
            " 2   Transaction_Date     30 non-null     object \n",
            " 3   Product_SKU          30 non-null     object \n",
            " 4   Product_Description  30 non-null     object \n",
            " 5   Product_Category     30 non-null     object \n",
            " 6   Quantity             30 non-null     int64  \n",
            " 7   Avg_Price            30 non-null     float64\n",
            " 8   Delivery_Charges     30 non-null     float64\n",
            " 9   Coupon_Status        30 non-null     object \n",
            " 10  Month                30 non-null     object \n",
            " 11  Coupon_Code          30 non-null     object \n",
            " 12  Discount_pct         30 non-null     int64  \n",
            "dtypes: float64(2), int64(4), object(7)\n",
            "memory usage: 3.2+ KB\n",
            "None\n"
          ]
        }
      ]
    },
    {
      "cell_type": "markdown",
      "source": [
        "**Počet a výpis jedinečných produktových kategorií**"
      ],
      "metadata": {
        "id": "yPs5tmfQ7pls"
      }
    },
    {
      "cell_type": "code",
      "source": [
        "# Počet a výpis distinktních produktových kategorií\n",
        "uniqPC = set()\n",
        "for i, row in df_sales.iterrows():\n",
        "  uniqPC.add(row[\"Product_Category\"])\n",
        "\n",
        "print(\"Produktových kategorií: \"+ str(len(uniqPC)) )  # vypíše počet produktových kategorií\n",
        "print(uniqPC)  # vypíše seznam produktových kategorií"
      ],
      "metadata": {
        "colab": {
          "base_uri": "https://localhost:8080/"
        },
        "id": "h6V-Fgpg7qJL",
        "outputId": "5f3ccd92-8569-4bd1-b15f-0be0e80c7725"
      },
      "execution_count": null,
      "outputs": [
        {
          "output_type": "stream",
          "name": "stdout",
          "text": [
            "Produktových kategorií: 6\n",
            "{'Drinkware', 'Office', 'Nest-USA', 'Apparel', 'Lifestyle', 'Bags'}\n"
          ]
        }
      ]
    },
    {
      "cell_type": "markdown",
      "source": [
        "**Suma tržeb pro kategorii Apparel**"
      ],
      "metadata": {
        "id": "xacjIhxA72w-"
      }
    },
    {
      "cell_type": "code",
      "source": [
        "# Hint: InvoiceValue = (( QuantityAvg_price)(1-Dicount_pct)*(1+GST))+Delivery_Charges\n",
        "# nejsou započítány náklady na dopravu a daně\n",
        "\n",
        "ApparelSales = 0\n",
        "AvgOrderPrice = 0\n",
        "\n",
        "for i, row in df_sales_coupons.iterrows():\n",
        "  if row.Product_Category == 'Apparel':\n",
        "    if row.Coupon_Status =='Not Used':\n",
        "      ApparelSales += (row.Quantity*row.Avg_Price) # Bez slevy\n",
        "    else:\n",
        "      ApparelSales += (row.Quantity*row.Avg_Price)*(1-(row.Discount_pct/100)) # Se slevou\n",
        "\n",
        "print(ApparelSales)"
      ],
      "metadata": {
        "colab": {
          "base_uri": "https://localhost:8080/"
        },
        "id": "uy-669Yw73G-",
        "outputId": "46cf84e4-3aa9-47ad-993c-c20d3996258d"
      },
      "execution_count": null,
      "outputs": [
        {
          "output_type": "stream",
          "name": "stdout",
          "text": [
            "191.77100000000002\n"
          ]
        }
      ]
    },
    {
      "cell_type": "code",
      "source": [
        "uniqMnth = set()\n",
        "for i, row in df_sales.iterrows():\n",
        "  uniqMnth.add(row[\"Month\"])\n",
        "\n",
        "print(uniqMnth)"
      ],
      "metadata": {
        "colab": {
          "base_uri": "https://localhost:8080/"
        },
        "id": "byz6KiuNvcaH",
        "outputId": "1f394b56-80fd-45f5-c3bb-47378080a653"
      },
      "execution_count": null,
      "outputs": [
        {
          "output_type": "stream",
          "name": "stdout",
          "text": [
            "{'Jan'}\n"
          ]
        }
      ]
    },
    {
      "cell_type": "markdown",
      "source": [
        "**Tržby po kategoriích a měsících**"
      ],
      "metadata": {
        "id": "OlDiUSblYJUx"
      }
    },
    {
      "cell_type": "code",
      "source": [
        "my_list = [] #prázdný list\n",
        "\n",
        "for kategorie in uniqPC:\n",
        "  for mesic in uniqMnth:\n",
        "    CategorySales = 0\n",
        "    for i, row in df_sales_coupons.iterrows():\n",
        "      if row.Product_Category == kategorie and row.Month == mesic:\n",
        "        if row.Coupon_Status =='Not Used':\n",
        "          CategorySales += (row.Quantity*row.Avg_Price) # Bez slevy\n",
        "        else:\n",
        "          CategorySales += (row.Quantity*row.Avg_Price)*(1-(row.Discount_pct/100)) # Se slevou\n",
        "    my_list.append((kategorie, mesic, CategorySales)) # append vypočítaný záznam do listu\n",
        "#    print()\n",
        "#    slovnik[\"kategorie\"] = kategorie\n",
        "#    slovnik[\"mesic\"] = mesic\n",
        "#    slovnik[\"Sales\"] = CategorySales\n",
        "\n",
        "df_CatMonSales = pd.DataFrame.from_records(my_list, columns=['kategorie', 'mesic','Sales']) # převod listu na data_frame\n",
        "\n",
        "print(df_CatMonSales)"
      ],
      "metadata": {
        "colab": {
          "base_uri": "https://localhost:8080/"
        },
        "id": "zlisU2XgYNJz",
        "outputId": "f51f3115-fbae-41a1-9c81-421db8560c39"
      },
      "execution_count": null,
      "outputs": [
        {
          "output_type": "stream",
          "name": "stdout",
          "text": [
            "   kategorie mesic    Sales\n",
            "0  Drinkware   Jan  441.868\n",
            "1     Office   Jan  181.779\n",
            "2   Nest-USA   Jan  819.846\n",
            "3    Apparel   Jan  191.771\n",
            "4  Lifestyle   Jan    8.343\n",
            "5       Bags   Jan   84.375\n"
          ]
        }
      ]
    }
  ]
}