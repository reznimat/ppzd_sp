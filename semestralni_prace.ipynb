{
  "nbformat": 4,
  "nbformat_minor": 0,
  "metadata": {
    "colab": {
      "provenance": [],
      "toc_visible": true,
      "authorship_tag": "ABX9TyNJpVlQEc/dOgQPm2WlhpCj",
      "include_colab_link": true
    },
    "kernelspec": {
      "name": "python3",
      "display_name": "Python 3"
    },
    "language_info": {
      "name": "python"
    }
  },
  "cells": [
    {
      "cell_type": "markdown",
      "metadata": {
        "id": "view-in-github",
        "colab_type": "text"
      },
      "source": [
        "<a href=\"https://colab.research.google.com/github/reznimat/ppzd_sp/blob/main/semestralni_prace.ipynb\" target=\"_parent\"><img src=\"https://colab.research.google.com/assets/colab-badge.svg\" alt=\"Open In Colab\"/></a>"
      ]
    },
    {
      "cell_type": "markdown",
      "source": [
        "# Načtení knihoven"
      ],
      "metadata": {
        "id": "KR3cauWD9n2N"
      }
    },
    {
      "cell_type": "code",
      "source": [
        "import csv\n",
        "import pandas as pd\n",
        "import math as mt\n",
        "import datetime as dt\n",
        "from matplotlib import pyplot as plt\n",
        "from tabulate import tabulate\n",
        "\n",
        "print('knihovny načteny')"
      ],
      "metadata": {
        "id": "Fx7NIFKj8G8z",
        "colab": {
          "base_uri": "https://localhost:8080/"
        },
        "outputId": "3ee9e978-ffd9-4c55-bf13-954325054596"
      },
      "execution_count": 78,
      "outputs": [
        {
          "output_type": "stream",
          "name": "stdout",
          "text": [
            "knihovny načteny\n"
          ]
        }
      ]
    },
    {
      "cell_type": "markdown",
      "source": [
        "# Načtení datových souborů"
      ],
      "metadata": {
        "id": "WKohccUD7Sgu"
      }
    },
    {
      "cell_type": "code",
      "execution_count": 79,
      "metadata": {
        "colab": {
          "base_uri": "https://localhost:8080/"
        },
        "id": "62D1J0lwqqpz",
        "outputId": "45d4df1a-33db-4ae5-d5e6-5634e829fca4"
      },
      "outputs": [
        {
          "output_type": "stream",
          "name": "stdout",
          "text": [
            "datové soubory načteny\n"
          ]
        }
      ],
      "source": [
        "# POZOR, pouze vzorek dat\n",
        "#url_sales = 'https://raw.githubusercontent.com/reznimat/ppzd_sp/main/SAMPLE_Online_Sales.csv'\n",
        "url_sales = 'https://raw.githubusercontent.com/reznimat/ppzd_sp/main/Online_Sales.csv'\n",
        "df_sales = pd.read_csv(url_sales)\n",
        "\n",
        "url_coupons = 'https://raw.githubusercontent.com/reznimat/ppzd_sp/main/Discount_Coupon.csv'\n",
        "df_coupons = pd.read_csv(url_coupons,sep=\";\")\n",
        "\n",
        "url_tax = 'https://raw.githubusercontent.com/reznimat/ppzd_sp/main/Tax_amount.csv' #původní GST ve formátu 10% ručně upraveno na GST_pct ve formátu 10 (18 položek)\n",
        "df_tax = pd.read_csv(url_tax,sep=\";\")\n",
        "\n",
        "print('datové soubory načteny')"
      ]
    },
    {
      "cell_type": "markdown",
      "source": [
        "# Číselníky"
      ],
      "metadata": {
        "id": "saPhBBbMQjbe"
      }
    },
    {
      "cell_type": "code",
      "source": [
        "# Čísleník měsíců\n",
        "c_months = ('Jan','Feb','Mar','Apr','May','Jun','Jul','Aug','Sep','Oct','Nov','Dec')\n",
        "\n",
        "# Čísleník produktových kategorií\n",
        "c_product_category = set()\n",
        "for i, row in df_sales.iterrows():\n",
        "  c_product_category.add(row[\"Product_Category\"])\n",
        "\n",
        "#Číselník měsíců a kategorií\n",
        "c_month_categories = []\n",
        "\n",
        "for month in c_months:\n",
        "  for category in c_product_category:\n",
        "    novy_radek = [month, category]\n",
        "    c_month_categories.append(novy_radek)\n",
        "\n",
        "#print(c_product_category)  # vypíše seznam produktových kategorií\n",
        "#print(c_months)\n",
        "#print(c_month_categories)\n",
        "\n",
        "print('číselníky vytvořeny')"
      ],
      "metadata": {
        "colab": {
          "base_uri": "https://localhost:8080/"
        },
        "id": "M4K34bS6QnZI",
        "outputId": "9a12de16-8890-4be2-dcc6-a42ddd6165a3"
      },
      "execution_count": 108,
      "outputs": [
        {
          "output_type": "stream",
          "name": "stdout",
          "text": [
            "[['Jan', 'Nest'], ['Jan', 'Drinkware'], ['Jan', 'Bottles'], ['Jan', 'Nest-Canada'], ['Jan', 'Office'], ['Jan', 'Waze'], ['Jan', 'Headgear'], ['Jan', 'Bags'], ['Jan', 'Lifestyle'], ['Jan', 'Nest-USA'], ['Jan', 'Apparel'], ['Jan', 'Gift Cards'], ['Jan', 'Android'], ['Jan', 'Accessories'], ['Jan', 'Notebooks & Journals'], ['Jan', 'Housewares'], ['Feb', 'Nest'], ['Feb', 'Drinkware'], ['Feb', 'Bottles'], ['Feb', 'Nest-Canada'], ['Feb', 'Office'], ['Feb', 'Waze'], ['Feb', 'Headgear'], ['Feb', 'Bags'], ['Feb', 'Lifestyle'], ['Feb', 'Nest-USA'], ['Feb', 'Apparel'], ['Feb', 'Gift Cards'], ['Feb', 'Android'], ['Feb', 'Accessories'], ['Feb', 'Notebooks & Journals'], ['Feb', 'Housewares'], ['Mar', 'Nest'], ['Mar', 'Drinkware'], ['Mar', 'Bottles'], ['Mar', 'Nest-Canada'], ['Mar', 'Office'], ['Mar', 'Waze'], ['Mar', 'Headgear'], ['Mar', 'Bags'], ['Mar', 'Lifestyle'], ['Mar', 'Nest-USA'], ['Mar', 'Apparel'], ['Mar', 'Gift Cards'], ['Mar', 'Android'], ['Mar', 'Accessories'], ['Mar', 'Notebooks & Journals'], ['Mar', 'Housewares'], ['Apr', 'Nest'], ['Apr', 'Drinkware'], ['Apr', 'Bottles'], ['Apr', 'Nest-Canada'], ['Apr', 'Office'], ['Apr', 'Waze'], ['Apr', 'Headgear'], ['Apr', 'Bags'], ['Apr', 'Lifestyle'], ['Apr', 'Nest-USA'], ['Apr', 'Apparel'], ['Apr', 'Gift Cards'], ['Apr', 'Android'], ['Apr', 'Accessories'], ['Apr', 'Notebooks & Journals'], ['Apr', 'Housewares'], ['May', 'Nest'], ['May', 'Drinkware'], ['May', 'Bottles'], ['May', 'Nest-Canada'], ['May', 'Office'], ['May', 'Waze'], ['May', 'Headgear'], ['May', 'Bags'], ['May', 'Lifestyle'], ['May', 'Nest-USA'], ['May', 'Apparel'], ['May', 'Gift Cards'], ['May', 'Android'], ['May', 'Accessories'], ['May', 'Notebooks & Journals'], ['May', 'Housewares'], ['Jun', 'Nest'], ['Jun', 'Drinkware'], ['Jun', 'Bottles'], ['Jun', 'Nest-Canada'], ['Jun', 'Office'], ['Jun', 'Waze'], ['Jun', 'Headgear'], ['Jun', 'Bags'], ['Jun', 'Lifestyle'], ['Jun', 'Nest-USA'], ['Jun', 'Apparel'], ['Jun', 'Gift Cards'], ['Jun', 'Android'], ['Jun', 'Accessories'], ['Jun', 'Notebooks & Journals'], ['Jun', 'Housewares'], ['Jul', 'Nest'], ['Jul', 'Drinkware'], ['Jul', 'Bottles'], ['Jul', 'Nest-Canada'], ['Jul', 'Office'], ['Jul', 'Waze'], ['Jul', 'Headgear'], ['Jul', 'Bags'], ['Jul', 'Lifestyle'], ['Jul', 'Nest-USA'], ['Jul', 'Apparel'], ['Jul', 'Gift Cards'], ['Jul', 'Android'], ['Jul', 'Accessories'], ['Jul', 'Notebooks & Journals'], ['Jul', 'Housewares'], ['Aug', 'Nest'], ['Aug', 'Drinkware'], ['Aug', 'Bottles'], ['Aug', 'Nest-Canada'], ['Aug', 'Office'], ['Aug', 'Waze'], ['Aug', 'Headgear'], ['Aug', 'Bags'], ['Aug', 'Lifestyle'], ['Aug', 'Nest-USA'], ['Aug', 'Apparel'], ['Aug', 'Gift Cards'], ['Aug', 'Android'], ['Aug', 'Accessories'], ['Aug', 'Notebooks & Journals'], ['Aug', 'Housewares'], ['Sep', 'Nest'], ['Sep', 'Drinkware'], ['Sep', 'Bottles'], ['Sep', 'Nest-Canada'], ['Sep', 'Office'], ['Sep', 'Waze'], ['Sep', 'Headgear'], ['Sep', 'Bags'], ['Sep', 'Lifestyle'], ['Sep', 'Nest-USA'], ['Sep', 'Apparel'], ['Sep', 'Gift Cards'], ['Sep', 'Android'], ['Sep', 'Accessories'], ['Sep', 'Notebooks & Journals'], ['Sep', 'Housewares'], ['Oct', 'Nest'], ['Oct', 'Drinkware'], ['Oct', 'Bottles'], ['Oct', 'Nest-Canada'], ['Oct', 'Office'], ['Oct', 'Waze'], ['Oct', 'Headgear'], ['Oct', 'Bags'], ['Oct', 'Lifestyle'], ['Oct', 'Nest-USA'], ['Oct', 'Apparel'], ['Oct', 'Gift Cards'], ['Oct', 'Android'], ['Oct', 'Accessories'], ['Oct', 'Notebooks & Journals'], ['Oct', 'Housewares'], ['Nov', 'Nest'], ['Nov', 'Drinkware'], ['Nov', 'Bottles'], ['Nov', 'Nest-Canada'], ['Nov', 'Office'], ['Nov', 'Waze'], ['Nov', 'Headgear'], ['Nov', 'Bags'], ['Nov', 'Lifestyle'], ['Nov', 'Nest-USA'], ['Nov', 'Apparel'], ['Nov', 'Gift Cards'], ['Nov', 'Android'], ['Nov', 'Accessories'], ['Nov', 'Notebooks & Journals'], ['Nov', 'Housewares'], ['Dec', 'Nest'], ['Dec', 'Drinkware'], ['Dec', 'Bottles'], ['Dec', 'Nest-Canada'], ['Dec', 'Office'], ['Dec', 'Waze'], ['Dec', 'Headgear'], ['Dec', 'Bags'], ['Dec', 'Lifestyle'], ['Dec', 'Nest-USA'], ['Dec', 'Apparel'], ['Dec', 'Gift Cards'], ['Dec', 'Android'], ['Dec', 'Accessories'], ['Dec', 'Notebooks & Journals'], ['Dec', 'Housewares']]\n",
            "číselníky vytvořeny\n"
          ]
        }
      ]
    },
    {
      "cell_type": "markdown",
      "source": [
        "# Definice funkcí"
      ],
      "metadata": {
        "id": "4OwYRyl9BAa0"
      }
    },
    {
      "cell_type": "code",
      "source": [
        "# funkce pro výpočet sales_amount po slevě na úrovni item\n",
        "# není zohledněna doprava (předpoklad, že ta je relevantní pro úroveň transaction)\n",
        "def Revenue(row):\n",
        "    if row[\"Coupon_Status\"] == 'Not Used':\n",
        "      return (row[\"Quantity\"]*row[\"Avg_Price\"]) #*(1+(row[\"GST_pct\"]/100))\n",
        "    else:\n",
        "      return (row[\"Quantity\"]*row[\"Avg_Price\"])*(1-(row[\"Discount_pct\"]/100)) #*(1+(row[\"GST_pct\"]/100))\n",
        "\n",
        "# Převod Transaction_Date ve formátu m/d/Y (1/20/2019) na month abrevation (Jan)\n",
        "def MonthAbrv(row):\n",
        "    return pd.to_datetime(row.Transaction_Date,format='%m/%d/%Y').strftime(\"%b\")\n",
        "\n",
        "print('funkce definovány')"
      ],
      "metadata": {
        "colab": {
          "base_uri": "https://localhost:8080/"
        },
        "id": "HCxCjybWBMd8",
        "outputId": "6fe3543a-df64-4e52-c3ea-b2246dad5131"
      },
      "execution_count": 81,
      "outputs": [
        {
          "output_type": "stream",
          "name": "stdout",
          "text": [
            "funkce definovány\n"
          ]
        }
      ]
    },
    {
      "cell_type": "markdown",
      "source": [
        "# Calculate revenue for each transaction and item level"
      ],
      "metadata": {
        "id": "-nM0E0m__BU-"
      }
    },
    {
      "cell_type": "markdown",
      "source": [
        " - Hint:\n",
        "  - InvoiceValue = (( QuantityAvg_price)(1-Dicount_pct)*(1+GST))+Delivery_Charges\n",
        "  - Revenue = (Quantity Avg_price)*(1-Dicount_pct)\n"
      ],
      "metadata": {
        "id": "7yCQkTbW_blT"
      }
    },
    {
      "cell_type": "markdown",
      "source": [
        "## Obohacení df_sales o atribut Month (Date Abrv)"
      ],
      "metadata": {
        "id": "ddUgo2YULu-U"
      }
    },
    {
      "cell_type": "code",
      "source": [
        "df_sales['Month'] = df_sales.apply(MonthAbrv, axis=1)\n",
        "\n",
        "print('v df_sales je nyní sloupec Month\\n')\n",
        "print(df_sales.head().to_markdown())\n"
      ],
      "metadata": {
        "id": "j2Zmc30QJZRy",
        "colab": {
          "base_uri": "https://localhost:8080/"
        },
        "outputId": "ab684136-fdde-4542-e05d-2841e18cdfb5"
      },
      "execution_count": 82,
      "outputs": [
        {
          "output_type": "stream",
          "name": "stdout",
          "text": [
            "v df_sales je nyní sloupec Month\n",
            "\n",
            "|    |   CustomerID |   Transaction_ID | Transaction_Date   | Product_SKU    | Product_Description                                    | Product_Category   |   Quantity |   Avg_Price |   Delivery_Charges | Coupon_Status   | Month   |\n",
            "|---:|-------------:|-----------------:|:-------------------|:---------------|:-------------------------------------------------------|:-------------------|-----------:|------------:|-------------------:|:----------------|:--------|\n",
            "|  0 |        17850 |            16679 | 1/1/2019           | GGOENEBJ079499 | Nest Learning Thermostat 3rd Gen-USA - Stainless Steel | Nest-USA           |          1 |      153.71 |                6.5 | Used            | Jan     |\n",
            "|  1 |        17850 |            16680 | 1/1/2019           | GGOENEBJ079499 | Nest Learning Thermostat 3rd Gen-USA - Stainless Steel | Nest-USA           |          1 |      153.71 |                6.5 | Used            | Jan     |\n",
            "|  2 |        17850 |            16681 | 1/1/2019           | GGOEGFKQ020399 | Google Laptop and Cell Phone Stickers                  | Office             |          1 |        2.05 |                6.5 | Used            | Jan     |\n",
            "|  3 |        17850 |            16682 | 1/1/2019           | GGOEGAAB010516 | Google Men's 100% Cotton Short Sleeve Hero Tee Black   | Apparel            |          5 |       17.53 |                6.5 | Not Used        | Jan     |\n",
            "|  4 |        17850 |            16682 | 1/1/2019           | GGOEGBJL013999 | Google Canvas Tote Natural/Navy                        | Bags               |          1 |       16.5  |                6.5 | Used            | Jan     |\n"
          ]
        }
      ]
    },
    {
      "cell_type": "code",
      "source": [],
      "metadata": {
        "id": "sBPXRaCDqyz3"
      },
      "execution_count": 65,
      "outputs": []
    },
    {
      "cell_type": "markdown",
      "source": [
        "## Spojení df_sales s df_coupons"
      ],
      "metadata": {
        "id": "QSprzQTzMACk"
      }
    },
    {
      "cell_type": "code",
      "source": [
        "#Merge Sales a Coupons na základě Product_Category a Month\n",
        "df_sales = pd.merge(df_sales,df_coupons, on=[\"Product_Category\",\"Month\"])\n",
        "\n",
        "#Merge Sales a Tax na základe Product_Category\n",
        "# df_sales = pd.merge(df_sales,df_tax, on=[\"Product_Category\"])\n",
        "\n",
        "print('do df_sales byly připojeny data z df_coupons\\n')\n",
        "print(df_sales.head().to_markdown())"
      ],
      "metadata": {
        "colab": {
          "base_uri": "https://localhost:8080/"
        },
        "id": "S5aamdr6MIQP",
        "outputId": "7790ec1f-aa1d-4fc7-80b0-a1ac1c21c31f"
      },
      "execution_count": 83,
      "outputs": [
        {
          "output_type": "stream",
          "name": "stdout",
          "text": [
            "do df_sales byly připojeny data z df_coupons\n",
            "\n",
            "|    |   CustomerID |   Transaction_ID | Transaction_Date   | Product_SKU    | Product_Description                                    | Product_Category   |   Quantity |   Avg_Price |   Delivery_Charges | Coupon_Status   | Month   | Coupon_Code   |   Discount_pct |\n",
            "|---:|-------------:|-----------------:|:-------------------|:---------------|:-------------------------------------------------------|:-------------------|-----------:|------------:|-------------------:|:----------------|:--------|:--------------|---------------:|\n",
            "|  0 |        17850 |            16679 | 1/1/2019           | GGOENEBJ079499 | Nest Learning Thermostat 3rd Gen-USA - Stainless Steel | Nest-USA           |          1 |      153.71 |                6.5 | Used            | Jan     | ELEC10        |             10 |\n",
            "|  1 |        17850 |            16680 | 1/1/2019           | GGOENEBJ079499 | Nest Learning Thermostat 3rd Gen-USA - Stainless Steel | Nest-USA           |          1 |      153.71 |                6.5 | Used            | Jan     | ELEC10        |             10 |\n",
            "|  2 |        13047 |            16684 | 1/1/2019           | GGOENEBQ078999 | Nest Cam Outdoor Security Camera - USA                 | Nest-USA           |          2 |      122.77 |                6.5 | Clicked         | Jan     | ELEC10        |             10 |\n",
            "|  3 |        13047 |            16684 | 1/1/2019           | GGOENEBQ079199 | Nest Protect Smoke + CO White Wired Alarm-USA          | Nest-USA           |          1 |       81.5  |                6.5 | Used            | Jan     | ELEC10        |             10 |\n",
            "|  4 |        13047 |            16688 | 1/1/2019           | GGOENEBB078899 | Nest Cam Indoor Security Camera - USA                  | Nest-USA           |          1 |      122.77 |                6.5 | Used            | Jan     | ELEC10        |             10 |\n"
          ]
        }
      ]
    },
    {
      "cell_type": "markdown",
      "source": [
        "## Obohacení df_sales o Revenue"
      ],
      "metadata": {
        "id": "xacjIhxA72w-"
      }
    },
    {
      "cell_type": "code",
      "source": [
        "# nejsou započítány náklady na dopravu a daně\n",
        "df_sales[\"Revenue\"] = df_sales.apply(Revenue,axis = 1)\n",
        "\n",
        "print('df_sales bylo obohaceno o sloupec Revenue\\n')\n",
        "print(df_sales.head().to_markdown())\n"
      ],
      "metadata": {
        "colab": {
          "base_uri": "https://localhost:8080/"
        },
        "id": "uy-669Yw73G-",
        "outputId": "fdd8763b-3db6-4008-bac3-25838a8f90e2"
      },
      "execution_count": 84,
      "outputs": [
        {
          "output_type": "stream",
          "name": "stdout",
          "text": [
            "df_sales bylo obohaceno o sloupec Revenue\n",
            "\n",
            "|    |   CustomerID |   Transaction_ID | Transaction_Date   | Product_SKU    | Product_Description                                    | Product_Category   |   Quantity |   Avg_Price |   Delivery_Charges | Coupon_Status   | Month   | Coupon_Code   |   Discount_pct |   Revenue |\n",
            "|---:|-------------:|-----------------:|:-------------------|:---------------|:-------------------------------------------------------|:-------------------|-----------:|------------:|-------------------:|:----------------|:--------|:--------------|---------------:|----------:|\n",
            "|  0 |        17850 |            16679 | 1/1/2019           | GGOENEBJ079499 | Nest Learning Thermostat 3rd Gen-USA - Stainless Steel | Nest-USA           |          1 |      153.71 |                6.5 | Used            | Jan     | ELEC10        |             10 |   138.339 |\n",
            "|  1 |        17850 |            16680 | 1/1/2019           | GGOENEBJ079499 | Nest Learning Thermostat 3rd Gen-USA - Stainless Steel | Nest-USA           |          1 |      153.71 |                6.5 | Used            | Jan     | ELEC10        |             10 |   138.339 |\n",
            "|  2 |        13047 |            16684 | 1/1/2019           | GGOENEBQ078999 | Nest Cam Outdoor Security Camera - USA                 | Nest-USA           |          2 |      122.77 |                6.5 | Clicked         | Jan     | ELEC10        |             10 |   220.986 |\n",
            "|  3 |        13047 |            16684 | 1/1/2019           | GGOENEBQ079199 | Nest Protect Smoke + CO White Wired Alarm-USA          | Nest-USA           |          1 |       81.5  |                6.5 | Used            | Jan     | ELEC10        |             10 |    73.35  |\n",
            "|  4 |        13047 |            16688 | 1/1/2019           | GGOENEBB078899 | Nest Cam Indoor Security Camera - USA                  | Nest-USA           |          1 |      122.77 |                6.5 | Used            | Jan     | ELEC10        |             10 |   110.493 |\n"
          ]
        }
      ]
    },
    {
      "cell_type": "markdown",
      "source": [
        "## Revenue per transaction\n"
      ],
      "metadata": {
        "id": "uCDMjmm2dAeL"
      }
    },
    {
      "cell_type": "code",
      "source": [
        "df = df_sales[[\"Transaction_ID\",\"Transaction_Date\",\"Month\",\"Revenue\"]]\n",
        "\n",
        "df2 = df.groupby(by=[\"Transaction_ID\",\"Transaction_Date\",\"Month\"]).sum([\"Revenue\"])\n",
        "\n",
        "print(df2.head().to_markdown())"
      ],
      "metadata": {
        "id": "ZCqLu1a6dmtQ",
        "outputId": "c0f0aa06-6d59-4c86-b674-69d07060f8ca",
        "colab": {
          "base_uri": "https://localhost:8080/"
        }
      },
      "execution_count": 85,
      "outputs": [
        {
          "output_type": "stream",
          "name": "stdout",
          "text": [
            "|                            |   Revenue |\n",
            "|:---------------------------|----------:|\n",
            "| (16679, '1/1/2019', 'Jan') |   138.339 |\n",
            "| (16680, '1/1/2019', 'Jan') |   138.339 |\n",
            "| (16681, '1/1/2019', 'Jan') |     1.845 |\n",
            "| (16682, '1/1/2019', 'Jan') |   634.916 |\n",
            "| (16684, '1/1/2019', 'Jan') |   294.336 |\n"
          ]
        }
      ]
    },
    {
      "cell_type": "markdown",
      "source": [
        "# Výpočet a graf celkových výnosů po měsících"
      ],
      "metadata": {
        "id": "147kNXcX1uv4"
      }
    },
    {
      "cell_type": "markdown",
      "source": [
        "## Výpočet"
      ],
      "metadata": {
        "id": "m4gv0i5w2PM6"
      }
    },
    {
      "cell_type": "code",
      "source": [
        "work_list = []\n",
        "\n",
        "for month in c_months:\n",
        "      filtered_df = df_sales[(df_sales['Month'] == month)]\n",
        "      sum_of_sales = filtered_df['Revenue'].sum()\n",
        "      work_list.append((month, sum_of_sales))\n",
        "\n",
        "df_MonthSales = pd.DataFrame.from_records(work_list, columns=['month', 'MonthRevenue']) # převod listu na data_frame\n",
        "\n",
        "print(df_MonthSales.to_markdown())"
      ],
      "metadata": {
        "colab": {
          "base_uri": "https://localhost:8080/"
        },
        "id": "gI1BUHGY17rb",
        "outputId": "f22b5f52-5879-4ec8-ac38-0d2393a4dfec"
      },
      "execution_count": 118,
      "outputs": [
        {
          "output_type": "stream",
          "name": "stdout",
          "text": [
            "|    | month   |   MonthRevenue |\n",
            "|---:|:--------|---------------:|\n",
            "|  0 | Jan     |         366879 |\n",
            "|  1 | Feb     |         256633 |\n",
            "|  2 | Mar     |         259261 |\n",
            "|  3 | Apr     |         363000 |\n",
            "|  4 | May     |         252411 |\n",
            "|  5 | Jun     |         240392 |\n",
            "|  6 | Jul     |         338576 |\n",
            "|  7 | Aug     |         331994 |\n",
            "|  8 | Sep     |         268301 |\n",
            "|  9 | Oct     |         373345 |\n",
            "| 10 | Nov     |         422158 |\n",
            "| 11 | Dec     |         391789 |\n"
          ]
        }
      ]
    },
    {
      "cell_type": "markdown",
      "source": [
        "## Graf"
      ],
      "metadata": {
        "id": "kwyHlleh2TPS"
      }
    },
    {
      "cell_type": "code",
      "source": [
        "# Create plot (replace with your desired plot type)\n",
        "plt.plot(df_MonthSales[\"month\"], df_MonthSales[\"MonthRevenue\"])\n",
        "plt.xlabel('Month')\n",
        "plt.ylabel('Revenue')\n",
        "plt.title('Plot of Monthly Revenue')\n",
        "plt.show()"
      ],
      "metadata": {
        "colab": {
          "base_uri": "https://localhost:8080/",
          "height": 472
        },
        "id": "FdK1ALuM2XwH",
        "outputId": "5605c80f-4165-43a5-dfd3-3bb04f5727a5"
      },
      "execution_count": 122,
      "outputs": [
        {
          "output_type": "display_data",
          "data": {
            "text/plain": [
              "<Figure size 640x480 with 1 Axes>"
            ],
            "image/png": "[encoded data removed]"
          },
          "metadata": {}
        }
      ]
    },
    {
      "cell_type": "markdown",
      "source": [
        "# Tržby po kategoriích a měsících"
      ],
      "metadata": {
        "id": "OlDiUSblYJUx"
      }
    },
    {
      "cell_type": "markdown",
      "source": [
        "### Funkční (ale nekonečný) výpočet měsíčních prodejů po kategoriích"
      ],
      "metadata": {
        "id": "2LzcmDzZ1SCd"
      }
    },
    {
      "cell_type": "code",
      "source": [
        "work_list = []\n",
        "\n",
        "for mesic in c_months:\n",
        "  for kategorie in c_product_category:\n",
        "    CategoryRevenue = 0\n",
        "    for i, row in df_sales.iterrows():\n",
        "      if row.Product_Category == kategorie and row.Month == mesic:\n",
        "        CategoryRevenue += row.Revenue\n",
        "    work_list.append((kategorie, mesic, CategoryRevenue)) # append vypočítaný záznam do listu\n",
        "#    print()\n",
        "#    slovnik[\"kategorie\"] = kategorie\n",
        "#    slovnik[\"mesic\"] = mesic\n",
        "#    slovnik[\"Sales\"] = CategorySales\n",
        "\n",
        "df_CatMonSales = pd.DataFrame.from_records(work_list, columns=['kategorie', 'mesic','CategoryRevenue']) # převod listu na data_frame\n",
        "\n",
        "print(df_CatMonSales.head().to_markdown())"
      ],
      "metadata": {
        "id": "7a4DCsQ4Yu5E",
        "outputId": "8552291d-b508-40a3-ae8f-40a3f523cc21",
        "colab": {
          "base_uri": "https://localhost:8080/",
          "height": 365
        }
      },
      "execution_count": 91,
      "outputs": [
        {
          "output_type": "error",
          "ename": "KeyboardInterrupt",
          "evalue": "",
          "traceback": [
            "\u001b[0;31m---------------------------------------------------------------------------\u001b[0m",
            "\u001b[0;31mKeyboardInterrupt\u001b[0m                         Traceback (most recent call last)",
            "\u001b[0;32m<ipython-input-91-d2f77c29fcd4>\u001b[0m in \u001b[0;36m<cell line: 3>\u001b[0;34m()\u001b[0m\n\u001b[1;32m      4\u001b[0m   \u001b[0;32mfor\u001b[0m \u001b[0mkategorie\u001b[0m \u001b[0;32min\u001b[0m \u001b[0mc_product_category\u001b[0m\u001b[0;34m:\u001b[0m\u001b[0;34m\u001b[0m\u001b[0;34m\u001b[0m\u001b[0m\n\u001b[1;32m      5\u001b[0m     \u001b[0mCategoryRevenue\u001b[0m \u001b[0;34m=\u001b[0m \u001b[0;36m0\u001b[0m\u001b[0;34m\u001b[0m\u001b[0;34m\u001b[0m\u001b[0m\n\u001b[0;32m----> 6\u001b[0;31m     \u001b[0;32mfor\u001b[0m \u001b[0mi\u001b[0m\u001b[0;34m,\u001b[0m \u001b[0mrow\u001b[0m \u001b[0;32min\u001b[0m \u001b[0mdf_sales\u001b[0m\u001b[0;34m.\u001b[0m\u001b[0miterrows\u001b[0m\u001b[0;34m(\u001b[0m\u001b[0;34m)\u001b[0m\u001b[0;34m:\u001b[0m\u001b[0;34m\u001b[0m\u001b[0;34m\u001b[0m\u001b[0m\n\u001b[0m\u001b[1;32m      7\u001b[0m       \u001b[0;32mif\u001b[0m \u001b[0mrow\u001b[0m\u001b[0;34m.\u001b[0m\u001b[0mProduct_Category\u001b[0m \u001b[0;34m==\u001b[0m \u001b[0mkategorie\u001b[0m \u001b[0;32mand\u001b[0m \u001b[0mrow\u001b[0m\u001b[0;34m.\u001b[0m\u001b[0mMonth\u001b[0m \u001b[0;34m==\u001b[0m \u001b[0mmesic\u001b[0m\u001b[0;34m:\u001b[0m\u001b[0;34m\u001b[0m\u001b[0;34m\u001b[0m\u001b[0m\n\u001b[1;32m      8\u001b[0m         \u001b[0mCategoryRevenue\u001b[0m \u001b[0;34m+=\u001b[0m \u001b[0mrow\u001b[0m\u001b[0;34m.\u001b[0m\u001b[0mRevenue\u001b[0m\u001b[0;34m\u001b[0m\u001b[0;34m\u001b[0m\u001b[0m\n",
            "\u001b[0;32m/usr/local/lib/python3.10/dist-packages/pandas/core/frame.py\u001b[0m in \u001b[0;36miterrows\u001b[0;34m(self)\u001b[0m\n\u001b[1;32m   1398\u001b[0m         \u001b[0musing_cow\u001b[0m \u001b[0;34m=\u001b[0m \u001b[0musing_copy_on_write\u001b[0m\u001b[0;34m(\u001b[0m\u001b[0;34m)\u001b[0m\u001b[0;34m\u001b[0m\u001b[0;34m\u001b[0m\u001b[0m\n\u001b[1;32m   1399\u001b[0m         \u001b[0;32mfor\u001b[0m \u001b[0mk\u001b[0m\u001b[0;34m,\u001b[0m \u001b[0mv\u001b[0m \u001b[0;32min\u001b[0m \u001b[0mzip\u001b[0m\u001b[0;34m(\u001b[0m\u001b[0mself\u001b[0m\u001b[0;34m.\u001b[0m\u001b[0mindex\u001b[0m\u001b[0;34m,\u001b[0m \u001b[0mself\u001b[0m\u001b[0;34m.\u001b[0m\u001b[0mvalues\u001b[0m\u001b[0;34m)\u001b[0m\u001b[0;34m:\u001b[0m\u001b[0;34m\u001b[0m\u001b[0;34m\u001b[0m\u001b[0m\n\u001b[0;32m-> 1400\u001b[0;31m             \u001b[0ms\u001b[0m \u001b[0;34m=\u001b[0m \u001b[0mklass\u001b[0m\u001b[0;34m(\u001b[0m\u001b[0mv\u001b[0m\u001b[0;34m,\u001b[0m \u001b[0mindex\u001b[0m\u001b[0;34m=\u001b[0m\u001b[0mcolumns\u001b[0m\u001b[0;34m,\u001b[0m \u001b[0mname\u001b[0m\u001b[0;34m=\u001b[0m\u001b[0mk\u001b[0m\u001b[0;34m)\u001b[0m\u001b[0;34m.\u001b[0m\u001b[0m__finalize__\u001b[0m\u001b[0;34m(\u001b[0m\u001b[0mself\u001b[0m\u001b[0;34m)\u001b[0m\u001b[0;34m\u001b[0m\u001b[0;34m\u001b[0m\u001b[0m\n\u001b[0m\u001b[1;32m   1401\u001b[0m             \u001b[0;32mif\u001b[0m \u001b[0musing_cow\u001b[0m \u001b[0;32mand\u001b[0m \u001b[0mself\u001b[0m\u001b[0;34m.\u001b[0m\u001b[0m_mgr\u001b[0m\u001b[0;34m.\u001b[0m\u001b[0mis_single_block\u001b[0m\u001b[0;34m:\u001b[0m\u001b[0;34m\u001b[0m\u001b[0;34m\u001b[0m\u001b[0m\n\u001b[1;32m   1402\u001b[0m                 \u001b[0ms\u001b[0m\u001b[0;34m.\u001b[0m\u001b[0m_mgr\u001b[0m\u001b[0;34m.\u001b[0m\u001b[0madd_references\u001b[0m\u001b[0;34m(\u001b[0m\u001b[0mself\u001b[0m\u001b[0;34m.\u001b[0m\u001b[0m_mgr\u001b[0m\u001b[0;34m)\u001b[0m  \u001b[0;31m# type: ignore[arg-type]\u001b[0m\u001b[0;34m\u001b[0m\u001b[0;34m\u001b[0m\u001b[0m\n",
            "\u001b[0;32m/usr/local/lib/python3.10/dist-packages/pandas/core/series.py\u001b[0m in \u001b[0;36m__init__\u001b[0;34m(self, data, index, dtype, name, copy, fastpath)\u001b[0m\n\u001b[1;32m    507\u001b[0m                 \u001b[0mdata\u001b[0m \u001b[0;34m=\u001b[0m \u001b[0mdata\u001b[0m\u001b[0;34m.\u001b[0m\u001b[0mcopy\u001b[0m\u001b[0;34m(\u001b[0m\u001b[0;34m)\u001b[0m\u001b[0;34m\u001b[0m\u001b[0;34m\u001b[0m\u001b[0m\n\u001b[1;32m    508\u001b[0m         \u001b[0;32melse\u001b[0m\u001b[0;34m:\u001b[0m\u001b[0;34m\u001b[0m\u001b[0;34m\u001b[0m\u001b[0m\n\u001b[0;32m--> 509\u001b[0;31m             \u001b[0mdata\u001b[0m \u001b[0;34m=\u001b[0m \u001b[0msanitize_array\u001b[0m\u001b[0;34m(\u001b[0m\u001b[0mdata\u001b[0m\u001b[0;34m,\u001b[0m \u001b[0mindex\u001b[0m\u001b[0;34m,\u001b[0m \u001b[0mdtype\u001b[0m\u001b[0;34m,\u001b[0m \u001b[0mcopy\u001b[0m\u001b[0;34m)\u001b[0m\u001b[0;34m\u001b[0m\u001b[0;34m\u001b[0m\u001b[0m\n\u001b[0m\u001b[1;32m    510\u001b[0m \u001b[0;34m\u001b[0m\u001b[0m\n\u001b[1;32m    511\u001b[0m             \u001b[0mmanager\u001b[0m \u001b[0;34m=\u001b[0m \u001b[0mget_option\u001b[0m\u001b[0;34m(\u001b[0m\u001b[0;34m\"mode.data_manager\"\u001b[0m\u001b[0;34m)\u001b[0m\u001b[0;34m\u001b[0m\u001b[0;34m\u001b[0m\u001b[0m\n",
            "\u001b[0;32m/usr/local/lib/python3.10/dist-packages/pandas/core/construction.py\u001b[0m in \u001b[0;36msanitize_array\u001b[0;34m(data, index, dtype, copy, allow_2d)\u001b[0m\n\u001b[1;32m    605\u001b[0m                 \u001b[0msubarr\u001b[0m \u001b[0;34m=\u001b[0m \u001b[0mmaybe_infer_to_datetimelike\u001b[0m\u001b[0;34m(\u001b[0m\u001b[0msubarr\u001b[0m\u001b[0;34m)\u001b[0m\u001b[0;34m\u001b[0m\u001b[0;34m\u001b[0m\u001b[0m\n\u001b[1;32m    606\u001b[0m \u001b[0;34m\u001b[0m\u001b[0m\n\u001b[0;32m--> 607\u001b[0;31m     \u001b[0msubarr\u001b[0m \u001b[0;34m=\u001b[0m \u001b[0m_sanitize_ndim\u001b[0m\u001b[0;34m(\u001b[0m\u001b[0msubarr\u001b[0m\u001b[0;34m,\u001b[0m \u001b[0mdata\u001b[0m\u001b[0;34m,\u001b[0m \u001b[0mdtype\u001b[0m\u001b[0;34m,\u001b[0m \u001b[0mindex\u001b[0m\u001b[0;34m,\u001b[0m \u001b[0mallow_2d\u001b[0m\u001b[0;34m=\u001b[0m\u001b[0mallow_2d\u001b[0m\u001b[0;34m)\u001b[0m\u001b[0;34m\u001b[0m\u001b[0;34m\u001b[0m\u001b[0m\n\u001b[0m\u001b[1;32m    608\u001b[0m \u001b[0;34m\u001b[0m\u001b[0m\n\u001b[1;32m    609\u001b[0m     \u001b[0;32mif\u001b[0m \u001b[0misinstance\u001b[0m\u001b[0;34m(\u001b[0m\u001b[0msubarr\u001b[0m\u001b[0;34m,\u001b[0m \u001b[0mnp\u001b[0m\u001b[0;34m.\u001b[0m\u001b[0mndarray\u001b[0m\u001b[0;34m)\u001b[0m\u001b[0;34m:\u001b[0m\u001b[0;34m\u001b[0m\u001b[0;34m\u001b[0m\u001b[0m\n",
            "\u001b[0;32m/usr/local/lib/python3.10/dist-packages/pandas/core/construction.py\u001b[0m in \u001b[0;36m_sanitize_ndim\u001b[0;34m(result, data, dtype, index, allow_2d)\u001b[0m\n\u001b[1;32m    653\u001b[0m     \u001b[0mEnsure\u001b[0m \u001b[0mwe\u001b[0m \u001b[0mhave\u001b[0m \u001b[0ma\u001b[0m \u001b[0;36m1\u001b[0m\u001b[0;34m-\u001b[0m\u001b[0mdimensional\u001b[0m \u001b[0mresult\u001b[0m \u001b[0marray\u001b[0m\u001b[0;34m.\u001b[0m\u001b[0;34m\u001b[0m\u001b[0;34m\u001b[0m\u001b[0m\n\u001b[1;32m    654\u001b[0m     \"\"\"\n\u001b[0;32m--> 655\u001b[0;31m     \u001b[0;32mif\u001b[0m \u001b[0mgetattr\u001b[0m\u001b[0;34m(\u001b[0m\u001b[0mresult\u001b[0m\u001b[0;34m,\u001b[0m \u001b[0;34m\"ndim\"\u001b[0m\u001b[0;34m,\u001b[0m \u001b[0;36m0\u001b[0m\u001b[0;34m)\u001b[0m \u001b[0;34m==\u001b[0m \u001b[0;36m0\u001b[0m\u001b[0;34m:\u001b[0m\u001b[0;34m\u001b[0m\u001b[0;34m\u001b[0m\u001b[0m\n\u001b[0m\u001b[1;32m    656\u001b[0m         \u001b[0;32mraise\u001b[0m \u001b[0mValueError\u001b[0m\u001b[0;34m(\u001b[0m\u001b[0;34m\"result should be arraylike with ndim > 0\"\u001b[0m\u001b[0;34m)\u001b[0m\u001b[0;34m\u001b[0m\u001b[0;34m\u001b[0m\u001b[0m\n\u001b[1;32m    657\u001b[0m \u001b[0;34m\u001b[0m\u001b[0m\n",
            "\u001b[0;31mKeyboardInterrupt\u001b[0m: "
          ]
        }
      ]
    },
    {
      "cell_type": "markdown",
      "source": [
        "##Výpočet"
      ],
      "metadata": {
        "id": "dk8YuV9u9wFv"
      }
    },
    {
      "cell_type": "code",
      "source": [
        "work_list = []\n",
        "\n",
        "for month, category in c_month_categories:\n",
        "      filtered_df = df_sales[(df_sales['Month'] == month) & (df_sales['Product_Category'] == category)]\n",
        "      sum_of_sales = filtered_df['Revenue'].sum()\n",
        "      work_list.append((month, category, sum_of_sales))\n",
        "\n",
        "df_MonthCategorySales = pd.DataFrame.from_records(work_list, columns=['month', 'category','CategoryRevenue']) # převod listu na data_frame\n",
        "\n",
        "print(df_MonthCategorySales.head().to_markdown())\n"
      ],
      "metadata": {
        "colab": {
          "base_uri": "https://localhost:8080/"
        },
        "id": "dVRnd9_KnbRM",
        "outputId": "d4270d6b-e136-4ce8-8cfe-9e1a4eaaaf2d"
      },
      "execution_count": 125,
      "outputs": [
        {
          "output_type": "stream",
          "name": "stdout",
          "text": [
            "|    | month   | category    |   CategoryRevenue |\n",
            "|---:|:--------|:------------|------------------:|\n",
            "|  0 | Jan     | Nest        |             0     |\n",
            "|  1 | Jan     | Drinkware   |         13378     |\n",
            "|  2 | Jan     | Bottles     |           535.774 |\n",
            "|  3 | Jan     | Nest-Canada |          8777.05  |\n",
            "|  4 | Jan     | Office      |         24949.1   |\n"
          ]
        }
      ]
    },
    {
      "cell_type": "markdown",
      "source": [
        "## Graf"
      ],
      "metadata": {
        "id": "mEh-OyQzz32t"
      }
    },
    {
      "cell_type": "code",
      "source": [
        "# Specify categories to plot\n",
        "categories_to_plot = ['Apparel']\n",
        "\n",
        "# Filter data for desired categories\n",
        "filtered_data = df_MonthCategorySales[df_MonthCategorySales['category'].isin(categories_to_plot)]\n",
        "\n",
        "# Create plot (replace with your desired plot type)\n",
        "plt.plot(filtered_data[\"month\"], filtered_data[\"CategoryRevenue\"])\n",
        "plt.xlabel('Month')\n",
        "plt.ylabel('Revenue')\n",
        "plt.title('Plot of Apparel Revenue')\n",
        "plt.show()"
      ],
      "metadata": {
        "id": "EDucS6Zy5Zns",
        "outputId": "5c2074a0-889c-4d27-f20b-70c1d95e4fa5",
        "colab": {
          "base_uri": "https://localhost:8080/",
          "height": 472
        }
      },
      "execution_count": 119,
      "outputs": [
        {
          "output_type": "display_data",
          "data": {
            "text/plain": [
              "<Figure size 640x480 with 1 Axes>"
            ],
            "image/png": "[encoded data removed]"
          },
          "metadata": {}
        }
      ]
    }
  ]
}