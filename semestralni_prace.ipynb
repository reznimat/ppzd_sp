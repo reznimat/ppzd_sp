{
  "nbformat": 4,
  "nbformat_minor": 0,
  "metadata": {
    "colab": {
      "provenance": [],
      "toc_visible": true,
      "authorship_tag": "ABX9TyOoMf7aDbCdsWjZMeB4VDQc",
      "include_colab_link": true
    },
    "kernelspec": {
      "name": "python3",
      "display_name": "Python 3"
    },
    "language_info": {
      "name": "python"
    }
  },
  "cells": [
    {
      "cell_type": "markdown",
      "metadata": {
        "id": "view-in-github",
        "colab_type": "text"
      },
      "source": [
        "<a href=\"https://colab.research.google.com/github/reznimat/ppzd_sp/blob/main/semestralni_prace.ipynb\" target=\"_parent\"><img src=\"https://colab.research.google.com/assets/colab-badge.svg\" alt=\"Open In Colab\"/></a>"
      ]
    },
    {
      "cell_type": "markdown",
      "source": [
        "# Načtení knihoven"
      ],
      "metadata": {
        "id": "KR3cauWD9n2N"
      }
    },
    {
      "cell_type": "code",
      "source": [
        "import csv\n",
        "import pandas as pd\n",
        "import math as mt\n",
        "import datetime as dt\n",
        "from matplotlib import pyplot as plt"
      ],
      "metadata": {
        "id": "Fx7NIFKj8G8z"
      },
      "execution_count": 2,
      "outputs": []
    },
    {
      "cell_type": "markdown",
      "source": [
        "# Definice funkcí"
      ],
      "metadata": {
        "id": "4OwYRyl9BAa0"
      }
    },
    {
      "cell_type": "code",
      "source": [
        "# funkce pro výpočet sales_amount po slevě na úrovni item\n",
        "# není zohledněna doprava\n",
        "def RowTotal(row):\n",
        "    if row[\"Coupon_Status\"] == 'Not Used':\n",
        "      return (row[\"Quantity\"]*row[\"Avg_Price\"])*(1+(row[\"GST_pct\"]/100))\n",
        "    else:\n",
        "      return (row[\"Quantity\"]*row[\"Avg_Price\"])*(1+(row[\"GST_pct\"]/100))*(1-(row[\"Discount_pct\"]/100))"
      ],
      "metadata": {
        "id": "HCxCjybWBMd8"
      },
      "execution_count": 26,
      "outputs": []
    },
    {
      "cell_type": "markdown",
      "source": [
        "# Načtení datových souborů"
      ],
      "metadata": {
        "id": "WKohccUD7Sgu"
      }
    },
    {
      "cell_type": "code",
      "execution_count": 21,
      "metadata": {
        "colab": {
          "base_uri": "https://localhost:8080/"
        },
        "id": "62D1J0lwqqpz",
        "outputId": "66f53010-131c-4291-a441-c93543f93653"
      },
      "outputs": [
        {
          "output_type": "stream",
          "name": "stdout",
          "text": [
            "**Sales**\n",
            "<class 'pandas.core.frame.DataFrame'>\n",
            "RangeIndex: 52924 entries, 0 to 52923\n",
            "Data columns (total 10 columns):\n",
            " #   Column               Non-Null Count  Dtype  \n",
            "---  ------               --------------  -----  \n",
            " 0   CustomerID           52924 non-null  int64  \n",
            " 1   Transaction_ID       52924 non-null  int64  \n",
            " 2   Transaction_Date     52924 non-null  object \n",
            " 3   Product_SKU          52924 non-null  object \n",
            " 4   Product_Description  52924 non-null  object \n",
            " 5   Product_Category     52924 non-null  object \n",
            " 6   Quantity             52924 non-null  int64  \n",
            " 7   Avg_Price            52924 non-null  float64\n",
            " 8   Delivery_Charges     52924 non-null  float64\n",
            " 9   Coupon_Status        52924 non-null  object \n",
            "dtypes: float64(2), int64(3), object(5)\n",
            "memory usage: 4.0+ MB\n",
            "None\n",
            "\n",
            "------\n",
            "\n",
            "**Coupons**\n",
            "<class 'pandas.core.frame.DataFrame'>\n",
            "RangeIndex: 204 entries, 0 to 203\n",
            "Data columns (total 4 columns):\n",
            " #   Column            Non-Null Count  Dtype \n",
            "---  ------            --------------  ----- \n",
            " 0   Month             204 non-null    object\n",
            " 1   Product_Category  204 non-null    object\n",
            " 2   Coupon_Code       204 non-null    object\n",
            " 3   Discount_pct      204 non-null    int64 \n",
            "dtypes: int64(1), object(3)\n",
            "memory usage: 6.5+ KB\n",
            "None\n",
            "\n",
            "------\n",
            "\n",
            "**Tax**\n",
            "<class 'pandas.core.frame.DataFrame'>\n",
            "RangeIndex: 20 entries, 0 to 19\n",
            "Data columns (total 2 columns):\n",
            " #   Column            Non-Null Count  Dtype \n",
            "---  ------            --------------  ----- \n",
            " 0   Product_Category  20 non-null     object\n",
            " 1   GST_pct           20 non-null     int64 \n",
            "dtypes: int64(1), object(1)\n",
            "memory usage: 448.0+ bytes\n",
            "None\n"
          ]
        }
      ],
      "source": [
        "# POZOR, pouze vzorek dat\n",
        "#url_sales = 'https://raw.githubusercontent.com/reznimat/ppzd_sp/main/SAMPLE_Online_Sales.csv'\n",
        "url_sales = 'https://raw.githubusercontent.com/reznimat/ppzd_sp/main/Online_Sales.csv'\n",
        "df_sales = pd.read_csv(url_sales)\n",
        "\n",
        "url_coupons = 'https://raw.githubusercontent.com/reznimat/ppzd_sp/main/Discount_Coupon.csv'\n",
        "df_coupons = pd.read_csv(url_coupons,sep=\";\")\n",
        "\n",
        "url_tax = 'https://raw.githubusercontent.com/reznimat/ppzd_sp/main/Tax_amount.csv' #původní GST ve formátu 10% ručně upraveno na GST_pct ve formátu 10 (18 položek)\n",
        "df_tax = pd.read_csv(url_tax,sep=\";\")\n",
        "\n",
        "#dict_sales = df_sales.to_dict('records')\n",
        "\n",
        "print('**Sales**')\n",
        "print(df_sales.info())\n",
        "print('\\n------\\n')\n",
        "print('**Coupons**')\n",
        "print(df_coupons.info())\n",
        "print('\\n------\\n')\n",
        "print('**Tax**')\n",
        "print(df_tax.info())\n",
        "\n"
      ]
    },
    {
      "cell_type": "markdown",
      "source": [
        "# Calculate Invoice amount or sale_amount or revenue for each transaction and item level"
      ],
      "metadata": {
        "id": "-nM0E0m__BU-"
      }
    },
    {
      "cell_type": "markdown",
      "source": [
        " - Hint: InvoiceValue = (( QuantityAvg_price)(1-Dicount_pct)*(1+GST))+Delivery_Charges\n"
      ],
      "metadata": {
        "id": "7yCQkTbW_blT"
      }
    },
    {
      "cell_type": "markdown",
      "source": [
        "## Obohacení df_sales o atribut Month (Date Abrv)"
      ],
      "metadata": {
        "id": "ddUgo2YULu-U"
      }
    },
    {
      "cell_type": "code",
      "source": [
        "# Obohacení df_sales o Month pole\n",
        "def MonthAbrv(row):\n",
        "    return pd.to_datetime(row.Transaction_Date,format='%m/%d/%Y').strftime(\"%b\")\n",
        "\n",
        "df_sales['Month'] = df_sales.apply(MonthAbrv, axis=1)\n",
        "\n",
        "#print(df_sales.info())"
      ],
      "metadata": {
        "id": "j2Zmc30QJZRy"
      },
      "execution_count": 22,
      "outputs": []
    },
    {
      "cell_type": "markdown",
      "source": [
        "## Spojení sales a coupons tabulek přes Product_Category a Month"
      ],
      "metadata": {
        "id": "QSprzQTzMACk"
      }
    },
    {
      "cell_type": "code",
      "source": [
        "#Merge Sales a Coupons na základě Product Category a Month\n",
        "df_sales_coupons = pd.merge(df_sales,df_coupons, on=[\"Product_Category\",\"Month\"])\n",
        "df_sales_coupons_tax = pd.merge(df_sales_coupons,df_tax, on=[\"Product_Category\"])\n",
        "\n",
        "#print(df_sales_coupons.info())\n",
        "print(df_sales_coupons_tax.info())"
      ],
      "metadata": {
        "colab": {
          "base_uri": "https://localhost:8080/"
        },
        "id": "S5aamdr6MIQP",
        "outputId": "c2a204e5-6b7f-4850-9233-29f20d048e68"
      },
      "execution_count": 23,
      "outputs": [
        {
          "output_type": "stream",
          "name": "stdout",
          "text": [
            "<class 'pandas.core.frame.DataFrame'>\n",
            "RangeIndex: 52524 entries, 0 to 52523\n",
            "Data columns (total 14 columns):\n",
            " #   Column               Non-Null Count  Dtype  \n",
            "---  ------               --------------  -----  \n",
            " 0   CustomerID           52524 non-null  int64  \n",
            " 1   Transaction_ID       52524 non-null  int64  \n",
            " 2   Transaction_Date     52524 non-null  object \n",
            " 3   Product_SKU          52524 non-null  object \n",
            " 4   Product_Description  52524 non-null  object \n",
            " 5   Product_Category     52524 non-null  object \n",
            " 6   Quantity             52524 non-null  int64  \n",
            " 7   Avg_Price            52524 non-null  float64\n",
            " 8   Delivery_Charges     52524 non-null  float64\n",
            " 9   Coupon_Status        52524 non-null  object \n",
            " 10  Month                52524 non-null  object \n",
            " 11  Coupon_Code          52524 non-null  object \n",
            " 12  Discount_pct         52524 non-null  int64  \n",
            " 13  GST_pct              52524 non-null  int64  \n",
            "dtypes: float64(2), int64(5), object(7)\n",
            "memory usage: 5.6+ MB\n",
            "None\n"
          ]
        }
      ]
    },
    {
      "cell_type": "markdown",
      "source": [
        "## Počet a výpis jedinečných produktových kategorií"
      ],
      "metadata": {
        "id": "yPs5tmfQ7pls"
      }
    },
    {
      "cell_type": "code",
      "source": [
        "# Počet a výpis distinktních produktových kategorií\n",
        "uniqPC = set()\n",
        "for i, row in df_sales.iterrows():\n",
        "  uniqPC.add(row[\"Product_Category\"])\n",
        "\n",
        "print(\"Produktových kategorií: \"+ str(len(uniqPC)) )  # vypíše počet produktových kategorií\n",
        "print(uniqPC)  # vypíše seznam produktových kategorií"
      ],
      "metadata": {
        "colab": {
          "base_uri": "https://localhost:8080/"
        },
        "id": "h6V-Fgpg7qJL",
        "outputId": "cf544562-9272-43c2-906d-d48462e93890"
      },
      "execution_count": 24,
      "outputs": [
        {
          "output_type": "stream",
          "name": "stdout",
          "text": [
            "Produktových kategorií: 20\n",
            "{'Android', 'Gift Cards', 'Apparel', 'Housewares', 'Headgear', 'Bottles', 'Nest-Canada', 'Google', 'Waze', 'Accessories', 'Notebooks & Journals', 'Nest', 'Drinkware', 'Office', 'Lifestyle', 'Fun', 'Backpacks', 'More Bags', 'Nest-USA', 'Bags'}\n"
          ]
        }
      ]
    },
    {
      "cell_type": "markdown",
      "source": [
        "## Obohacení sales_coupons o RowTotal"
      ],
      "metadata": {
        "id": "xacjIhxA72w-"
      }
    },
    {
      "cell_type": "code",
      "source": [
        "# nejsou započítány náklady na dopravu a daně\n",
        "\n",
        "#def RowTotal(row):\n",
        "#    if row[\"Coupon_Status\"] == 'Not Used':\n",
        "#      return row[\"Quantity\"] * row[\"Avg_Price\"]\n",
        "#    else:\n",
        "#      return (row[\"Quantity\"] * row[\"Avg_Price\"])*(1-(row[\"Discount_pct\"]/100))\n",
        "\n",
        "df_sales_coupons_tax[\"RowTotal\"] = df_sales_coupons_tax.apply(RowTotal,axis = 1)\n",
        "\n",
        "print(df_sales_coupons_tax)"
      ],
      "metadata": {
        "colab": {
          "base_uri": "https://localhost:8080/"
        },
        "id": "uy-669Yw73G-",
        "outputId": "5f0a86b7-2f3a-4be1-e755-cb8a14d6b8ec"
      },
      "execution_count": 28,
      "outputs": [
        {
          "output_type": "stream",
          "name": "stdout",
          "text": [
            "       CustomerID  Transaction_ID Transaction_Date     Product_SKU  \\\n",
            "0           17850           16679         1/1/2019  GGOENEBJ079499   \n",
            "1           17850           16680         1/1/2019  GGOENEBJ079499   \n",
            "2           13047           16684         1/1/2019  GGOENEBQ078999   \n",
            "3           13047           16684         1/1/2019  GGOENEBQ079199   \n",
            "4           13047           16688         1/1/2019  GGOENEBB078899   \n",
            "...           ...             ...              ...             ...   \n",
            "52519       12956           48475       12/31/2019  GGOENEBQ092299   \n",
            "52520       12956           48477       12/31/2019  GGOENEBQ086799   \n",
            "52521       14410           48490       12/31/2019  GGOENEBQ086799   \n",
            "52522       14410           48491       12/31/2019  GGOENEBQ086799   \n",
            "52523       14410           48492       12/31/2019  GGOENEBQ086799   \n",
            "\n",
            "                                     Product_Description Product_Category  \\\n",
            "0      Nest Learning Thermostat 3rd Gen-USA - Stainle...         Nest-USA   \n",
            "1      Nest Learning Thermostat 3rd Gen-USA - Stainle...         Nest-USA   \n",
            "2                 Nest Cam Outdoor Security Camera - USA         Nest-USA   \n",
            "3          Nest Protect Smoke + CO White Wired Alarm-USA         Nest-USA   \n",
            "4                  Nest Cam Indoor Security Camera - USA         Nest-USA   \n",
            "...                                                  ...              ...   \n",
            "52519        Nest Secure Alarm System Starter Pack - USA             Nest   \n",
            "52520                            Nest Thermostat E - USA             Nest   \n",
            "52521                            Nest Thermostat E - USA             Nest   \n",
            "52522                            Nest Thermostat E - USA             Nest   \n",
            "52523                            Nest Thermostat E - USA             Nest   \n",
            "\n",
            "       Quantity  Avg_Price  Delivery_Charges Coupon_Status Month Coupon_Code  \\\n",
            "0             1     153.71               6.5          Used   Jan      ELEC10   \n",
            "1             1     153.71               6.5          Used   Jan      ELEC10   \n",
            "2             2     122.77               6.5       Clicked   Jan      ELEC10   \n",
            "3             1      81.50               6.5          Used   Jan      ELEC10   \n",
            "4             1     122.77               6.5          Used   Jan      ELEC10   \n",
            "...         ...        ...               ...           ...   ...         ...   \n",
            "52519         1     355.74               6.5       Clicked   Dec        NE30   \n",
            "52520         1     100.91               6.5      Not Used   Dec        NE30   \n",
            "52521         1     100.91               6.5       Clicked   Dec        NE30   \n",
            "52522         1     100.91               6.5       Clicked   Dec        NE30   \n",
            "52523         3     100.91               6.5       Clicked   Dec        NE30   \n",
            "\n",
            "       Discount_pct  GST_pct   RowTotal  \n",
            "0                10       10  152.17290  \n",
            "1                10       10  152.17290  \n",
            "2                10       10  243.08460  \n",
            "3                10       10   80.68500  \n",
            "4                10       10  121.54230  \n",
            "...             ...      ...        ...  \n",
            "52519            30        5  261.46890  \n",
            "52520            30        5  105.95550  \n",
            "52521            30        5   74.16885  \n",
            "52522            30        5   74.16885  \n",
            "52523            30        5  222.50655  \n",
            "\n",
            "[52524 rows x 15 columns]\n"
          ]
        }
      ]
    },
    {
      "cell_type": "code",
      "source": [
        "Months = ('Jan','Feb','Mar','Apr','May','Jun','Jul','Aug','Sep','Oct','Nov','Dec')\n",
        "#print(Months)"
      ],
      "metadata": {
        "id": "byz6KiuNvcaH"
      },
      "execution_count": null,
      "outputs": []
    },
    {
      "cell_type": "markdown",
      "source": [
        "**Tržby po kategoriích a měsících**"
      ],
      "metadata": {
        "id": "OlDiUSblYJUx"
      }
    },
    {
      "cell_type": "code",
      "source": [
        "Month_Category_Sales = df_sales_coupons[[\"Transaction_Date\",\"Month\",\"Product_Category\",\"RowTotal\"]]\n",
        "\n",
        "print(Month_Category_Sales)"
      ],
      "metadata": {
        "id": "ZxgknQdFUVXN",
        "outputId": "da2291f6-cdf4-4018-f147-2092862b3e01",
        "colab": {
          "base_uri": "https://localhost:8080/"
        }
      },
      "execution_count": null,
      "outputs": [
        {
          "output_type": "stream",
          "name": "stdout",
          "text": [
            "      Transaction_Date Month Product_Category  RowTotal\n",
            "0             1/1/2019   Jan         Nest-USA   138.339\n",
            "1             1/1/2019   Jan         Nest-USA   138.339\n",
            "2             1/1/2019   Jan         Nest-USA   220.986\n",
            "3             1/1/2019   Jan         Nest-USA    73.350\n",
            "4             1/1/2019   Jan         Nest-USA   110.493\n",
            "...                ...   ...              ...       ...\n",
            "52519       12/17/2019   Dec       Gift Cards    71.351\n",
            "52520       12/19/2019   Dec       Gift Cards    35.672\n",
            "52521       12/23/2019   Dec       Gift Cards   178.374\n",
            "52522       12/25/2019   Dec       Gift Cards    25.480\n",
            "52523       12/29/2019   Dec       Gift Cards    71.351\n",
            "\n",
            "[52524 rows x 4 columns]\n"
          ]
        }
      ]
    },
    {
      "cell_type": "markdown",
      "source": [
        "** Pokus o graf - groupby ale udělal z měsíců indexy a řadí je teď podle abecedy **"
      ],
      "metadata": {
        "id": "imkhBdZ6yQ4A"
      }
    },
    {
      "source": [
        "df=Month_Category_Sales\n",
        "\n",
        "# Specify categories to plot\n",
        "categories_to_plot = ['Apparel']\n",
        "\n",
        "# Filter data for desired categories\n",
        "filtered_data = df[df['Product_Category'].isin(categories_to_plot)]\n",
        "\n",
        "plot_input=filtered_data.groupby('Month').sum('RowTotal')\n",
        "#plot_input['month_datetime'] = pd.to_datetime(plot_input.index)\n",
        "\n",
        "print(plot_input)\n",
        "\n",
        "#plot_input = plot_input.set_index('month_datetime')\n",
        "#plot_input = plot_input.sort_index()\n",
        "\n",
        "\n",
        "\n",
        "# Create your plot (replace with your desired plot type)\n",
        "\n",
        "plt.plot(plot_input.index, plot_input[\"RowTotal\"])\n",
        "plt.xlabel('Month')\n",
        "plt.ylabel('RowTotal')\n",
        "plt.title('Plot of Apparel transactions')\n",
        "plt.show()"
      ],
      "cell_type": "code",
      "metadata": {
        "id": "Q9NnN3uwl-jp",
        "outputId": "a4ca3352-5a39-49bd-acbd-f31d6d358f9c",
        "colab": {
          "base_uri": "https://localhost:8080/",
          "height": 722
        }
      },
      "execution_count": null,
      "outputs": [
        {
          "output_type": "stream",
          "name": "stdout",
          "text": [
            "        RowTotal\n",
            "Month           \n",
            "Apr    80949.670\n",
            "Aug    44199.104\n",
            "Dec    36533.925\n",
            "Feb    31479.736\n",
            "Jan    35093.928\n",
            "Jul    59711.047\n",
            "Jun    33868.464\n",
            "Mar    44846.421\n",
            "May    49009.162\n",
            "Nov    15374.506\n",
            "Oct    19861.988\n",
            "Sep    41633.391\n"
          ]
        },
        {
          "output_type": "display_data",
          "data": {
            "text/plain": [
              "<Figure size 640x480 with 1 Axes>"
            ],
            "image/png": "[encoded data removed]"
          },
          "metadata": {}
        }
      ]
    },
    {
      "cell_type": "markdown",
      "source": [
        "** Funkční (ale nekonečný) výpočet měsíčních prodejů po kategoriích **"
      ],
      "metadata": {
        "id": "2LzcmDzZ1SCd"
      }
    },
    {
      "cell_type": "code",
      "source": [
        "my_list = []\n",
        "\n",
        "for kategorie in uniqPC:\n",
        "  for mesic in Months:\n",
        "    CategorySales = 0\n",
        "    for i, row in df_sales_coupons.iterrows():\n",
        "      if row.Product_Category == kategorie and row.Month == mesic:\n",
        "        if row.Coupon_Status =='Not Used':\n",
        "          CategorySales += (row.Quantity*row.Avg_Price) # Bez slevy\n",
        "        else:\n",
        "          CategorySales += (row.Quantity*row.Avg_Price)*(1-(row.Discount_pct/100)) # Se slevou\n",
        "    my_list.append((kategorie, mesic, CategorySales)) # append vypočítaný záznam do listu\n",
        "#    print()\n",
        "#    slovnik[\"kategorie\"] = kategorie\n",
        "#    slovnik[\"mesic\"] = mesic\n",
        "#    slovnik[\"Sales\"] = CategorySales\n",
        "\n",
        "df_CatMonSales = pd.DataFrame.from_records(my_list, columns=['kategorie', 'mesic','Sales']) # převod listu na data_frame\n",
        "\n",
        "print(df_CatMonSales)"
      ],
      "metadata": {
        "id": "7a4DCsQ4Yu5E",
        "outputId": "bcd93f3e-08a0-43c3-d60a-6d54a45724da",
        "colab": {
          "base_uri": "https://localhost:8080/"
        }
      },
      "execution_count": null,
      "outputs": [
        {
          "output_type": "stream",
          "name": "stdout",
          "text": [
            "     kategorie mesic    Sales\n",
            "0    More Bags   Jan    0.000\n",
            "1    More Bags   Feb    0.000\n",
            "2    More Bags   Mar    0.000\n",
            "3    More Bags   Apr    0.000\n",
            "4    More Bags   May    0.000\n",
            "..         ...   ...      ...\n",
            "235       Waze   Aug  458.282\n",
            "236       Waze   Sep  229.867\n",
            "237       Waze   Oct  440.034\n",
            "238       Waze   Nov  858.362\n",
            "239       Waze   Dec  477.472\n",
            "\n",
            "[240 rows x 3 columns]\n"
          ]
        }
      ]
    },
    {
      "cell_type": "code",
      "source": [
        "df=df_CatMonSales\n",
        "\n",
        "# Specify categories to plot\n",
        "categories_to_plot = ['Apparel']\n",
        "\n",
        "# Filter data for desired categories\n",
        "filtered_data = df[df['kategorie'].isin(categories_to_plot)]\n",
        "\n",
        "# Create your plot (replace with your desired plot type)\n",
        "\n",
        "plt.plot(filtered_data[\"mesic\"], filtered_data[\"Sales\"])\n",
        "plt.xlabel('Month')\n",
        "plt.ylabel('TotalSales')\n",
        "plt.title('Plot of Apparel Sales')\n",
        "plt.show()"
      ],
      "metadata": {
        "id": "EDucS6Zy5Zns",
        "outputId": "3ce26a4d-1791-4252-e976-f8b49b98abda",
        "colab": {
          "base_uri": "https://localhost:8080/",
          "height": 472
        }
      },
      "execution_count": null,
      "outputs": [
        {
          "output_type": "display_data",
          "data": {
            "text/plain": [
              "<Figure size 640x480 with 1 Axes>"
            ],
            "image/png": "[encoded data removed]"
          },
          "metadata": {}
        }
      ]
    }
  ]
}