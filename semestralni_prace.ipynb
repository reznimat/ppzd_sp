{
  "nbformat": 4,
  "nbformat_minor": 0,
  "metadata": {
    "colab": {
      "provenance": [],
      "toc_visible": true,
      "authorship_tag": "ABX9TyNErA59WWdO2FGkAPrxFBIS",
      "include_colab_link": true
    },
    "kernelspec": {
      "name": "python3",
      "display_name": "Python 3"
    },
    "language_info": {
      "name": "python"
    }
  },
  "cells": [
    {
      "cell_type": "markdown",
      "metadata": {
        "id": "view-in-github",
        "colab_type": "text"
      },
      "source": [
        "<a href=\"https://colab.research.google.com/github/reznimat/ppzd_sp/blob/main/semestralni_prace.ipynb\" target=\"_parent\"><img src=\"https://colab.research.google.com/assets/colab-badge.svg\" alt=\"Open In Colab\"/></a>"
      ]
    },
    {
      "cell_type": "markdown",
      "source": [
        "**Načtení knihoven**"
      ],
      "metadata": {
        "id": "iNSCLwPV8KFw"
      }
    },
    {
      "cell_type": "code",
      "source": [
        "import csv\n",
        "import pandas as pd\n",
        "import math as mt"
      ],
      "metadata": {
        "id": "Fx7NIFKj8G8z"
      },
      "execution_count": 1,
      "outputs": []
    },
    {
      "cell_type": "markdown",
      "source": [
        "**Načtení datových souborů**"
      ],
      "metadata": {
        "id": "WKohccUD7Sgu"
      }
    },
    {
      "cell_type": "code",
      "execution_count": 7,
      "metadata": {
        "colab": {
          "base_uri": "https://localhost:8080/"
        },
        "id": "62D1J0lwqqpz",
        "outputId": "4f41a82d-0c76-4c35-90b2-0929ab54ce86"
      },
      "outputs": [
        {
          "output_type": "stream",
          "name": "stdout",
          "text": [
            "Sales\n",
            "CustomerID             52924\n",
            "Transaction_ID         52924\n",
            "Transaction_Date       52924\n",
            "Product_SKU            52924\n",
            "Product_Description    52924\n",
            "Product_Category       52924\n",
            "Quantity               52924\n",
            "Avg_Price              52924\n",
            "Delivery_Charges       52924\n",
            "Coupon_Status          52924\n",
            "dtype: int64\n",
            "------\n",
            "Coupons\n",
            "Month               204\n",
            "Product_Category    204\n",
            "Coupon_Code         204\n",
            "Discount_pct        204\n",
            "dtype: int64\n"
          ]
        }
      ],
      "source": [
        "url_sales = 'https://raw.githubusercontent.com/reznimat/ppzd_sp/main/Online_Sales.csv'\n",
        "df_sales = pd.read_csv(url_sales)\n",
        "\n",
        "url_coupons = 'https://raw.githubusercontent.com/reznimat/ppzd_sp/main/Discount_Coupon.csv'\n",
        "df_coupons = pd.read_csv(url_coupons,sep=\";\")\n",
        "\n",
        "print('Sales')\n",
        "print(df_sales.count())\n",
        "\n",
        "print('------')\n",
        "\n",
        "print('Coupons')\n",
        "print(df_coupons.count())"
      ]
    },
    {
      "cell_type": "markdown",
      "source": [
        "**Počet a výpis jedinečných produktových kategorií**"
      ],
      "metadata": {
        "id": "yPs5tmfQ7pls"
      }
    },
    {
      "cell_type": "code",
      "source": [
        "# Počet a výpis distinktních produktových kategorií\n",
        "uniq = set()\n",
        "for i, row in df_sales.iterrows():\n",
        "  uniq.add(row[\"Product_Category\"])\n",
        "\n",
        "print(\"Produktových kategorií: \"+ str(len(uniq)) )  # vypíše počet produktových kategorií\n",
        "print(uniq)  # vypíše seznam produktových kategorií"
      ],
      "metadata": {
        "id": "h6V-Fgpg7qJL",
        "outputId": "c751b64d-cda0-4224-8a95-16459c72413a",
        "colab": {
          "base_uri": "https://localhost:8080/"
        }
      },
      "execution_count": 8,
      "outputs": [
        {
          "output_type": "stream",
          "name": "stdout",
          "text": [
            "Produktových kategorií: 20\n",
            "{'Android', 'Google', 'Office', 'Notebooks & Journals', 'Bottles', 'Drinkware', 'Bags', 'Nest-Canada', 'Fun', 'More Bags', 'Nest', 'Gift Cards', 'Lifestyle', 'Backpacks', 'Housewares', 'Apparel', 'Waze', 'Headgear', 'Nest-USA', 'Accessories'}\n"
          ]
        }
      ]
    },
    {
      "cell_type": "markdown",
      "source": [
        "**Suma tržeb pro kategorii Apparel** (bez započítání slev)"
      ],
      "metadata": {
        "id": "xacjIhxA72w-"
      }
    },
    {
      "cell_type": "code",
      "source": [
        "ApparelSales = 0\n",
        "AvgOrderPrice = 0\n",
        "\n",
        "for i, row in df_sales.iterrows():\n",
        "  if row.Product_Category == 'Apparel':\n",
        "    ApparelSales += row.Quantity*row.Avg_Price\n",
        "\n",
        "print(ApparelSales)"
      ],
      "metadata": {
        "id": "uy-669Yw73G-",
        "outputId": "37cfe4d7-ab91-4147-adb1-8e2c52027482",
        "colab": {
          "base_uri": "https://localhost:8080/"
        }
      },
      "execution_count": 10,
      "outputs": [
        {
          "output_type": "stream",
          "name": "stdout",
          "text": [
            "591145.8000000062\n"
          ]
        }
      ]
    }
  ]
}