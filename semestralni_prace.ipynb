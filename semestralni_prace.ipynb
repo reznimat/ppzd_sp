{
  "nbformat": 4,
  "nbformat_minor": 0,
  "metadata": {
    "colab": {
      "provenance": [],
      "authorship_tag": "ABX9TyNm5DzCrRbWOqn7vs7Q6oBU",
      "include_colab_link": true
    },
    "kernelspec": {
      "name": "python3",
      "display_name": "Python 3"
    },
    "language_info": {
      "name": "python"
    }
  },
  "cells": [
    {
      "cell_type": "markdown",
      "metadata": {
        "id": "view-in-github",
        "colab_type": "text"
      },
      "source": [
        "<a href=\"https://colab.research.google.com/github/reznimat/ppzd_sp/blob/main/semestralni_prace.ipynb\" target=\"_parent\"><img src=\"https://colab.research.google.com/assets/colab-badge.svg\" alt=\"Open In Colab\"/></a>"
      ]
    },
    {
      "cell_type": "code",
      "execution_count": 2,
      "metadata": {
        "colab": {
          "base_uri": "https://localhost:8080/"
        },
        "id": "62D1J0lwqqpz",
        "outputId": "ebe33cfd-0e78-4ff0-f2be-198f045aebea"
      },
      "outputs": [
        {
          "output_type": "stream",
          "name": "stdout",
          "text": [
            "CustomerID;Transaction_ID;Transaction_Date;Product_SKU;Product_Description;Product_Category;Quantity;Avg_Price;Delivery_Charges;Coupon_Status    52924\n",
            "dtype: int64\n"
          ]
        }
      ],
      "source": [
        "import csv\n",
        "import pandas as pd\n",
        "\n",
        "url = \"https://raw.githubusercontent.com/reznimat/ppzd_sp/main/Online_Sales.csv\"\n",
        "sales = pd.read_csv(url)\n",
        "\n",
        "print(sales.count())"
      ]
    }
  ]
}