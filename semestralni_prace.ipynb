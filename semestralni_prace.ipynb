{
  "nbformat": 4,
  "nbformat_minor": 0,
  "metadata": {
    "colab": {
      "provenance": [],
      "authorship_tag": "ABX9TyOXBb/3OFDijQTT49NngnYH",
      "include_colab_link": true
    },
    "kernelspec": {
      "name": "python3",
      "display_name": "Python 3"
    },
    "language_info": {
      "name": "python"
    }
  },
  "cells": [
    {
      "cell_type": "markdown",
      "metadata": {
        "id": "view-in-github",
        "colab_type": "text"
      },
      "source": [
        "<a href=\"https://colab.research.google.com/github/reznimat/ppzd_sp/blob/main/semestralni_prace.ipynb\" target=\"_parent\"><img src=\"https://colab.research.google.com/assets/colab-badge.svg\" alt=\"Open In Colab\"/></a>"
      ]
    },
    {
      "cell_type": "code",
      "execution_count": 47,
      "metadata": {
        "colab": {
          "base_uri": "https://localhost:8080/"
        },
        "id": "62D1J0lwqqpz",
        "outputId": "b32636f9-6954-4aa4-93e5-7940c6d1561b"
      },
      "outputs": [
        {
          "output_type": "stream",
          "name": "stdout",
          "text": [
            "591145.8000000062\n"
          ]
        }
      ],
      "source": [
        "import csv\n",
        "import pandas as pd\n",
        "import math as mt\n",
        "\n",
        "url = 'https://raw.githubusercontent.com/reznimat/ppzd_sp/main/Online_Sales.csv'\n",
        "sales = pd.read_csv(url)\n",
        "\n",
        "ApparelSales = 0\n",
        "AvgOrderPrice = 0\n",
        "#print(sales)\n",
        "\n",
        "\n",
        "\n",
        "# Počet a výpis distinktních produktových kategorií\n",
        "uniq = set()\n",
        "for i, row in sales.iterrows():\n",
        "  uniq.add(row[\"Product_Category\"])\n",
        "\n",
        "#print(\"Produktových kategorií: \"+ str(len(uniq)) )  # vypíše: Států/lokací:32\n",
        "#print(uniq)  # vypíše např.: {'Romania', 'Luxembourg', 'France', 'Czechia',...}\n",
        "\n",
        "for i, row in sales.iterrows():\n",
        "  if row.Product_Category == 'Apparel':\n",
        "    ApparelSales += row.Quantity*row.Avg_Price\n",
        "\n",
        "print(ApparelSales)"
      ]
    }
  ]
}