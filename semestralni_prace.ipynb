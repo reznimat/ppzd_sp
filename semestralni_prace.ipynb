{
  "nbformat": 4,
  "nbformat_minor": 0,
  "metadata": {
    "colab": {
      "provenance": [],
      "authorship_tag": "ABX9TyMAUp35k2JqiG2VsVBUJ8YG",
      "include_colab_link": true
    },
    "kernelspec": {
      "name": "python3",
      "display_name": "Python 3"
    },
    "language_info": {
      "name": "python"
    }
  },
  "cells": [
    {
      "cell_type": "markdown",
      "metadata": {
        "id": "view-in-github",
        "colab_type": "text"
      },
      "source": [
        "<a href=\"https://colab.research.google.com/github/reznimat/ppzd_sp/blob/main/semestralni_prace.ipynb\" target=\"_parent\"><img src=\"https://colab.research.google.com/assets/colab-badge.svg\" alt=\"Open In Colab\"/></a>"
      ]
    },
    {
      "cell_type": "code",
      "execution_count": 50,
      "metadata": {
        "colab": {
          "base_uri": "https://localhost:8080/"
        },
        "id": "62D1J0lwqqpz",
        "outputId": "6bfce452-287a-4bdb-adfe-7513a18c46c5"
      },
      "outputs": [
        {
          "output_type": "stream",
          "name": "stdout",
          "text": [
            "    Month      Product_Category Coupon_Code  Discount_pct\n",
            "0     Jan               Apparel      SALE10            10\n",
            "1     Feb               Apparel      SALE20            20\n",
            "2     Mar               Apparel      SALE30            30\n",
            "3     Jan              Nest-USA      ELEC10            10\n",
            "4     Feb              Nest-USA      ELEC20            20\n",
            "..    ...                   ...         ...           ...\n",
            "199   Nov  Notebooks & Journals        NJ20            20\n",
            "200   Dec  Notebooks & Journals        NJ30            30\n",
            "201   Oct               Android       AND10            10\n",
            "202   Nov               Android       AND20            20\n",
            "203   Dec               Android       AND30            30\n",
            "\n",
            "[204 rows x 4 columns]\n"
          ]
        }
      ],
      "source": [
        "import csv\n",
        "import pandas as pd\n",
        "import math as mt\n",
        "\n",
        "url_sales = 'https://raw.githubusercontent.com/reznimat/ppzd_sp/main/Online_Sales.csv'\n",
        "df_sales = pd.read_csv(url_sales)\n",
        "\n",
        "url_coupons = 'https://raw.githubusercontent.com/reznimat/ppzd_sp/main/Discount_Coupon.csv'\n",
        "df_coupons = pd.read_csv(url_coupons,sep=\";\")\n",
        "\n",
        "ApparelSales = 0\n",
        "AvgOrderPrice = 0\n",
        "\n",
        "#print(sales)\n",
        "\n",
        "\n",
        "\n",
        "# Počet a výpis distinktních produktových kategorií\n",
        "uniq = set()\n",
        "for i, row in df_sales.iterrows():\n",
        "  uniq.add(row[\"Product_Category\"])\n",
        "\n",
        "#print(\"Produktových kategorií: \"+ str(len(uniq)) )  # vypíše: Států/lokací:32\n",
        "#print(uniq)  # vypíše např.: {'Romania', 'Luxembourg', 'France', 'Czechia',...}\n",
        "\n",
        "for i, row in df_sales.iterrows():\n",
        "  if row.Product_Category == 'Apparel':\n",
        "    ApparelSales += row.Quantity*row.Avg_Price\n",
        "\n",
        "print(df_coupons)"
      ]
    }
  ]
}