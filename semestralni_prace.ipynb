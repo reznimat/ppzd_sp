{
  "nbformat": 4,
  "nbformat_minor": 0,
  "metadata": {
    "colab": {
      "provenance": [],
      "toc_visible": true,
      "authorship_tag": "ABX9TyNezF+JRz4Gf2eHG92U2twW",
      "include_colab_link": true
    },
    "kernelspec": {
      "name": "python3",
      "display_name": "Python 3"
    },
    "language_info": {
      "name": "python"
    }
  },
  "cells": [
    {
      "cell_type": "markdown",
      "metadata": {
        "id": "view-in-github",
        "colab_type": "text"
      },
      "source": [
        "<a href=\"https://colab.research.google.com/github/reznimat/ppzd_sp/blob/main/semestralni_prace.ipynb\" target=\"_parent\"><img src=\"https://colab.research.google.com/assets/colab-badge.svg\" alt=\"Open In Colab\"/></a>"
      ]
    },
    {
      "cell_type": "markdown",
      "source": [
        "# Načtení knihoven"
      ],
      "metadata": {
        "id": "KR3cauWD9n2N"
      }
    },
    {
      "cell_type": "code",
      "source": [
        "import csv\n",
        "import pandas as pd\n",
        "import math as mt\n",
        "import datetime as dt\n",
        "from matplotlib import pyplot as plt\n",
        "from tabulate import tabulate\n",
        "\n",
        "print('knihovny načteny')"
      ],
      "metadata": {
        "id": "Fx7NIFKj8G8z",
        "colab": {
          "base_uri": "https://localhost:8080/"
        },
        "outputId": "67874fc1-9eff-4faf-e3ba-45620d16ccf4"
      },
      "execution_count": 1,
      "outputs": [
        {
          "output_type": "stream",
          "name": "stdout",
          "text": [
            "knihovny načteny\n"
          ]
        }
      ]
    },
    {
      "cell_type": "markdown",
      "source": [
        "# Načtení datových souborů"
      ],
      "metadata": {
        "id": "WKohccUD7Sgu"
      }
    },
    {
      "cell_type": "code",
      "execution_count": 25,
      "metadata": {
        "colab": {
          "base_uri": "https://localhost:8080/"
        },
        "id": "62D1J0lwqqpz",
        "outputId": "b33a39d1-292f-4826-dfe4-ef3d3b7b2489"
      },
      "outputs": [
        {
          "output_type": "stream",
          "name": "stdout",
          "text": [
            "datové soubory načteny\n"
          ]
        }
      ],
      "source": [
        "# POZOR, pouze vzorek dat\n",
        "#url_sales = 'https://raw.githubusercontent.com/reznimat/ppzd_sp/main/SAMPLE_Online_Sales.csv'\n",
        "url_sales = 'https://raw.githubusercontent.com/reznimat/ppzd_sp/main/Online_Sales.csv'\n",
        "df_sales = pd.read_csv(url_sales)\n",
        "\n",
        "url_coupons = 'https://raw.githubusercontent.com/reznimat/ppzd_sp/main/Discount_Coupon.csv'\n",
        "df_coupons = pd.read_csv(url_coupons,sep=\";\")\n",
        "\n",
        "url_tax = 'https://raw.githubusercontent.com/reznimat/ppzd_sp/main/Tax_amount.csv' #původní GST ve formátu 10% ručně upraveno na GST_pct ve formátu 10 (18 položek)\n",
        "df_tax = pd.read_csv(url_tax,sep=\";\")\n",
        "\n",
        "print('datové soubory načteny')"
      ]
    },
    {
      "cell_type": "markdown",
      "source": [
        "# Číselníky"
      ],
      "metadata": {
        "id": "saPhBBbMQjbe"
      }
    },
    {
      "cell_type": "code",
      "source": [
        "# Čísleník měsíců\n",
        "c_months = ('Jan','Feb','Mar','Apr','May','Jun','Jul','Aug','Sep','Oct','Nov','Dec')\n",
        "\n",
        "# Čísleník produktových kategorií\n",
        "c_product_category = set()\n",
        "for i, row in df_sales.iterrows():\n",
        "  c_product_category.add(row[\"Product_Category\"])\n",
        "\n",
        "#print(c_product_category)  # vypíše seznam produktových kategorií\n",
        "#print(c_months)\n",
        "\n",
        "print('číselníky vytvořeny')"
      ],
      "metadata": {
        "colab": {
          "base_uri": "https://localhost:8080/"
        },
        "id": "M4K34bS6QnZI",
        "outputId": "d8663e84-845f-4af7-bc66-df99a5e90eab"
      },
      "execution_count": 26,
      "outputs": [
        {
          "output_type": "stream",
          "name": "stdout",
          "text": [
            "číselníky vytvořeny\n"
          ]
        }
      ]
    },
    {
      "cell_type": "markdown",
      "source": [
        "# Definice funkcí"
      ],
      "metadata": {
        "id": "4OwYRyl9BAa0"
      }
    },
    {
      "cell_type": "code",
      "source": [
        "# funkce pro výpočet sales_amount po slevě na úrovni item\n",
        "# není zohledněna doprava (předpoklad, že ta je relevantní pro úroveň transaction)\n",
        "def Revenue(row):\n",
        "    if row[\"Coupon_Status\"] == 'Not Used':\n",
        "      return (row[\"Quantity\"]*row[\"Avg_Price\"]) #*(1+(row[\"GST_pct\"]/100))\n",
        "    else:\n",
        "      return (row[\"Quantity\"]*row[\"Avg_Price\"])*(1-(row[\"Discount_pct\"]/100)) #*(1+(row[\"GST_pct\"]/100))\n",
        "\n",
        "# Převod Transaction_Date ve formátu m/d/Y (1/20/2019) na month abrevation (Jan)\n",
        "def MonthAbrv(row):\n",
        "    return pd.to_datetime(row.Transaction_Date,format='%m/%d/%Y').strftime(\"%b\")\n",
        "\n",
        "print('funkce definovány')"
      ],
      "metadata": {
        "colab": {
          "base_uri": "https://localhost:8080/"
        },
        "id": "HCxCjybWBMd8",
        "outputId": "67f556d2-9e5b-413e-c438-6ca47a5fbe60"
      },
      "execution_count": 27,
      "outputs": [
        {
          "output_type": "stream",
          "name": "stdout",
          "text": [
            "funkce definovány\n"
          ]
        }
      ]
    },
    {
      "cell_type": "markdown",
      "source": [
        "# Calculate revenue for each transaction and item level"
      ],
      "metadata": {
        "id": "-nM0E0m__BU-"
      }
    },
    {
      "cell_type": "markdown",
      "source": [
        " - Hint:\n",
        "  - InvoiceValue = (( QuantityAvg_price)(1-Dicount_pct)*(1+GST))+Delivery_Charges\n",
        "  - Revenue = (Quantity Avg_price)*(1-Dicount_pct)\n"
      ],
      "metadata": {
        "id": "7yCQkTbW_blT"
      }
    },
    {
      "cell_type": "markdown",
      "source": [
        "## Obohacení df_sales o atribut Month (Date Abrv)"
      ],
      "metadata": {
        "id": "ddUgo2YULu-U"
      }
    },
    {
      "cell_type": "code",
      "source": [
        "df_sales['Month'] = df_sales.apply(MonthAbrv, axis=1)\n",
        "\n",
        "print('v df_sales je nyní sloupec Month\\n')\n",
        "print(df_sales.head().to_markdown())\n"
      ],
      "metadata": {
        "id": "j2Zmc30QJZRy",
        "colab": {
          "base_uri": "https://localhost:8080/"
        },
        "outputId": "009708db-5723-4125-9770-53147a42947e"
      },
      "execution_count": 28,
      "outputs": [
        {
          "output_type": "stream",
          "name": "stdout",
          "text": [
            "v df_sales je nyní sloupec Month\n",
            "\n",
            "|    |   CustomerID |   Transaction_ID | Transaction_Date   | Product_SKU    | Product_Description                                    | Product_Category   |   Quantity |   Avg_Price |   Delivery_Charges | Coupon_Status   | Month   |\n",
            "|---:|-------------:|-----------------:|:-------------------|:---------------|:-------------------------------------------------------|:-------------------|-----------:|------------:|-------------------:|:----------------|:--------|\n",
            "|  0 |        17850 |            16679 | 1/1/2019           | GGOENEBJ079499 | Nest Learning Thermostat 3rd Gen-USA - Stainless Steel | Nest-USA           |          1 |      153.71 |                6.5 | Used            | Jan     |\n",
            "|  1 |        17850 |            16680 | 1/1/2019           | GGOENEBJ079499 | Nest Learning Thermostat 3rd Gen-USA - Stainless Steel | Nest-USA           |          1 |      153.71 |                6.5 | Used            | Jan     |\n",
            "|  2 |        17850 |            16681 | 1/1/2019           | GGOEGFKQ020399 | Google Laptop and Cell Phone Stickers                  | Office             |          1 |        2.05 |                6.5 | Used            | Jan     |\n",
            "|  3 |        17850 |            16682 | 1/1/2019           | GGOEGAAB010516 | Google Men's 100% Cotton Short Sleeve Hero Tee Black   | Apparel            |          5 |       17.53 |                6.5 | Not Used        | Jan     |\n",
            "|  4 |        17850 |            16682 | 1/1/2019           | GGOEGBJL013999 | Google Canvas Tote Natural/Navy                        | Bags               |          1 |       16.5  |                6.5 | Used            | Jan     |\n"
          ]
        }
      ]
    },
    {
      "cell_type": "code",
      "source": [],
      "metadata": {
        "id": "sBPXRaCDqyz3"
      },
      "execution_count": null,
      "outputs": []
    },
    {
      "cell_type": "markdown",
      "source": [
        "## Spojení df_sales s df_coupons"
      ],
      "metadata": {
        "id": "QSprzQTzMACk"
      }
    },
    {
      "cell_type": "code",
      "source": [
        "#Merge Sales a Coupons na základě Product_Category a Month\n",
        "df_sales = pd.merge(df_sales,df_coupons, on=[\"Product_Category\",\"Month\"])\n",
        "\n",
        "#Merge Sales a Tax na základe Product_Category\n",
        "# df_sales = pd.merge(df_sales,df_tax, on=[\"Product_Category\"])\n",
        "\n",
        "print('do df_sales byly připojeny data z df_coupons\\n')\n",
        "print(df_sales.head().to_markdown())"
      ],
      "metadata": {
        "colab": {
          "base_uri": "https://localhost:8080/"
        },
        "id": "S5aamdr6MIQP",
        "outputId": "d2d9966a-6dbe-4cf1-ac9c-41607580cd02"
      },
      "execution_count": 29,
      "outputs": [
        {
          "output_type": "stream",
          "name": "stdout",
          "text": [
            "do df_sales byly připojeny data z df_coupons\n",
            "\n",
            "|    |   CustomerID |   Transaction_ID | Transaction_Date   | Product_SKU    | Product_Description                                    | Product_Category   |   Quantity |   Avg_Price |   Delivery_Charges | Coupon_Status   | Month   | Coupon_Code   |   Discount_pct |\n",
            "|---:|-------------:|-----------------:|:-------------------|:---------------|:-------------------------------------------------------|:-------------------|-----------:|------------:|-------------------:|:----------------|:--------|:--------------|---------------:|\n",
            "|  0 |        17850 |            16679 | 1/1/2019           | GGOENEBJ079499 | Nest Learning Thermostat 3rd Gen-USA - Stainless Steel | Nest-USA           |          1 |      153.71 |                6.5 | Used            | Jan     | ELEC10        |             10 |\n",
            "|  1 |        17850 |            16680 | 1/1/2019           | GGOENEBJ079499 | Nest Learning Thermostat 3rd Gen-USA - Stainless Steel | Nest-USA           |          1 |      153.71 |                6.5 | Used            | Jan     | ELEC10        |             10 |\n",
            "|  2 |        13047 |            16684 | 1/1/2019           | GGOENEBQ078999 | Nest Cam Outdoor Security Camera - USA                 | Nest-USA           |          2 |      122.77 |                6.5 | Clicked         | Jan     | ELEC10        |             10 |\n",
            "|  3 |        13047 |            16684 | 1/1/2019           | GGOENEBQ079199 | Nest Protect Smoke + CO White Wired Alarm-USA          | Nest-USA           |          1 |       81.5  |                6.5 | Used            | Jan     | ELEC10        |             10 |\n",
            "|  4 |        13047 |            16688 | 1/1/2019           | GGOENEBB078899 | Nest Cam Indoor Security Camera - USA                  | Nest-USA           |          1 |      122.77 |                6.5 | Used            | Jan     | ELEC10        |             10 |\n"
          ]
        }
      ]
    },
    {
      "cell_type": "markdown",
      "source": [
        "## Obohacení df_sales o Revenue"
      ],
      "metadata": {
        "id": "xacjIhxA72w-"
      }
    },
    {
      "cell_type": "code",
      "source": [
        "# nejsou započítány náklady na dopravu a daně\n",
        "df_sales[\"Revenue\"] = df_sales.apply(Revenue,axis = 1)\n",
        "\n",
        "print('df_sales bylo obohaceno o sloupec Revenue\\n')\n",
        "print(df_sales.head().to_markdown())\n"
      ],
      "metadata": {
        "colab": {
          "base_uri": "https://localhost:8080/"
        },
        "id": "uy-669Yw73G-",
        "outputId": "4ad2f65a-d8d6-46b9-d54b-142e77ffec66"
      },
      "execution_count": 30,
      "outputs": [
        {
          "output_type": "stream",
          "name": "stdout",
          "text": [
            "df_sales bylo obohaceno o sloupec Revenue\n",
            "\n",
            "|    |   CustomerID |   Transaction_ID | Transaction_Date   | Product_SKU    | Product_Description                                    | Product_Category   |   Quantity |   Avg_Price |   Delivery_Charges | Coupon_Status   | Month   | Coupon_Code   |   Discount_pct |   Revenue |\n",
            "|---:|-------------:|-----------------:|:-------------------|:---------------|:-------------------------------------------------------|:-------------------|-----------:|------------:|-------------------:|:----------------|:--------|:--------------|---------------:|----------:|\n",
            "|  0 |        17850 |            16679 | 1/1/2019           | GGOENEBJ079499 | Nest Learning Thermostat 3rd Gen-USA - Stainless Steel | Nest-USA           |          1 |      153.71 |                6.5 | Used            | Jan     | ELEC10        |             10 |   138.339 |\n",
            "|  1 |        17850 |            16680 | 1/1/2019           | GGOENEBJ079499 | Nest Learning Thermostat 3rd Gen-USA - Stainless Steel | Nest-USA           |          1 |      153.71 |                6.5 | Used            | Jan     | ELEC10        |             10 |   138.339 |\n",
            "|  2 |        13047 |            16684 | 1/1/2019           | GGOENEBQ078999 | Nest Cam Outdoor Security Camera - USA                 | Nest-USA           |          2 |      122.77 |                6.5 | Clicked         | Jan     | ELEC10        |             10 |   220.986 |\n",
            "|  3 |        13047 |            16684 | 1/1/2019           | GGOENEBQ079199 | Nest Protect Smoke + CO White Wired Alarm-USA          | Nest-USA           |          1 |       81.5  |                6.5 | Used            | Jan     | ELEC10        |             10 |    73.35  |\n",
            "|  4 |        13047 |            16688 | 1/1/2019           | GGOENEBB078899 | Nest Cam Indoor Security Camera - USA                  | Nest-USA           |          1 |      122.77 |                6.5 | Used            | Jan     | ELEC10        |             10 |   110.493 |\n"
          ]
        }
      ]
    },
    {
      "cell_type": "markdown",
      "source": [
        "## Revenue per transaction\n"
      ],
      "metadata": {
        "id": "uCDMjmm2dAeL"
      }
    },
    {
      "cell_type": "code",
      "source": [
        "df = df_sales[[\"Transaction_ID\",\"Transaction_Date\",\"Month\",\"Revenue\"]]\n",
        "\n",
        "df2 = df.groupby(by=[\"Transaction_ID\",\"Transaction_Date\",\"Month\"]).sum([\"Revenue\"])\n",
        "\n",
        "print(df2.head().to_markdown())"
      ],
      "metadata": {
        "id": "ZCqLu1a6dmtQ",
        "outputId": "676a814f-82b5-4825-d52b-3d908f1a76da",
        "colab": {
          "base_uri": "https://localhost:8080/"
        }
      },
      "execution_count": 41,
      "outputs": [
        {
          "output_type": "stream",
          "name": "stdout",
          "text": [
            "|                            |   Revenue |\n",
            "|:---------------------------|----------:|\n",
            "| (16679, '1/1/2019', 'Jan') |   138.339 |\n",
            "| (16680, '1/1/2019', 'Jan') |   138.339 |\n",
            "| (16681, '1/1/2019', 'Jan') |     1.845 |\n",
            "| (16682, '1/1/2019', 'Jan') |   634.916 |\n",
            "| (16684, '1/1/2019', 'Jan') |   294.336 |\n"
          ]
        }
      ]
    },
    {
      "cell_type": "markdown",
      "source": [
        "## Tržby po kategoriích a měsících"
      ],
      "metadata": {
        "id": "OlDiUSblYJUx"
      }
    },
    {
      "cell_type": "code",
      "source": [
        "Month_Category_Sales = df_sales[[\"Transaction_Date\",\"Month\",\"Product_Category\",\"Revenue\"]]\n",
        "\n",
        "print(Month_Category_Sales.head().to_markdown())"
      ],
      "metadata": {
        "id": "ZxgknQdFUVXN",
        "outputId": "bd624a03-13ca-4d4b-9725-9235ade4d18d",
        "colab": {
          "base_uri": "https://localhost:8080/"
        }
      },
      "execution_count": 42,
      "outputs": [
        {
          "output_type": "stream",
          "name": "stdout",
          "text": [
            "|    | Transaction_Date   | Month   | Product_Category   |   Revenue |\n",
            "|---:|:-------------------|:--------|:-------------------|----------:|\n",
            "|  0 | 1/1/2019           | Jan     | Nest-USA           |   138.339 |\n",
            "|  1 | 1/1/2019           | Jan     | Nest-USA           |   138.339 |\n",
            "|  2 | 1/1/2019           | Jan     | Nest-USA           |   220.986 |\n",
            "|  3 | 1/1/2019           | Jan     | Nest-USA           |    73.35  |\n",
            "|  4 | 1/1/2019           | Jan     | Nest-USA           |   110.493 |\n"
          ]
        }
      ]
    },
    {
      "cell_type": "markdown",
      "source": [
        "### Pokus o graf - groupby ale udělal z měsíců indexy a řadí je teď podle abecedy"
      ],
      "metadata": {
        "id": "imkhBdZ6yQ4A"
      }
    },
    {
      "source": [
        "# Function to sort based on the month_order list\n",
        "df=Month_Category_Sales\n",
        "\n",
        "# Specify categories to plot\n",
        "categories_to_plot = ['Apparel']\n",
        "\n",
        "# Filter data for desired categories\n",
        "filtered_data = df[df['Product_Category'].isin(categories_to_plot)]\n",
        "\n",
        "plot_input=filtered_data.groupby('Month').sum('Revenue')\n",
        "#plot_input['month_datetime'] = pd.to_datetime(plot_input.index)\n",
        "\n",
        "print(type(df.index))\n",
        "print(type(plot_input.index))\n",
        "\n",
        "print(type(plot_input.index))\n",
        "print(plot_input)\n",
        "\n",
        "#plot_input = plot_input.set_index('month_datetime')\n",
        "#plot_input = plot_input.sort_index()\n",
        "\n",
        "\n",
        "\n",
        "# Create your plot (replace with your desired plot type)\n",
        "\n",
        "plt.plot(plot_input.index, plot_input[\"Revenue\"])\n",
        "plt.xlabel('Month')\n",
        "plt.ylabel('Revenue')\n",
        "plt.title('Plot of Apparel transactions')\n",
        "plt.show()"
      ],
      "cell_type": "code",
      "metadata": {
        "id": "Q9NnN3uwl-jp",
        "outputId": "80839c93-c0f8-4b9b-de9e-7e79ce3bceba",
        "colab": {
          "base_uri": "https://localhost:8080/",
          "height": 767
        }
      },
      "execution_count": 40,
      "outputs": [
        {
          "output_type": "stream",
          "name": "stdout",
          "text": [
            "<class 'pandas.core.indexes.base.Index'>\n",
            "<class 'pandas.core.indexes.base.Index'>\n",
            "<class 'pandas.core.indexes.base.Index'>\n",
            "         Revenue\n",
            "Month           \n",
            "Apr    80949.670\n",
            "Aug    44199.104\n",
            "Dec    36533.925\n",
            "Feb    31479.736\n",
            "Jan    35093.928\n",
            "Jul    59711.047\n",
            "Jun    33868.464\n",
            "Mar    44846.421\n",
            "May    49009.162\n",
            "Nov    15374.506\n",
            "Oct    19861.988\n",
            "Sep    41633.391\n"
          ]
        },
        {
          "output_type": "display_data",
          "data": {
            "text/plain": [
              "<Figure size 640x480 with 1 Axes>"
            ],
            "image/png": "[encoded data removed]"
          },
          "metadata": {}
        }
      ]
    },
    {
      "cell_type": "markdown",
      "source": [
        "### Funkční (ale nekonečný) výpočet měsíčních prodejů po kategoriích"
      ],
      "metadata": {
        "id": "2LzcmDzZ1SCd"
      }
    },
    {
      "cell_type": "code",
      "source": [
        "work_list = []\n",
        "\n",
        "for mesic in c_months:\n",
        "  for kategorie in c_product_category:\n",
        "    CategoryRevenue = 0\n",
        "    for i, row in df_sales.iterrows():\n",
        "      if row.Product_Category == kategorie and row.Month == mesic:\n",
        "        CategoryRevenue += row.Revenue\n",
        "    work_list.append((kategorie, mesic, CategoryRevenue)) # append vypočítaný záznam do listu\n",
        "#    print()\n",
        "#    slovnik[\"kategorie\"] = kategorie\n",
        "#    slovnik[\"mesic\"] = mesic\n",
        "#    slovnik[\"Sales\"] = CategorySales\n",
        "\n",
        "df_CatMonSales = pd.DataFrame.from_records(work_list, columns=['kategorie', 'mesic','CategoryRevenue']) # převod listu na data_frame\n",
        "\n",
        "print(df_CatMonSales.head().to_markdown())"
      ],
      "metadata": {
        "id": "7a4DCsQ4Yu5E",
        "outputId": "3033d39e-3453-4ebe-8671-3c4300217b52",
        "colab": {
          "base_uri": "https://localhost:8080/"
        }
      },
      "execution_count": 43,
      "outputs": [
        {
          "output_type": "stream",
          "name": "stdout",
          "text": [
            "|    | kategorie   | mesic   |   CategoryRevenue |\n",
            "|---:|:------------|:--------|------------------:|\n",
            "|  0 | More Bags   | Jan     |             0     |\n",
            "|  1 | Housewares  | Jan     |           903.532 |\n",
            "|  2 | Accessories | Jan     |            46.413 |\n",
            "|  3 | Drinkware   | Jan     |         13378     |\n",
            "|  4 | Nest        | Jan     |             0     |\n"
          ]
        }
      ]
    },
    {
      "cell_type": "code",
      "source": [
        "# Specify categories to plot\n",
        "categories_to_plot = ['Apparel']\n",
        "\n",
        "# Filter data for desired categories\n",
        "filtered_data = df_CatMonSales[df_CatMonSales['kategorie'].isin(categories_to_plot)]\n",
        "\n",
        "# Create plot (replace with your desired plot type)\n",
        "plt.plot(filtered_data[\"mesic\"], filtered_data[\"CategoryRevenue\"])\n",
        "plt.xlabel('Month')\n",
        "plt.ylabel('Revenue')\n",
        "plt.title('Plot of Apparel Revenue')\n",
        "plt.show()"
      ],
      "metadata": {
        "id": "EDucS6Zy5Zns",
        "outputId": "edca287a-87e7-4932-ef49-abd6aeda2c06",
        "colab": {
          "base_uri": "https://localhost:8080/",
          "height": 472
        }
      },
      "execution_count": 44,
      "outputs": [
        {
          "output_type": "display_data",
          "data": {
            "text/plain": [
              "<Figure size 640x480 with 1 Axes>"
            ],
            "image/png": "[encoded data removed]"
          },
          "metadata": {}
        }
      ]
    }
  ]
}