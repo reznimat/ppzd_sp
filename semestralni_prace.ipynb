{
  "nbformat": 4,
  "nbformat_minor": 0,
  "metadata": {
    "colab": {
      "provenance": [],
      "toc_visible": true,
      "authorship_tag": "ABX9TyMSdaWrx3v7+cHJlKPgb/vS",
      "include_colab_link": true
    },
    "kernelspec": {
      "name": "python3",
      "display_name": "Python 3"
    },
    "language_info": {
      "name": "python"
    }
  },
  "cells": [
    {
      "cell_type": "markdown",
      "metadata": {
        "id": "view-in-github",
        "colab_type": "text"
      },
      "source": [
        "<a href=\"https://colab.research.google.com/github/reznimat/ppzd_sp/blob/main/semestralni_prace.ipynb\" target=\"_parent\"><img src=\"https://colab.research.google.com/assets/colab-badge.svg\" alt=\"Open In Colab\"/></a>"
      ]
    },
    {
      "cell_type": "markdown",
      "source": [
        "# Načtení knihoven"
      ],
      "metadata": {
        "id": "KR3cauWD9n2N"
      }
    },
    {
      "cell_type": "code",
      "source": [
        "import csv\n",
        "import pandas as pd\n",
        "import math as mt\n",
        "import datetime as dt\n",
        "from matplotlib import pyplot as plt\n",
        "from tabulate import tabulate\n",
        "\n",
        "print('knihovny načteny')"
      ],
      "metadata": {
        "id": "Fx7NIFKj8G8z",
        "colab": {
          "base_uri": "https://localhost:8080/"
        },
        "outputId": "3ec9d3e9-3c3d-427a-ec27-62a80910a965"
      },
      "execution_count": null,
      "outputs": [
        {
          "output_type": "stream",
          "name": "stdout",
          "text": [
            "hotovo\n"
          ]
        }
      ]
    },
    {
      "cell_type": "markdown",
      "source": [
        "# Načtení datových souborů"
      ],
      "metadata": {
        "id": "WKohccUD7Sgu"
      }
    },
    {
      "cell_type": "code",
      "execution_count": null,
      "metadata": {
        "colab": {
          "base_uri": "https://localhost:8080/"
        },
        "id": "62D1J0lwqqpz",
        "outputId": "ab1b166f-f6cd-439a-9ec2-9a0f58de40f4"
      },
      "outputs": [
        {
          "output_type": "stream",
          "name": "stdout",
          "text": [
            "hotovo\n"
          ]
        }
      ],
      "source": [
        "# POZOR, pouze vzorek dat\n",
        "url_sales = 'https://raw.githubusercontent.com/reznimat/ppzd_sp/main/SAMPLE_Online_Sales.csv'\n",
        "#url_sales = 'https://raw.githubusercontent.com/reznimat/ppzd_sp/main/Online_Sales.csv'\n",
        "df_sales = pd.read_csv(url_sales)\n",
        "\n",
        "url_coupons = 'https://raw.githubusercontent.com/reznimat/ppzd_sp/main/Discount_Coupon.csv'\n",
        "df_coupons = pd.read_csv(url_coupons,sep=\";\")\n",
        "\n",
        "url_tax = 'https://raw.githubusercontent.com/reznimat/ppzd_sp/main/Tax_amount.csv' #původní GST ve formátu 10% ručně upraveno na GST_pct ve formátu 10 (18 položek)\n",
        "df_tax = pd.read_csv(url_tax,sep=\";\")\n",
        "\n",
        "print('datové soubory načteny')"
      ]
    },
    {
      "cell_type": "markdown",
      "source": [
        "# Číselníky"
      ],
      "metadata": {
        "id": "saPhBBbMQjbe"
      }
    },
    {
      "cell_type": "code",
      "source": [
        "# Čísleník měsíců\n",
        "c_months = ('Jan','Feb','Mar','Apr','May','Jun','Jul','Aug','Sep','Oct','Nov','Dec')\n",
        "\n",
        "# Čísleník produktových kategorií\n",
        "c_product_category = set()\n",
        "for i, row in df_sales.iterrows():\n",
        "  c_product_category.add(row[\"Product_Category\"])\n",
        "\n",
        "#print(c_product_category)  # vypíše seznam produktových kategorií\n",
        "#print(c_months)\n",
        "\n",
        "print('číselníky vytvořeny')"
      ],
      "metadata": {
        "colab": {
          "base_uri": "https://localhost:8080/"
        },
        "id": "M4K34bS6QnZI",
        "outputId": "cec12a33-d6c1-4982-941b-7ca6246447dd"
      },
      "execution_count": null,
      "outputs": [
        {
          "output_type": "stream",
          "name": "stdout",
          "text": [
            "hotovo\n"
          ]
        }
      ]
    },
    {
      "cell_type": "markdown",
      "source": [
        "# Definice funkcí"
      ],
      "metadata": {
        "id": "4OwYRyl9BAa0"
      }
    },
    {
      "cell_type": "code",
      "source": [
        "# funkce pro výpočet sales_amount po slevě na úrovni item\n",
        "# není zohledněna doprava (předpoklad, že ta je relevantní pro úroveň transaction)\n",
        "def Revenue(row):\n",
        "    if row[\"Coupon_Status\"] == 'Not Used':\n",
        "      return (row[\"Quantity\"]*row[\"Avg_Price\"]) #*(1+(row[\"GST_pct\"]/100))\n",
        "    else:\n",
        "      return (row[\"Quantity\"]*row[\"Avg_Price\"])*(1-(row[\"Discount_pct\"]/100)) #*(1+(row[\"GST_pct\"]/100))\n",
        "\n",
        "# Převod Transaction_Date ve formátu m/d/Y (1/20/2019) na month abrevation (Jan)\n",
        "def MonthAbrv(row):\n",
        "    return pd.to_datetime(row.Transaction_Date,format='%m/%d/%Y').strftime(\"%b\")\n",
        "\n",
        "print('funkce definovány')"
      ],
      "metadata": {
        "colab": {
          "base_uri": "https://localhost:8080/"
        },
        "id": "HCxCjybWBMd8",
        "outputId": "e3298584-d6c8-4c75-c9df-594ebbe2be0c"
      },
      "execution_count": null,
      "outputs": [
        {
          "output_type": "stream",
          "name": "stdout",
          "text": [
            "hotovo\n"
          ]
        }
      ]
    },
    {
      "cell_type": "markdown",
      "source": [
        "# Calculate revenue for each transaction and item level"
      ],
      "metadata": {
        "id": "-nM0E0m__BU-"
      }
    },
    {
      "cell_type": "markdown",
      "source": [
        " - Hint:\n",
        "  - InvoiceValue = (( QuantityAvg_price)(1-Dicount_pct)*(1+GST))+Delivery_Charges\n",
        "  - Revenue = (Quantity Avg_price)*(1-Dicount_pct)\n"
      ],
      "metadata": {
        "id": "7yCQkTbW_blT"
      }
    },
    {
      "cell_type": "markdown",
      "source": [
        "## Obohacení df_sales o atribut Month (Date Abrv)"
      ],
      "metadata": {
        "id": "ddUgo2YULu-U"
      }
    },
    {
      "cell_type": "code",
      "source": [
        "df_sales['Month'] = df_sales.apply(MonthAbrv, axis=1)\n",
        "\n",
        "print('v df_sales je nyní sloupec Month')"
      ],
      "metadata": {
        "id": "j2Zmc30QJZRy",
        "colab": {
          "base_uri": "https://localhost:8080/"
        },
        "outputId": "1057affe-b357-4052-f75e-483a4fb51410"
      },
      "execution_count": null,
      "outputs": [
        {
          "output_type": "stream",
          "name": "stdout",
          "text": [
            "hotovo\n"
          ]
        }
      ]
    },
    {
      "cell_type": "code",
      "source": [],
      "metadata": {
        "id": "sBPXRaCDqyz3"
      },
      "execution_count": null,
      "outputs": []
    },
    {
      "cell_type": "markdown",
      "source": [
        "## Spojení df_sales s df_coupons"
      ],
      "metadata": {
        "id": "QSprzQTzMACk"
      }
    },
    {
      "cell_type": "code",
      "source": [
        "#Merge Sales a Coupons na základě Product_Category a Month\n",
        "df_sales = pd.merge(df_sales,df_coupons, on=[\"Product_Category\",\"Month\"])\n",
        "\n",
        "#Merge Sales a Tax na základe Product_Category\n",
        "df_sales = pd.merge(df_sales,df_tax, on=[\"Product_Category\"])\n",
        "\n",
        "print('do df_sales byly připojeny data z df_coupons')"
      ],
      "metadata": {
        "colab": {
          "base_uri": "https://localhost:8080/"
        },
        "id": "S5aamdr6MIQP",
        "outputId": "53c50ca9-5700-49f9-9c1b-c98a615b88ba"
      },
      "execution_count": null,
      "outputs": [
        {
          "output_type": "stream",
          "name": "stdout",
          "text": [
            "hotovo\n"
          ]
        }
      ]
    },
    {
      "cell_type": "markdown",
      "source": [
        "## Obohacení df_sales o Revenue"
      ],
      "metadata": {
        "id": "xacjIhxA72w-"
      }
    },
    {
      "cell_type": "code",
      "source": [
        "# nejsou započítány náklady na dopravu a daně\n",
        "df_sales[\"Revenue\"] = df_sales.apply(Revenue,axis = 1)\n",
        "\n",
        "print(df_sales.to_markdown())\n",
        "print('df_sales bylo obohaceno o sloupec Revenue')"
      ],
      "metadata": {
        "colab": {
          "base_uri": "https://localhost:8080/"
        },
        "id": "uy-669Yw73G-",
        "outputId": "641352f8-9ebb-4deb-d311-c4f5aa249f30"
      },
      "execution_count": null,
      "outputs": [
        {
          "output_type": "stream",
          "name": "stdout",
          "text": [
            "|    |   CustomerID |   Transaction_ID | Transaction_Date   | Product_SKU    | Product_Description                                    | Product_Category   |   Quantity |   Avg_Price |   Delivery_Charges | Coupon_Status   | Month   | Coupon_Code_x   |   Discount_pct_x |   GST_pct_x |   Revenue | Coupon_Code_y   |   Discount_pct_y |   GST_pct_y | Coupon_Code   |   Discount_pct |   GST_pct |\n",
            "|---:|-------------:|-----------------:|:-------------------|:---------------|:-------------------------------------------------------|:-------------------|-----------:|------------:|-------------------:|:----------------|:--------|:----------------|-----------------:|------------:|----------:|:----------------|-----------------:|------------:|:--------------|---------------:|----------:|\n",
            "|  0 |        17850 |            16679 | 1/1/2019           | GGOENEBJ079499 | Nest Learning Thermostat 3rd Gen-USA - Stainless Steel | Nest-USA           |          1 |      153.71 |               6.5  | Used            | Jan     | ELEC10          |               10 |          10 |   138.339 | ELEC10          |               10 |          10 | ELEC10        |             10 |        10 |\n",
            "|  1 |        17850 |            16680 | 1/1/2019           | GGOENEBJ079499 | Nest Learning Thermostat 3rd Gen-USA - Stainless Steel | Nest-USA           |          1 |      153.71 |               6.5  | Used            | Jan     | ELEC10          |               10 |          10 |   138.339 | ELEC10          |               10 |          10 | ELEC10        |             10 |        10 |\n",
            "|  2 |        13047 |            16684 | 1/1/2019           | GGOENEBQ078999 | Nest Cam Outdoor Security Camera - USA                 | Nest-USA           |          2 |      122.77 |               6.5  | Clicked         | Jan     | ELEC10          |               10 |          10 |   220.986 | ELEC10          |               10 |          10 | ELEC10        |             10 |        10 |\n",
            "|  3 |        13047 |            16684 | 1/1/2019           | GGOENEBQ079199 | Nest Protect Smoke + CO White Wired Alarm-USA          | Nest-USA           |          1 |       81.5  |               6.5  | Used            | Jan     | ELEC10          |               10 |          10 |    73.35  | ELEC10          |               10 |          10 | ELEC10        |             10 |        10 |\n",
            "|  4 |        13047 |            16688 | 1/1/2019           | GGOENEBB078899 | Nest Cam Indoor Security Camera - USA                  | Nest-USA           |          1 |      122.77 |               6.5  | Used            | Jan     | ELEC10          |               10 |          10 |   110.493 | ELEC10          |               10 |          10 | ELEC10        |             10 |        10 |\n",
            "|  5 |        13047 |            16689 | 1/1/2019           | GGOENEBJ079499 | Nest Learning Thermostat 3rd Gen-USA - Stainless Steel | Nest-USA           |          1 |      153.71 |               6.5  | Used            | Jan     | ELEC10          |               10 |          10 |   138.339 | ELEC10          |               10 |          10 | ELEC10        |             10 |        10 |\n",
            "|  6 |        17850 |            16681 | 1/1/2019           | GGOEGFKQ020399 | Google Laptop and Cell Phone Stickers                  | Office             |          1 |        2.05 |               6.5  | Used            | Jan     | OFF10           |               10 |          10 |     1.845 | OFF10           |               10 |          10 | OFF10         |             10 |        10 |\n",
            "|  7 |        13047 |            16682 | 1/1/2019           | GGOEGGOA017399 | Maze Pen                                               | Office             |         52 |        0.98 |               6.5  | Used            | Jan     | OFF10           |               10 |          10 |    45.864 | OFF10           |               10 |          10 | OFF10         |             10 |        10 |\n",
            "|  8 |        13047 |            16682 | 1/1/2019           | GGOEGOFH020299 | Galaxy Screen Cleaning Cloth                           | Office             |         31 |        1.99 |               6.5  | Clicked         | Jan     | OFF10           |               10 |          10 |    55.521 | OFF10           |               10 |          10 | OFF10         |             10 |        10 |\n",
            "|  9 |        13047 |            16682 | 1/1/2019           | GGOEGOXQ016399 | Badge Holder                                           | Office             |         31 |        1.99 |               6.5  | Clicked         | Jan     | OFF10           |               10 |          10 |    55.521 | OFF10           |               10 |          10 | OFF10         |             10 |        10 |\n",
            "| 10 |        13047 |            16687 | 1/1/2019           | GGOEGGOA017399 | Maze Pen                                               | Office             |          3 |        1.02 |               6.5  | Used            | Jan     | OFF10           |               10 |          10 |     2.754 | OFF10           |               10 |          10 | OFF10         |             10 |        10 |\n",
            "| 11 |        13047 |            16687 | 1/1/2019           | GGOEGOAQ012899 | Ballpoint LED Light Pen                                | Office             |          1 |        2.58 |               6.5  | Not Used        | Jan     | OFF10           |               10 |          10 |     2.58  | OFF10           |               10 |          10 | OFF10         |             10 |        10 |\n",
            "| 12 |        13047 |            16687 | 1/1/2019           | GGOEGOAR021999 | Color Changing Grip Pen                                | Office             |          3 |        1.55 |               6.5  | Clicked         | Jan     | OFF10           |               10 |          10 |     4.185 | OFF10           |               10 |          10 | OFF10         |             10 |        10 |\n",
            "| 13 |        13047 |            16687 | 1/1/2019           | GGOEGOBG023599 | Colored Pencil Set                                     | Office             |          1 |        3.08 |               6.5  | Used            | Jan     | OFF10           |               10 |          10 |     2.772 | OFF10           |               10 |          10 | OFF10         |             10 |        10 |\n",
            "| 14 |        13047 |            16687 | 1/1/2019           | GGOEGOLC013299 | Spiral Notebook and Pen Set                            | Office             |          1 |        6.18 |               6.5  | Clicked         | Jan     | OFF10           |               10 |          10 |     5.562 | OFF10           |               10 |          10 | OFF10         |             10 |        10 |\n",
            "| 15 |        12583 |            16692 | 1/1/2019           | GGOEAFKQ020599 | Android Sticker Sheet Ultra Removable                  | Office             |          1 |        2.47 |             102.79 | Used            | Jan     | OFF10           |               10 |          10 |     2.223 | OFF10           |               10 |          10 | OFF10         |             10 |        10 |\n",
            "| 16 |        12583 |            16692 | 1/1/2019           | GGOEGFKQ020399 | Google Laptop and Cell Phone Stickers                  | Office             |          1 |        1.64 |             102.79 | Clicked         | Jan     | OFF10           |               10 |          10 |     1.476 | OFF10           |               10 |          10 | OFF10         |             10 |        10 |\n",
            "| 17 |        12583 |            16692 | 1/1/2019           | GGOEYFKQ020699 | YouTube Custom Decals                                  | Office             |          1 |        1.64 |             102.79 | Clicked         | Jan     | OFF10           |               10 |          10 |     1.476 | OFF10           |               10 |          10 | OFF10         |             10 |        10 |\n",
            "| 18 |        17850 |            16682 | 1/1/2019           | GGOEGAAB010516 | Google Men's 100% Cotton Short Sleeve Hero Tee Black   | Apparel            |          5 |       17.53 |               6.5  | Not Used        | Jan     | SALE10          |               10 |          18 |    87.65  | SALE10          |               10 |          18 | SALE10        |             10 |        18 |\n",
            "| 19 |        13047 |            16682 | 1/1/2019           | GGOEYAAB031816 | YouTube Men's Short Sleeve Hero Tee Black              | Apparel            |          5 |       17.53 |               6.5  | Used            | Jan     | SALE10          |               10 |          18 |    78.885 | SALE10          |               10 |          18 | SALE10        |             10 |        18 |\n",
            "| 20 |        13047 |            16685 | 1/1/2019           | GGOEGAAR010714 | Google Men's 100% Cotton Short Sleeve Hero Tee Red     | Apparel            |          1 |       14.02 |               6.5  | Used            | Jan     | SALE10          |               10 |          18 |    12.618 | SALE10          |               10 |          18 | SALE10        |             10 |        18 |\n",
            "| 21 |        13047 |            16685 | 1/1/2019           | GGOEGAEQ027913 | Google Women's Short Sleeve Hero Tee White             | Apparel            |          1 |       14.02 |               6.5  | Clicked         | Jan     | SALE10          |               10 |          18 |    12.618 | SALE10          |               10 |          18 | SALE10        |             10 |        18 |\n",
            "| 22 |        17850 |            16682 | 1/1/2019           | GGOEGBJL013999 | Google Canvas Tote Natural/Navy                        | Bags               |          1 |       16.5  |               6.5  | Used            | Jan     | AIO10           |               10 |          18 |    14.85  | AIO10           |               10 |          18 | AIO10         |             10 |        18 |\n",
            "| 23 |        17850 |            16682 | 1/1/2019           | GGOEGBMJ013399 | Sport Bag                                              | Bags               |         15 |        5.15 |               6.5  | Used            | Jan     | AIO10           |               10 |          18 |    69.525 | AIO10           |               10 |          18 | AIO10         |             10 |        18 |\n",
            "| 24 |        17850 |            16682 | 1/1/2019           | GGOEGDHC018299 | Google 22 oz Water Bottle                              | Drinkware          |         15 |        3.08 |               6.5  | Not Used        | Jan     | EXTRA10         |               10 |          18 |    46.2   | EXTRA10         |               10 |          18 | EXTRA10       |             10 |        18 |\n",
            "| 25 |        17850 |            16682 | 1/1/2019           | GGOEGDHG014499 | Google Infuser-Top Water Bottle                        | Drinkware          |         15 |       10.31 |               6.5  | Clicked         | Jan     | EXTRA10         |               10 |          18 |   139.185 | EXTRA10         |               10 |          18 | EXTRA10       |             10 |        18 |\n",
            "| 26 |        17850 |            16682 | 1/1/2019           | GGOEGDWC020199 | Engraved Ceramic Google Mug                            | Drinkware          |          5 |        9.27 |               6.5  | Used            | Jan     | EXTRA10         |               10 |          18 |    41.715 | EXTRA10         |               10 |          18 | EXTRA10       |             10 |        18 |\n",
            "| 27 |        13047 |            16685 | 1/1/2019           | GGOEGDWR015799 | Red Shine 15 oz Mug                                    | Drinkware          |          1 |       10.72 |               6.5  | Not Used        | Jan     | EXTRA10         |               10 |          18 |    10.72  | EXTRA10         |               10 |          18 | EXTRA10       |             10 |        18 |\n",
            "| 28 |        12583 |            16692 | 1/1/2019           | GGOEGDHC015299 | 23 oz Wide Mouth Sport Bottle                          | Drinkware          |         26 |        8.72 |             102.79 | Clicked         | Jan     | EXTRA10         |               10 |          18 |   204.048 | EXTRA10         |               10 |          18 | EXTRA10       |             10 |        18 |\n",
            "| 29 |        13047 |            16687 | 1/1/2019           | GGOEGFQB013799 | Compact Selfie Stick                                   | Lifestyle          |          1 |        9.27 |               6.5  | Clicked         | Jan     | EXTRA10         |               10 |          18 |     8.343 | EXTRA10         |               10 |          18 | EXTRA10       |             10 |        18 |\n"
          ]
        }
      ]
    },
    {
      "cell_type": "markdown",
      "source": [
        "## Revenue per transaction\n"
      ],
      "metadata": {
        "id": "uCDMjmm2dAeL"
      }
    },
    {
      "cell_type": "code",
      "source": [
        "df = df_sales[[\"Transaction_ID\",\"Transaction_Date\",\"Month\",\"Revenue\"]]\n",
        "\n",
        "df2 = df.groupby(by=[\"Transaction_ID\",\"Transaction_Date\",\"Month\"]).sum([\"Revenue\"])\n",
        "\n",
        "print(df2.to_markdown())"
      ],
      "metadata": {
        "id": "ZCqLu1a6dmtQ",
        "outputId": "52a7c903-9c4a-4028-b3dd-553e2a24d908",
        "colab": {
          "base_uri": "https://localhost:8080/"
        }
      },
      "execution_count": null,
      "outputs": [
        {
          "output_type": "stream",
          "name": "stdout",
          "text": [
            "|                            |   Revenue |\n",
            "|:---------------------------|----------:|\n",
            "| (16679, '1/1/2019', 'Jan') |   138.339 |\n",
            "| (16680, '1/1/2019', 'Jan') |   138.339 |\n",
            "| (16681, '1/1/2019', 'Jan') |     1.845 |\n",
            "| (16682, '1/1/2019', 'Jan') |   634.916 |\n",
            "| (16684, '1/1/2019', 'Jan') |   294.336 |\n",
            "| (16685, '1/1/2019', 'Jan') |    35.956 |\n",
            "| (16687, '1/1/2019', 'Jan') |    26.196 |\n",
            "| (16688, '1/1/2019', 'Jan') |   110.493 |\n",
            "| (16689, '1/1/2019', 'Jan') |   138.339 |\n",
            "| (16692, '1/1/2019', 'Jan') |   209.223 |\n"
          ]
        }
      ]
    },
    {
      "cell_type": "markdown",
      "source": [
        "## Tržby po kategoriích a měsících"
      ],
      "metadata": {
        "id": "OlDiUSblYJUx"
      }
    },
    {
      "cell_type": "code",
      "source": [
        "Month_Category_Sales = df_sales[[\"Transaction_Date\",\"Month\",\"Product_Category\",\"Revenue\"]]\n",
        "\n",
        "print(Month_Category_Sales.to_markdown())"
      ],
      "metadata": {
        "id": "ZxgknQdFUVXN",
        "outputId": "8a45620c-1764-44e3-8057-89ddd3657dc0",
        "colab": {
          "base_uri": "https://localhost:8080/"
        }
      },
      "execution_count": null,
      "outputs": [
        {
          "output_type": "stream",
          "name": "stdout",
          "text": [
            "|    | Transaction_Date   | Month   | Product_Category   |   Revenue |\n",
            "|---:|:-------------------|:--------|:-------------------|----------:|\n",
            "|  0 | 1/1/2019           | Jan     | Nest-USA           |   138.339 |\n",
            "|  1 | 1/1/2019           | Jan     | Nest-USA           |   138.339 |\n",
            "|  2 | 1/1/2019           | Jan     | Nest-USA           |   220.986 |\n",
            "|  3 | 1/1/2019           | Jan     | Nest-USA           |    73.35  |\n",
            "|  4 | 1/1/2019           | Jan     | Nest-USA           |   110.493 |\n",
            "|  5 | 1/1/2019           | Jan     | Nest-USA           |   138.339 |\n",
            "|  6 | 1/1/2019           | Jan     | Office             |     1.845 |\n",
            "|  7 | 1/1/2019           | Jan     | Office             |    45.864 |\n",
            "|  8 | 1/1/2019           | Jan     | Office             |    55.521 |\n",
            "|  9 | 1/1/2019           | Jan     | Office             |    55.521 |\n",
            "| 10 | 1/1/2019           | Jan     | Office             |     2.754 |\n",
            "| 11 | 1/1/2019           | Jan     | Office             |     2.58  |\n",
            "| 12 | 1/1/2019           | Jan     | Office             |     4.185 |\n",
            "| 13 | 1/1/2019           | Jan     | Office             |     2.772 |\n",
            "| 14 | 1/1/2019           | Jan     | Office             |     5.562 |\n",
            "| 15 | 1/1/2019           | Jan     | Office             |     2.223 |\n",
            "| 16 | 1/1/2019           | Jan     | Office             |     1.476 |\n",
            "| 17 | 1/1/2019           | Jan     | Office             |     1.476 |\n",
            "| 18 | 1/1/2019           | Jan     | Apparel            |    87.65  |\n",
            "| 19 | 1/1/2019           | Jan     | Apparel            |    78.885 |\n",
            "| 20 | 1/1/2019           | Jan     | Apparel            |    12.618 |\n",
            "| 21 | 1/1/2019           | Jan     | Apparel            |    12.618 |\n",
            "| 22 | 1/1/2019           | Jan     | Bags               |    14.85  |\n",
            "| 23 | 1/1/2019           | Jan     | Bags               |    69.525 |\n",
            "| 24 | 1/1/2019           | Jan     | Drinkware          |    46.2   |\n",
            "| 25 | 1/1/2019           | Jan     | Drinkware          |   139.185 |\n",
            "| 26 | 1/1/2019           | Jan     | Drinkware          |    41.715 |\n",
            "| 27 | 1/1/2019           | Jan     | Drinkware          |    10.72  |\n",
            "| 28 | 1/1/2019           | Jan     | Drinkware          |   204.048 |\n",
            "| 29 | 1/1/2019           | Jan     | Lifestyle          |     8.343 |\n"
          ]
        }
      ]
    },
    {
      "cell_type": "markdown",
      "source": [
        "### Pokus o graf - groupby ale udělal z měsíců indexy a řadí je teď podle abecedy"
      ],
      "metadata": {
        "id": "imkhBdZ6yQ4A"
      }
    },
    {
      "source": [
        "df=Month_Category_Sales\n",
        "\n",
        "# Specify categories to plot\n",
        "categories_to_plot = ['Apparel']\n",
        "\n",
        "# Filter data for desired categories\n",
        "filtered_data = df[df['Product_Category'].isin(categories_to_plot)]\n",
        "\n",
        "plot_input=filtered_data.groupby('Month').sum('Revenue')\n",
        "#plot_input['month_datetime'] = pd.to_datetime(plot_input.index)\n",
        "\n",
        "print(plot_input)\n",
        "\n",
        "#plot_input = plot_input.set_index('month_datetime')\n",
        "#plot_input = plot_input.sort_index()\n",
        "\n",
        "\n",
        "\n",
        "# Create your plot (replace with your desired plot type)\n",
        "\n",
        "plt.plot(plot_input.index, plot_input[\"Revenue\"])\n",
        "plt.xlabel('Month')\n",
        "plt.ylabel('Revenue')\n",
        "plt.title('Plot of Apparel transactions')\n",
        "plt.show()"
      ],
      "cell_type": "code",
      "metadata": {
        "id": "Q9NnN3uwl-jp",
        "outputId": "a4ca3352-5a39-49bd-acbd-f31d6d358f9c",
        "colab": {
          "base_uri": "https://localhost:8080/",
          "height": 722
        }
      },
      "execution_count": null,
      "outputs": [
        {
          "output_type": "stream",
          "name": "stdout",
          "text": [
            "        RowTotal\n",
            "Month           \n",
            "Apr    80949.670\n",
            "Aug    44199.104\n",
            "Dec    36533.925\n",
            "Feb    31479.736\n",
            "Jan    35093.928\n",
            "Jul    59711.047\n",
            "Jun    33868.464\n",
            "Mar    44846.421\n",
            "May    49009.162\n",
            "Nov    15374.506\n",
            "Oct    19861.988\n",
            "Sep    41633.391\n"
          ]
        },
        {
          "output_type": "display_data",
          "data": {
            "text/plain": [
              "<Figure size 640x480 with 1 Axes>"
            ],
            "image/png": "[encoded data removed]"
          },
          "metadata": {}
        }
      ]
    },
    {
      "cell_type": "markdown",
      "source": [
        "### Funkční (ale nekonečný) výpočet měsíčních prodejů po kategoriích"
      ],
      "metadata": {
        "id": "2LzcmDzZ1SCd"
      }
    },
    {
      "cell_type": "code",
      "source": [
        "work_list = []\n",
        "\n",
        "for mesic in c_months:\n",
        "  for kategorie in c_product_category:\n",
        "    CategoryRevenue = 0\n",
        "    for i, row in df_sales.iterrows():\n",
        "      if row.Product_Category == kategorie and row.Month == mesic:\n",
        "        CategoryRevenue += row.Revenue\n",
        "    work_list.append((kategorie, mesic, CategoryRevenue)) # append vypočítaný záznam do listu\n",
        "#    print()\n",
        "#    slovnik[\"kategorie\"] = kategorie\n",
        "#    slovnik[\"mesic\"] = mesic\n",
        "#    slovnik[\"Sales\"] = CategorySales\n",
        "\n",
        "df_CatMonSales = pd.DataFrame.from_records(work_list, columns=['kategorie', 'mesic','CategoryRevenue']) # převod listu na data_frame\n",
        "\n",
        "print(df_CatMonSales.to_markdown())"
      ],
      "metadata": {
        "id": "7a4DCsQ4Yu5E",
        "outputId": "a6d0e05a-80e2-4fab-bcd9-d934a545e6b7",
        "colab": {
          "base_uri": "https://localhost:8080/"
        }
      },
      "execution_count": null,
      "outputs": [
        {
          "output_type": "stream",
          "name": "stdout",
          "text": [
            "|    | kategorie   | mesic   |   CategoryRevenue |\n",
            "|---:|:------------|:--------|------------------:|\n",
            "|  0 | Drinkware   | Jan     |           441.868 |\n",
            "|  1 | Bags        | Jan     |            84.375 |\n",
            "|  2 | Nest-USA    | Jan     |           819.846 |\n",
            "|  3 | Apparel     | Jan     |           191.771 |\n",
            "|  4 | Lifestyle   | Jan     |             8.343 |\n",
            "|  5 | Office      | Jan     |           181.779 |\n",
            "|  6 | Drinkware   | Feb     |             0     |\n",
            "|  7 | Bags        | Feb     |             0     |\n",
            "|  8 | Nest-USA    | Feb     |             0     |\n",
            "|  9 | Apparel     | Feb     |             0     |\n",
            "| 10 | Lifestyle   | Feb     |             0     |\n",
            "| 11 | Office      | Feb     |             0     |\n",
            "| 12 | Drinkware   | Mar     |             0     |\n",
            "| 13 | Bags        | Mar     |             0     |\n",
            "| 14 | Nest-USA    | Mar     |             0     |\n",
            "| 15 | Apparel     | Mar     |             0     |\n",
            "| 16 | Lifestyle   | Mar     |             0     |\n",
            "| 17 | Office      | Mar     |             0     |\n",
            "| 18 | Drinkware   | Apr     |             0     |\n",
            "| 19 | Bags        | Apr     |             0     |\n",
            "| 20 | Nest-USA    | Apr     |             0     |\n",
            "| 21 | Apparel     | Apr     |             0     |\n",
            "| 22 | Lifestyle   | Apr     |             0     |\n",
            "| 23 | Office      | Apr     |             0     |\n",
            "| 24 | Drinkware   | May     |             0     |\n",
            "| 25 | Bags        | May     |             0     |\n",
            "| 26 | Nest-USA    | May     |             0     |\n",
            "| 27 | Apparel     | May     |             0     |\n",
            "| 28 | Lifestyle   | May     |             0     |\n",
            "| 29 | Office      | May     |             0     |\n",
            "| 30 | Drinkware   | Jun     |             0     |\n",
            "| 31 | Bags        | Jun     |             0     |\n",
            "| 32 | Nest-USA    | Jun     |             0     |\n",
            "| 33 | Apparel     | Jun     |             0     |\n",
            "| 34 | Lifestyle   | Jun     |             0     |\n",
            "| 35 | Office      | Jun     |             0     |\n",
            "| 36 | Drinkware   | Jul     |             0     |\n",
            "| 37 | Bags        | Jul     |             0     |\n",
            "| 38 | Nest-USA    | Jul     |             0     |\n",
            "| 39 | Apparel     | Jul     |             0     |\n",
            "| 40 | Lifestyle   | Jul     |             0     |\n",
            "| 41 | Office      | Jul     |             0     |\n",
            "| 42 | Drinkware   | Aug     |             0     |\n",
            "| 43 | Bags        | Aug     |             0     |\n",
            "| 44 | Nest-USA    | Aug     |             0     |\n",
            "| 45 | Apparel     | Aug     |             0     |\n",
            "| 46 | Lifestyle   | Aug     |             0     |\n",
            "| 47 | Office      | Aug     |             0     |\n",
            "| 48 | Drinkware   | Sep     |             0     |\n",
            "| 49 | Bags        | Sep     |             0     |\n",
            "| 50 | Nest-USA    | Sep     |             0     |\n",
            "| 51 | Apparel     | Sep     |             0     |\n",
            "| 52 | Lifestyle   | Sep     |             0     |\n",
            "| 53 | Office      | Sep     |             0     |\n",
            "| 54 | Drinkware   | Oct     |             0     |\n",
            "| 55 | Bags        | Oct     |             0     |\n",
            "| 56 | Nest-USA    | Oct     |             0     |\n",
            "| 57 | Apparel     | Oct     |             0     |\n",
            "| 58 | Lifestyle   | Oct     |             0     |\n",
            "| 59 | Office      | Oct     |             0     |\n",
            "| 60 | Drinkware   | Nov     |             0     |\n",
            "| 61 | Bags        | Nov     |             0     |\n",
            "| 62 | Nest-USA    | Nov     |             0     |\n",
            "| 63 | Apparel     | Nov     |             0     |\n",
            "| 64 | Lifestyle   | Nov     |             0     |\n",
            "| 65 | Office      | Nov     |             0     |\n",
            "| 66 | Drinkware   | Dec     |             0     |\n",
            "| 67 | Bags        | Dec     |             0     |\n",
            "| 68 | Nest-USA    | Dec     |             0     |\n",
            "| 69 | Apparel     | Dec     |             0     |\n",
            "| 70 | Lifestyle   | Dec     |             0     |\n",
            "| 71 | Office      | Dec     |             0     |\n"
          ]
        }
      ]
    },
    {
      "cell_type": "code",
      "source": [
        "# Specify categories to plot\n",
        "categories_to_plot = ['Apparel']\n",
        "\n",
        "# Filter data for desired categories\n",
        "filtered_data = df_CatMonSales[df_CatMonSales['kategorie'].isin(categories_to_plot)]\n",
        "\n",
        "# Create plot (replace with your desired plot type)\n",
        "plt.plot(filtered_data[\"mesic\"], filtered_data[\"CategoryRevenue\"])\n",
        "plt.xlabel('Month')\n",
        "plt.ylabel('Revenue')\n",
        "plt.title('Plot of Apparel Revenue')\n",
        "plt.show()"
      ],
      "metadata": {
        "id": "EDucS6Zy5Zns",
        "outputId": "b7f1fa66-5039-4b2a-9e25-fd565b8ffc69",
        "colab": {
          "base_uri": "https://localhost:8080/",
          "height": 472
        }
      },
      "execution_count": null,
      "outputs": [
        {
          "output_type": "display_data",
          "data": {
            "text/plain": [
              "<Figure size 640x480 with 1 Axes>"
            ],
            "image/png": "[encoded data removed]"
          },
          "metadata": {}
        }
      ]
    }
  ]
}