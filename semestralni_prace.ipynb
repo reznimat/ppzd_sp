{
  "nbformat": 4,
  "nbformat_minor": 0,
  "metadata": {
    "colab": {
      "provenance": [],
      "toc_visible": true,
      "authorship_tag": "ABX9TyMMEU9zFiuS/6yC17rZpqHi",
      "include_colab_link": true
    },
    "kernelspec": {
      "name": "python3",
      "display_name": "Python 3"
    },
    "language_info": {
      "name": "python"
    }
  },
  "cells": [
    {
      "cell_type": "markdown",
      "metadata": {
        "id": "view-in-github",
        "colab_type": "text"
      },
      "source": [
        "<a href=\"https://colab.research.google.com/github/reznimat/ppzd_sp/blob/main/semestralni_prace.ipynb\" target=\"_parent\"><img src=\"https://colab.research.google.com/assets/colab-badge.svg\" alt=\"Open In Colab\"/></a>"
      ]
    },
    {
      "cell_type": "markdown",
      "source": [
        "**Načtení knihoven**"
      ],
      "metadata": {
        "id": "iNSCLwPV8KFw"
      }
    },
    {
      "cell_type": "code",
      "source": [
        "import csv\n",
        "import pandas as pd\n",
        "import math as mt"
      ],
      "metadata": {
        "id": "Fx7NIFKj8G8z"
      },
      "execution_count": 65,
      "outputs": []
    },
    {
      "cell_type": "markdown",
      "source": [
        "**Načtení datových souborů**"
      ],
      "metadata": {
        "id": "WKohccUD7Sgu"
      }
    },
    {
      "cell_type": "code",
      "execution_count": 66,
      "metadata": {
        "colab": {
          "base_uri": "https://localhost:8080/"
        },
        "id": "62D1J0lwqqpz",
        "outputId": "c612b036-ec6f-4724-cf6b-0da3d3eb21ca"
      },
      "outputs": [
        {
          "output_type": "stream",
          "name": "stdout",
          "text": [
            "**Sales**\n",
            "CustomerID             30\n",
            "Transaction_ID         30\n",
            "Transaction_Date       30\n",
            "Product_SKU            30\n",
            "Product_Description    30\n",
            "Product_Category       30\n",
            "Quantity               30\n",
            "Avg_Price              30\n",
            "Delivery_Charges       30\n",
            "Coupon_Status          30\n",
            "dtype: int64\n",
            "\n",
            "------\n",
            "\n",
            "**Coupons**\n",
            "Month               204\n",
            "Product_Category    204\n",
            "Coupon_Code         204\n",
            "Discount_pct        204\n",
            "dtype: int64\n"
          ]
        }
      ],
      "source": [
        "# POZOR, pouze vzorek dat\n",
        "url_sales = 'https://raw.githubusercontent.com/reznimat/ppzd_sp/main/SAMPLE_Online_Sales.csv'\n",
        "#url_sales = 'https://raw.githubusercontent.com/reznimat/ppzd_sp/main/Online_Sales.csv'\n",
        "df_sales = pd.read_csv(url_sales)\n",
        "\n",
        "url_coupons = 'https://raw.githubusercontent.com/reznimat/ppzd_sp/main/Discount_Coupon.csv'\n",
        "df_coupons = pd.read_csv(url_coupons,sep=\";\")\n",
        "\n",
        "print('**Sales**')\n",
        "print(df_sales.count())\n",
        "print('\\n------\\n')\n",
        "print('**Coupons**')\n",
        "print(df_coupons.count())\n"
      ]
    },
    {
      "cell_type": "markdown",
      "source": [
        "**Obohacení df_sales o atribut Month (Date Abrv)**"
      ],
      "metadata": {
        "id": "ddUgo2YULu-U"
      }
    },
    {
      "cell_type": "code",
      "source": [
        "# Obohacení df_sales o Month pole\n",
        "for i, row in df_sales.iterrows():\n",
        "  Month = pd.to_datetime(row.Transaction_Date).strftime(\"%b\")\n",
        "  df_sales[\"Month\"] = Month\n",
        "\n",
        "print('**Sales**')\n",
        "print(df_sales.count())"
      ],
      "metadata": {
        "colab": {
          "base_uri": "https://localhost:8080/"
        },
        "id": "j2Zmc30QJZRy",
        "outputId": "0b709ccd-be47-4f65-84fa-b05a6c12589b"
      },
      "execution_count": 67,
      "outputs": [
        {
          "output_type": "stream",
          "name": "stdout",
          "text": [
            "**Sales**\n",
            "CustomerID             30\n",
            "Transaction_ID         30\n",
            "Transaction_Date       30\n",
            "Product_SKU            30\n",
            "Product_Description    30\n",
            "Product_Category       30\n",
            "Quantity               30\n",
            "Avg_Price              30\n",
            "Delivery_Charges       30\n",
            "Coupon_Status          30\n",
            "Month                  30\n",
            "dtype: int64\n"
          ]
        }
      ]
    },
    {
      "cell_type": "markdown",
      "source": [
        "**Spojení sales a coupons tabulek přes Product_Category a Month**"
      ],
      "metadata": {
        "id": "QSprzQTzMACk"
      }
    },
    {
      "cell_type": "code",
      "source": [
        "#Merge Sales a Coupons na základě Product Category a Month\n",
        "df_sales_coupons = pd.merge(df_sales,df_coupons, on=[\"Product_Category\",\"Month\"])\n",
        "\n",
        "print(df_sales_coupons.count())"
      ],
      "metadata": {
        "colab": {
          "base_uri": "https://localhost:8080/"
        },
        "id": "S5aamdr6MIQP",
        "outputId": "716b74fb-02ac-42e8-d703-10212f9c22f8"
      },
      "execution_count": 68,
      "outputs": [
        {
          "output_type": "stream",
          "name": "stdout",
          "text": [
            "CustomerID             30\n",
            "Transaction_ID         30\n",
            "Transaction_Date       30\n",
            "Product_SKU            30\n",
            "Product_Description    30\n",
            "Product_Category       30\n",
            "Quantity               30\n",
            "Avg_Price              30\n",
            "Delivery_Charges       30\n",
            "Coupon_Status          30\n",
            "Month                  30\n",
            "Coupon_Code            30\n",
            "Discount_pct           30\n",
            "dtype: int64\n"
          ]
        }
      ]
    },
    {
      "cell_type": "markdown",
      "source": [
        "**Počet a výpis jedinečných produktových kategorií**"
      ],
      "metadata": {
        "id": "yPs5tmfQ7pls"
      }
    },
    {
      "cell_type": "code",
      "source": [
        "# Počet a výpis distinktních produktových kategorií\n",
        "uniqPC = set()\n",
        "for i, row in df_sales.iterrows():\n",
        "  uniqPC.add(row[\"Product_Category\"])\n",
        "\n",
        "print(\"Produktových kategorií: \"+ str(len(uniqPC)) )  # vypíše počet produktových kategorií\n",
        "print(uniqPC)  # vypíše seznam produktových kategorií"
      ],
      "metadata": {
        "colab": {
          "base_uri": "https://localhost:8080/"
        },
        "id": "h6V-Fgpg7qJL",
        "outputId": "e3d526ec-8b67-4245-b94e-1a7a9134a92f"
      },
      "execution_count": 78,
      "outputs": [
        {
          "output_type": "stream",
          "name": "stdout",
          "text": [
            "Produktových kategorií: 6\n",
            "{'Bags', 'Nest-USA', 'Apparel', 'Office', 'Lifestyle', 'Drinkware'}\n"
          ]
        }
      ]
    },
    {
      "cell_type": "markdown",
      "source": [
        "**Suma tržeb pro kategorii Apparel**"
      ],
      "metadata": {
        "id": "xacjIhxA72w-"
      }
    },
    {
      "cell_type": "code",
      "source": [
        "# Hint: InvoiceValue = (( QuantityAvg_price)(1-Dicount_pct)*(1+GST))+Delivery_Charges\n",
        "# nejsou započítány náklady na dopravu a daně\n",
        "\n",
        "ApparelSales = 0\n",
        "AvgOrderPrice = 0\n",
        "\n",
        "for i, row in df_sales_coupons.iterrows():\n",
        "  if row.Product_Category == 'Apparel':\n",
        "    if row.Coupon_Status =='Not Used':\n",
        "      ApparelSales += (row.Quantity*row.Avg_Price) # Bez slevy\n",
        "    else:\n",
        "      ApparelSales += (row.Quantity*row.Avg_Price)*(1-(row.Discount_pct/100)) # Se slevou\n",
        "\n",
        "print(ApparelSales)"
      ],
      "metadata": {
        "colab": {
          "base_uri": "https://localhost:8080/"
        },
        "id": "uy-669Yw73G-",
        "outputId": "e6eabf1f-2aa3-4cdc-f4fa-07449cf73f33"
      },
      "execution_count": 70,
      "outputs": [
        {
          "output_type": "stream",
          "name": "stdout",
          "text": [
            "191.77100000000002\n"
          ]
        }
      ]
    },
    {
      "cell_type": "code",
      "source": [
        "uniqMnth = set()\n",
        "for i, row in df_sales.iterrows():\n",
        "  uniqMnth.add(row[\"Month\"])\n",
        "\n",
        "print(uniqMnth)"
      ],
      "metadata": {
        "id": "byz6KiuNvcaH",
        "outputId": "d4da4551-1d07-421c-a7ab-88d704e19f45",
        "colab": {
          "base_uri": "https://localhost:8080/"
        }
      },
      "execution_count": 85,
      "outputs": [
        {
          "output_type": "stream",
          "name": "stdout",
          "text": [
            "{'Jan'}\n"
          ]
        }
      ]
    },
    {
      "cell_type": "markdown",
      "source": [
        "**Tržby po kategoriích a měsících**"
      ],
      "metadata": {
        "id": "OlDiUSblYJUx"
      }
    },
    {
      "cell_type": "code",
      "source": [
        "\n",
        "for kategorie in uniqPC:\n",
        "  for mesic in uniqMnth:\n",
        "    CategorySales = 0\n",
        "    for i, row in df_sales_coupons.iterrows():\n",
        "      if row.Product_Category == kategorie and row.Month == mesic:\n",
        "        if row.Coupon_Status =='Not Used':\n",
        "          CategorySales += (row.Quantity*row.Avg_Price) # Bez slevy\n",
        "        else:\n",
        "          CategorySales += (row.Quantity*row.Avg_Price)*(1-(row.Discount_pct/100)) # Se slevou\n",
        "\n",
        "    print(kategorie, mesic, CategorySales)"
      ],
      "metadata": {
        "colab": {
          "base_uri": "https://localhost:8080/"
        },
        "id": "zlisU2XgYNJz",
        "outputId": "0dc3902f-1e53-4c4a-cfa4-8c6dfb4ceeed"
      },
      "execution_count": 91,
      "outputs": [
        {
          "output_type": "stream",
          "name": "stdout",
          "text": [
            "Bags Jan 84.375\n",
            "Nest-USA Jan 819.846\n",
            "Apparel Jan 191.77100000000002\n",
            "Office Jan 181.77900000000002\n",
            "Lifestyle Jan 8.343\n",
            "Drinkware Jan 441.86800000000005\n"
          ]
        }
      ]
    }
  ]
}